{
 "cells": [
  {
   "cell_type": "markdown",
   "metadata": {
    "colab_type": "text",
    "id": "aO-7t1Y7-hV4"
   },
   "source": [
    "# Import Libraries"
   ]
  },
  {
   "cell_type": "code",
   "execution_count": 1,
   "metadata": {
    "colab": {},
    "colab_type": "code",
    "id": "wePdX3_qnaPX",
    "outputId": "237a6280-f20c-4ccd-c5e0-a1bd1c0fab40",
    "pycharm": {
     "is_executing": false
    }
   },
   "outputs": [
    {
     "name": "stdout",
     "output_type": "stream",
     "text": [
      "Model execution started at:Fri Jun 30 23:03:17 2023\n"
     ]
    }
   ],
   "source": [
    "%config IPCompleter.greedy=True\n",
    "import datetime\n",
    "print(\"Model execution started at:\" + datetime.datetime.today().ctime())\n",
    "# import os.path\n",
    "# from pathlib import Path\n",
    "# Path(os.getcwd()).resolve().as_posix()"
   ]
  },
  {
   "cell_type": "code",
   "execution_count": 2,
   "metadata": {
    "colab": {},
    "colab_type": "code",
    "id": "8kH16rnZ7wt_",
    "pycharm": {
     "is_executing": false
    }
   },
   "outputs": [
    {
     "name": "stderr",
     "output_type": "stream",
     "text": [
      "C:\\Users\\abhij\\anaconda3\\envs\\pytorch\\lib\\site-packages\\paramiko\\transport.py:219: CryptographyDeprecationWarning: Blowfish has been deprecated\n",
      "  \"class\": algorithms.Blowfish,\n"
     ]
    }
   ],
   "source": [
    "import src.dataset.dataset as dst\n",
    "import src.dataset.dataloader as dl\n",
    "import src.preprocessing.albumentationstransforms as preprocessing\n",
    "import src.utils.utils as utils\n",
    "import src.models.train_model as train\n",
    "import src.visualization.plotdata as plotdata\n",
    "import src.preprocessing.customcompose as customcompose"
   ]
  },
  {
   "cell_type": "code",
   "execution_count": 3,
   "metadata": {
    "colab": {
     "base_uri": "https://localhost:8080/",
     "height": 295
    },
    "colab_type": "code",
    "id": "Y4pGGPo0H7QM",
    "outputId": "1a9a47c7-c1d5-4223-dc03-a2d1a0168a66",
    "pycharm": {
     "is_executing": false
    }
   },
   "outputs": [],
   "source": [
    "def printgpuinfo():\n",
    "    gpu_info = !nvidia-smi\n",
    "    gpu_info = '\\n'.join(gpu_info)\n",
    "    if gpu_info.find('failed') >= 0:\n",
    "      print('Select the Runtime → \"Change runtime type\" menu to enable a GPU accelerator, ')\n",
    "      print('and then re-execute this cell.')\n",
    "    else:\n",
    "      print(gpu_info)"
   ]
  },
  {
   "cell_type": "code",
   "execution_count": 4,
   "metadata": {
    "colab": {},
    "colab_type": "code",
    "id": "aqLk2ZwYH9PQ",
    "pycharm": {
     "is_executing": false
    }
   },
   "outputs": [],
   "source": [
    "def showsysteminfo():\n",
    "    from psutil import virtual_memory\n",
    "    ram_gb = virtual_memory().total / 1e9\n",
    "    print('Your runtime has {:.1f} gigabytes of available RAM\\n'.format(ram_gb))\n",
    "\n",
    "    if ram_gb < 20:\n",
    "      print('To enable a high-RAM runtime, select the Runtime → \"Change runtime type\"')\n",
    "      print('menu, and then select High-RAM in the Runtime shape dropdown. Then, ')\n",
    "      print('re-execute this cell.')\n",
    "    else:\n",
    "      print('You are using a high-RAM runtime!')"
   ]
  },
  {
   "cell_type": "code",
   "execution_count": 5,
   "metadata": {
    "colab": {},
    "colab_type": "code",
    "id": "0k-00HKfnaPs",
    "outputId": "1f33be0b-c119-42c6-8554-6e0b7607841d",
    "pycharm": {
     "is_executing": false
    }
   },
   "outputs": [
    {
     "name": "stdout",
     "output_type": "stream",
     "text": [
      "2.0.1\n"
     ]
    }
   ],
   "source": [
    "# !nvidia-smi --query-gpu=gpu_name,gpu_bus_id,vbios_version --format=csv\n",
    "# showsysteminfo()\n",
    "import torch\n",
    "print(torch.__version__)"
   ]
  },
  {
   "cell_type": "code",
   "execution_count": 6,
   "metadata": {
    "colab": {},
    "colab_type": "code",
    "id": "7ZuuPkUbnaPw",
    "pycharm": {
     "is_executing": false
    }
   },
   "outputs": [
    {
     "name": "stdout",
     "output_type": "stream",
     "text": [
      "std={0} [0.5, 0.5, 0.5]\n",
      "mean={0} [0.5, 0.5, 0.5]\n"
     ]
    }
   ],
   "source": [
    "# mean,std= utils.Utils.calculatemeanandstddeviation()\n",
    "mean=[0.5,0.5,0.5]\n",
    "std=[0.5,0.5,0.5]\n",
    "print(\"std={0}\",std)\n",
    "print(\"mean={0}\",mean)\n",
    "preproc = preprocessing.AlbumentaionsTransforms()\n",
    "train_transforms = preproc.gettraintransforms(mean,std)\n",
    "test_transforms = preproc.gettesttransforms(mean,std)\n",
    "compose_train = customcompose.CustomCompose(train_transforms)\n",
    "compose_test = customcompose.CustomCompose(test_transforms)"
   ]
  },
  {
   "cell_type": "code",
   "execution_count": 7,
   "metadata": {
    "colab": {},
    "colab_type": "code",
    "id": "YtssFUKb-jqx",
    "pycharm": {
     "is_executing": false
    }
   },
   "outputs": [
    {
     "name": "stdout",
     "output_type": "stream",
     "text": [
      "Files already downloaded and verified\n",
      "Files already downloaded and verified\n"
     ]
    }
   ],
   "source": [
    "ds = dst.Dataset()\n",
    "train_dataset = ds.gettraindataset(compose_train)\n",
    "test_dataset = ds.gettestdataset(compose_test)"
   ]
  },
  {
   "cell_type": "code",
   "execution_count": 8,
   "metadata": {
    "colab": {},
    "colab_type": "code",
    "id": "_4A84rlfDA23",
    "pycharm": {
     "is_executing": false
    }
   },
   "outputs": [
    {
     "name": "stdout",
     "output_type": "stream",
     "text": [
      "CUDA Available? True\n",
      "128\n"
     ]
    }
   ],
   "source": [
    "batch_size = 128\n",
    "dataloader = dl.Cifar10Dataloader(traindataset=train_dataset, testdataset=test_dataset,batch_size=batch_size)\n",
    "train_loader = dataloader.gettraindataloader()\n",
    "test_loader = dataloader.gettestdataloader()"
   ]
  },
  {
   "cell_type": "code",
   "execution_count": 9,
   "metadata": {
    "colab": {
     "base_uri": "https://localhost:8080/",
     "height": 34
    },
    "colab_type": "code",
    "id": "C8OLDR79DrHG",
    "outputId": "678f75da-f482-409d-f76e-36e1a3bbf54c",
    "pycharm": {
     "is_executing": false
    }
   },
   "outputs": [
    {
     "data": {
      "image/png": "[encoded data removed]",
      "text/plain": [
       "<Figure size 2500x400 with 20 Axes>"
      ]
     },
     "metadata": {},
     "output_type": "display_data"
    }
   ],
   "source": [
    "# specify the image classes\n",
    "classes = ['airplane', 'automobile', 'bird', 'cat', 'deer',\n",
    "           'dog', 'frog', 'horse', 'ship', 'truck']\n",
    "\n",
    "dataiterator = iter(train_loader)\n",
    "plotdata.PlotData.showImagesfromdataset(dataiterator,classes=classes)"
   ]
  },
  {
   "cell_type": "code",
   "execution_count": 10,
   "metadata": {
    "colab": {
     "base_uri": "https://localhost:8080/",
     "height": 491
    },
    "colab_type": "code",
    "id": "hWZPPo3yEHDW",
    "outputId": "dc455d25-a1b9-4b97-d1cb-bbdc6c38399d",
    "pycharm": {
     "is_executing": false
    }
   },
   "outputs": [
    {
     "name": "stdout",
     "output_type": "stream",
     "text": [
      "cuda\n",
      "----------------------------------------------------------------\n",
      "        Layer (type)               Output Shape         Param #\n",
      "================================================================\n",
      "            Conv2d-1           [-1, 32, 32, 32]             864\n",
      "       BatchNorm2d-2           [-1, 32, 32, 32]              64\n",
      "              ReLU-3           [-1, 32, 32, 32]               0\n",
      "           Dropout-4           [-1, 32, 32, 32]               0\n",
      "            Conv2d-5           [-1, 32, 32, 32]             288\n",
      "            Conv2d-6           [-1, 32, 32, 32]           1,056\n",
      "DepthwiseSeparableConv2d-7           [-1, 32, 32, 32]               0\n",
      "       BatchNorm2d-8           [-1, 32, 32, 32]              64\n",
      "              ReLU-9           [-1, 32, 32, 32]               0\n",
      "          Dropout-10           [-1, 32, 32, 32]               0\n",
      "           Conv2d-11           [-1, 64, 15, 15]          18,432\n",
      "      BatchNorm2d-12           [-1, 64, 15, 15]             128\n",
      "             ReLU-13           [-1, 64, 15, 15]               0\n",
      "          Dropout-14           [-1, 64, 15, 15]               0\n",
      "           Conv2d-15           [-1, 32, 15, 15]          18,432\n",
      "      BatchNorm2d-16           [-1, 32, 15, 15]              64\n",
      "             ReLU-17           [-1, 32, 15, 15]               0\n",
      "          Dropout-18           [-1, 32, 15, 15]               0\n",
      "           Conv2d-19           [-1, 32, 15, 15]             288\n",
      "           Conv2d-20           [-1, 32, 15, 15]           1,056\n",
      "DepthwiseSeparableConv2d-21           [-1, 32, 15, 15]               0\n",
      "      BatchNorm2d-22           [-1, 32, 15, 15]              64\n",
      "             ReLU-23           [-1, 32, 15, 15]               0\n",
      "          Dropout-24           [-1, 32, 15, 15]               0\n",
      "           Conv2d-25             [-1, 64, 8, 8]          18,432\n",
      "      BatchNorm2d-26             [-1, 64, 8, 8]             128\n",
      "             ReLU-27             [-1, 64, 8, 8]               0\n",
      "          Dropout-28             [-1, 64, 8, 8]               0\n",
      "           Conv2d-29             [-1, 32, 8, 8]          18,432\n",
      "      BatchNorm2d-30             [-1, 32, 8, 8]              64\n",
      "             ReLU-31             [-1, 32, 8, 8]               0\n",
      "          Dropout-32             [-1, 32, 8, 8]               0\n",
      "           Conv2d-33             [-1, 32, 8, 8]             288\n",
      "           Conv2d-34             [-1, 32, 8, 8]           1,056\n",
      "DepthwiseSeparableConv2d-35             [-1, 32, 8, 8]               0\n",
      "      BatchNorm2d-36             [-1, 32, 8, 8]              64\n",
      "             ReLU-37             [-1, 32, 8, 8]               0\n",
      "          Dropout-38             [-1, 32, 8, 8]               0\n",
      "           Conv2d-39             [-1, 64, 4, 4]          18,432\n",
      "      BatchNorm2d-40             [-1, 64, 4, 4]             128\n",
      "             ReLU-41             [-1, 64, 4, 4]               0\n",
      "          Dropout-42             [-1, 64, 4, 4]               0\n",
      "           Conv2d-43             [-1, 32, 4, 4]          18,432\n",
      "      BatchNorm2d-44             [-1, 32, 4, 4]              64\n",
      "             ReLU-45             [-1, 32, 4, 4]               0\n",
      "          Dropout-46             [-1, 32, 4, 4]               0\n",
      "           Conv2d-47             [-1, 32, 4, 4]             288\n",
      "           Conv2d-48             [-1, 32, 4, 4]           1,056\n",
      "DepthwiseSeparableConv2d-49             [-1, 32, 4, 4]               0\n",
      "      BatchNorm2d-50             [-1, 32, 4, 4]              64\n",
      "             ReLU-51             [-1, 32, 4, 4]               0\n",
      "          Dropout-52             [-1, 32, 4, 4]               0\n",
      "           Conv2d-53             [-1, 64, 2, 2]          18,432\n",
      "      BatchNorm2d-54             [-1, 64, 2, 2]             128\n",
      "             ReLU-55             [-1, 64, 2, 2]               0\n",
      "          Dropout-56             [-1, 64, 2, 2]               0\n",
      "        AvgPool2d-57             [-1, 64, 1, 1]               0\n",
      "           Linear-58                   [-1, 10]             640\n",
      "================================================================\n",
      "Total params: 136,928\n",
      "Trainable params: 136,928\n",
      "Non-trainable params: 0\n",
      "----------------------------------------------------------------\n",
      "Input size (MB): 0.01\n",
      "Forward/backward pass size (MB): 3.85\n",
      "Params size (MB): 0.52\n",
      "Estimated Total Size (MB): 4.38\n",
      "----------------------------------------------------------------\n"
     ]
    }
   ],
   "source": [
    "cnn_model, device = utils.Utils.createmodel()\n",
    "train_model = train.TrainModel()\n",
    "train_model.showmodelsummary(cnn_model)"
   ]
  },
  {
   "cell_type": "code",
   "execution_count": 11,
   "metadata": {
    "pycharm": {
     "is_executing": false
    }
   },
   "outputs": [],
   "source": [
    "optimizer = utils.Utils.createoptimizer(cnn_model, lr=0.03, momentum=0.9, weight_decay=0)\n",
    "scheduler = utils.Utils.createscheduler(optimizer, mode='max', factor=0.9, patience=5,\n",
    "                                        verbose=True)"
   ]
  },
  {
   "cell_type": "code",
   "execution_count": 12,
   "metadata": {
    "colab": {
     "base_uri": "https://localhost:8080/",
     "height": 246
    },
    "colab_type": "code",
    "id": "hXXAg8hbK16u",
    "outputId": "45faab6a-4a85-4846-be9f-5e4e2a29b61e",
    "pycharm": {
     "is_executing": false
    }
   },
   "outputs": [
    {
     "name": "stdout",
     "output_type": "stream",
     "text": [
      "EPOCH: 1\n"
     ]
    },
    {
     "name": "stderr",
     "output_type": "stream",
     "text": [
      "  0%|                                                                                                                                                                                                      | 0/391 [00:00<?, ?it/s]C:\\Users\\abhij\\anaconda3\\envs\\pytorch\\lib\\site-packages\\torch\\nn\\_reduction.py:42: UserWarning: size_average and reduce args will be deprecated, please use reduction='sum' instead.\n",
      "  warnings.warn(warning.format(ret))\n",
      "Loss=1.587733507156372 Batch_id=390 Accuracy=28.97: 100%|████████████████████████████████████████████████████████████████████████████████████████████████████████████████████████████████████████| 391/391 [00:18<00:00, 21.66it/s]\n"
     ]
    },
    {
     "name": "stdout",
     "output_type": "stream",
     "text": [
      "\n",
      "Test set: Average loss: 0.0148, Accuracy: 3542/10000 (35.42%)\n",
      "\n",
      "Validation accuracy increased (0.000000 --> 35.420000).  Saving model ...\n",
      "Learning rate = 0.03  for epoch:  2\n",
      "EPOCH: 2\n"
     ]
    },
    {
     "name": "stderr",
     "output_type": "stream",
     "text": [
      "Loss=1.4292353391647339 Batch_id=390 Accuracy=36.96: 100%|███████████████████████████████████████████████████████████████████████████████████████████████████████████████████████████████████████| 391/391 [00:15<00:00, 25.33it/s]\n"
     ]
    },
    {
     "name": "stdout",
     "output_type": "stream",
     "text": [
      "\n",
      "Test set: Average loss: 0.0115, Accuracy: 4600/10000 (46.00%)\n",
      "\n",
      "Validation accuracy increased (35.420000 --> 46.000000).  Saving model ...\n",
      "Learning rate = 0.03  for epoch:  3\n",
      "EPOCH: 3\n"
     ]
    },
    {
     "name": "stderr",
     "output_type": "stream",
     "text": [
      "Loss=1.7278703451156616 Batch_id=390 Accuracy=40.26: 100%|███████████████████████████████████████████████████████████████████████████████████████████████████████████████████████████████████████| 391/391 [00:15<00:00, 24.79it/s]\n"
     ]
    },
    {
     "name": "stdout",
     "output_type": "stream",
     "text": [
      "\n",
      "Test set: Average loss: 0.0114, Accuracy: 4656/10000 (46.56%)\n",
      "\n",
      "Validation accuracy increased (46.000000 --> 46.560000).  Saving model ...\n",
      "Learning rate = 0.03  for epoch:  4\n",
      "EPOCH: 4\n"
     ]
    },
    {
     "name": "stderr",
     "output_type": "stream",
     "text": [
      "Loss=1.6239770650863647 Batch_id=390 Accuracy=42.47: 100%|███████████████████████████████████████████████████████████████████████████████████████████████████████████████████████████████████████| 391/391 [00:15<00:00, 25.34it/s]\n"
     ]
    },
    {
     "name": "stdout",
     "output_type": "stream",
     "text": [
      "\n",
      "Test set: Average loss: 0.0113, Accuracy: 4771/10000 (47.71%)\n",
      "\n",
      "Validation accuracy increased (46.560000 --> 47.710000).  Saving model ...\n",
      "Learning rate = 0.03  for epoch:  5\n",
      "EPOCH: 5\n"
     ]
    },
    {
     "name": "stderr",
     "output_type": "stream",
     "text": [
      "Loss=1.6723238229751587 Batch_id=390 Accuracy=44.18: 100%|███████████████████████████████████████████████████████████████████████████████████████████████████████████████████████████████████████| 391/391 [00:15<00:00, 24.99it/s]\n"
     ]
    },
    {
     "name": "stdout",
     "output_type": "stream",
     "text": [
      "\n",
      "Test set: Average loss: 0.0102, Accuracy: 5253/10000 (52.53%)\n",
      "\n",
      "Validation accuracy increased (47.710000 --> 52.530000).  Saving model ...\n",
      "Learning rate = 0.03  for epoch:  6\n",
      "EPOCH: 6\n"
     ]
    },
    {
     "name": "stderr",
     "output_type": "stream",
     "text": [
      "Loss=1.3636046648025513 Batch_id=390 Accuracy=45.94: 100%|███████████████████████████████████████████████████████████████████████████████████████████████████████████████████████████████████████| 391/391 [00:15<00:00, 25.39it/s]\n"
     ]
    },
    {
     "name": "stdout",
     "output_type": "stream",
     "text": [
      "\n",
      "Test set: Average loss: 0.0113, Accuracy: 4950/10000 (49.50%)\n",
      "\n",
      "Learning rate = 0.03  for epoch:  7\n",
      "EPOCH: 7\n"
     ]
    },
    {
     "name": "stderr",
     "output_type": "stream",
     "text": [
      "Loss=1.2679578065872192 Batch_id=390 Accuracy=47.55: 100%|███████████████████████████████████████████████████████████████████████████████████████████████████████████████████████████████████████| 391/391 [00:15<00:00, 24.65it/s]\n"
     ]
    },
    {
     "name": "stdout",
     "output_type": "stream",
     "text": [
      "\n",
      "Test set: Average loss: 0.0100, Accuracy: 5517/10000 (55.17%)\n",
      "\n",
      "Validation accuracy increased (52.530000 --> 55.170000).  Saving model ...\n",
      "Learning rate = 0.03  for epoch:  8\n",
      "EPOCH: 8\n"
     ]
    },
    {
     "name": "stderr",
     "output_type": "stream",
     "text": [
      "Loss=1.5023486614227295 Batch_id=390 Accuracy=48.14: 100%|███████████████████████████████████████████████████████████████████████████████████████████████████████████████████████████████████████| 391/391 [00:16<00:00, 24.44it/s]\n"
     ]
    },
    {
     "name": "stdout",
     "output_type": "stream",
     "text": [
      "\n",
      "Test set: Average loss: 0.0097, Accuracy: 5598/10000 (55.98%)\n",
      "\n",
      "Validation accuracy increased (55.170000 --> 55.980000).  Saving model ...\n",
      "Learning rate = 0.03  for epoch:  9\n",
      "EPOCH: 9\n"
     ]
    },
    {
     "name": "stderr",
     "output_type": "stream",
     "text": [
      "Loss=1.4097696542739868 Batch_id=390 Accuracy=49.34: 100%|███████████████████████████████████████████████████████████████████████████████████████████████████████████████████████████████████████| 391/391 [00:15<00:00, 25.20it/s]\n"
     ]
    },
    {
     "name": "stdout",
     "output_type": "stream",
     "text": [
      "\n",
      "Test set: Average loss: 0.0090, Accuracy: 5902/10000 (59.02%)\n",
      "\n",
      "Validation accuracy increased (55.980000 --> 59.020000).  Saving model ...\n",
      "Learning rate = 0.03  for epoch:  10\n",
      "EPOCH: 10\n"
     ]
    },
    {
     "name": "stderr",
     "output_type": "stream",
     "text": [
      "Loss=1.3760290145874023 Batch_id=390 Accuracy=49.78: 100%|███████████████████████████████████████████████████████████████████████████████████████████████████████████████████████████████████████| 391/391 [00:15<00:00, 24.72it/s]\n"
     ]
    },
    {
     "name": "stdout",
     "output_type": "stream",
     "text": [
      "\n",
      "Test set: Average loss: 0.0094, Accuracy: 5823/10000 (58.23%)\n",
      "\n",
      "Learning rate = 0.03  for epoch:  11\n",
      "EPOCH: 11\n"
     ]
    },
    {
     "name": "stderr",
     "output_type": "stream",
     "text": [
      "Loss=1.4615615606307983 Batch_id=390 Accuracy=50.60: 100%|███████████████████████████████████████████████████████████████████████████████████████████████████████████████████████████████████████| 391/391 [00:15<00:00, 24.95it/s]\n"
     ]
    },
    {
     "name": "stdout",
     "output_type": "stream",
     "text": [
      "\n",
      "Test set: Average loss: 0.0090, Accuracy: 5954/10000 (59.54%)\n",
      "\n",
      "Validation accuracy increased (59.020000 --> 59.540000).  Saving model ...\n",
      "Learning rate = 0.03  for epoch:  12\n",
      "EPOCH: 12\n"
     ]
    },
    {
     "name": "stderr",
     "output_type": "stream",
     "text": [
      "Loss=1.363328218460083 Batch_id=390 Accuracy=51.94: 100%|████████████████████████████████████████████████████████████████████████████████████████████████████████████████████████████████████████| 391/391 [00:15<00:00, 24.94it/s]\n"
     ]
    },
    {
     "name": "stdout",
     "output_type": "stream",
     "text": [
      "\n",
      "Test set: Average loss: 0.0098, Accuracy: 5715/10000 (57.15%)\n",
      "\n",
      "Learning rate = 0.03  for epoch:  13\n",
      "EPOCH: 13\n"
     ]
    },
    {
     "name": "stderr",
     "output_type": "stream",
     "text": [
      "Loss=1.2734506130218506 Batch_id=390 Accuracy=52.75: 100%|███████████████████████████████████████████████████████████████████████████████████████████████████████████████████████████████████████| 391/391 [00:15<00:00, 25.15it/s]\n"
     ]
    },
    {
     "name": "stdout",
     "output_type": "stream",
     "text": [
      "\n",
      "Test set: Average loss: 0.0098, Accuracy: 5819/10000 (58.19%)\n",
      "\n",
      "Learning rate = 0.03  for epoch:  14\n",
      "EPOCH: 14\n"
     ]
    },
    {
     "name": "stderr",
     "output_type": "stream",
     "text": [
      "Loss=1.284436583518982 Batch_id=390 Accuracy=53.19: 100%|████████████████████████████████████████████████████████████████████████████████████████████████████████████████████████████████████████| 391/391 [00:15<00:00, 25.33it/s]\n"
     ]
    },
    {
     "name": "stdout",
     "output_type": "stream",
     "text": [
      "\n",
      "Test set: Average loss: 0.0094, Accuracy: 5936/10000 (59.36%)\n",
      "\n",
      "Learning rate = 0.03  for epoch:  15\n",
      "EPOCH: 15\n"
     ]
    },
    {
     "name": "stderr",
     "output_type": "stream",
     "text": [
      "Loss=1.4164142608642578 Batch_id=390 Accuracy=53.27: 100%|███████████████████████████████████████████████████████████████████████████████████████████████████████████████████████████████████████| 391/391 [00:15<00:00, 25.37it/s]\n"
     ]
    },
    {
     "name": "stdout",
     "output_type": "stream",
     "text": [
      "\n",
      "Test set: Average loss: 0.0086, Accuracy: 6213/10000 (62.13%)\n",
      "\n",
      "Validation accuracy increased (59.540000 --> 62.130000).  Saving model ...\n",
      "Learning rate = 0.03  for epoch:  16\n",
      "EPOCH: 16\n"
     ]
    },
    {
     "name": "stderr",
     "output_type": "stream",
     "text": [
      "Loss=1.276554822921753 Batch_id=390 Accuracy=54.00: 100%|████████████████████████████████████████████████████████████████████████████████████████████████████████████████████████████████████████| 391/391 [00:15<00:00, 25.28it/s]\n"
     ]
    },
    {
     "name": "stdout",
     "output_type": "stream",
     "text": [
      "\n",
      "Test set: Average loss: 0.0098, Accuracy: 5866/10000 (58.66%)\n",
      "\n",
      "Learning rate = 0.03  for epoch:  17\n",
      "EPOCH: 17\n"
     ]
    },
    {
     "name": "stderr",
     "output_type": "stream",
     "text": [
      "Loss=1.208247423171997 Batch_id=390 Accuracy=54.49: 100%|████████████████████████████████████████████████████████████████████████████████████████████████████████████████████████████████████████| 391/391 [00:15<00:00, 25.54it/s]\n"
     ]
    },
    {
     "name": "stdout",
     "output_type": "stream",
     "text": [
      "\n",
      "Test set: Average loss: 0.0086, Accuracy: 6174/10000 (61.74%)\n",
      "\n",
      "Learning rate = 0.03  for epoch:  18\n",
      "EPOCH: 18\n"
     ]
    },
    {
     "name": "stderr",
     "output_type": "stream",
     "text": [
      "Loss=1.1718474626541138 Batch_id=390 Accuracy=55.09: 100%|███████████████████████████████████████████████████████████████████████████████████████████████████████████████████████████████████████| 391/391 [00:15<00:00, 25.31it/s]\n"
     ]
    },
    {
     "name": "stdout",
     "output_type": "stream",
     "text": [
      "\n",
      "Test set: Average loss: 0.0085, Accuracy: 6285/10000 (62.85%)\n",
      "\n",
      "Validation accuracy increased (62.130000 --> 62.850000).  Saving model ...\n",
      "Learning rate = 0.03  for epoch:  19\n",
      "EPOCH: 19\n"
     ]
    },
    {
     "name": "stderr",
     "output_type": "stream",
     "text": [
      "Loss=1.1986685991287231 Batch_id=390 Accuracy=55.60: 100%|███████████████████████████████████████████████████████████████████████████████████████████████████████████████████████████████████████| 391/391 [00:15<00:00, 24.66it/s]\n"
     ]
    },
    {
     "name": "stdout",
     "output_type": "stream",
     "text": [
      "\n",
      "Test set: Average loss: 0.0087, Accuracy: 6202/10000 (62.02%)\n",
      "\n",
      "Learning rate = 0.03  for epoch:  20\n",
      "EPOCH: 20\n"
     ]
    },
    {
     "name": "stderr",
     "output_type": "stream",
     "text": [
      "Loss=1.3774663209915161 Batch_id=390 Accuracy=55.70: 100%|███████████████████████████████████████████████████████████████████████████████████████████████████████████████████████████████████████| 391/391 [00:15<00:00, 25.49it/s]\n"
     ]
    },
    {
     "name": "stdout",
     "output_type": "stream",
     "text": [
      "\n",
      "Test set: Average loss: 0.0083, Accuracy: 6336/10000 (63.36%)\n",
      "\n",
      "Validation accuracy increased (62.850000 --> 63.360000).  Saving model ...\n",
      "Learning rate = 0.03  for epoch:  21\n",
      "EPOCH: 21\n"
     ]
    },
    {
     "name": "stderr",
     "output_type": "stream",
     "text": [
      "Loss=1.431537389755249 Batch_id=390 Accuracy=56.12: 100%|████████████████████████████████████████████████████████████████████████████████████████████████████████████████████████████████████████| 391/391 [00:16<00:00, 24.12it/s]\n"
     ]
    },
    {
     "name": "stdout",
     "output_type": "stream",
     "text": [
      "\n",
      "Test set: Average loss: 0.0082, Accuracy: 6388/10000 (63.88%)\n",
      "\n",
      "Validation accuracy increased (63.360000 --> 63.880000).  Saving model ...\n",
      "Learning rate = 0.03  for epoch:  22\n",
      "EPOCH: 22\n"
     ]
    },
    {
     "name": "stderr",
     "output_type": "stream",
     "text": [
      "Loss=1.2291336059570312 Batch_id=390 Accuracy=56.74: 100%|███████████████████████████████████████████████████████████████████████████████████████████████████████████████████████████████████████| 391/391 [00:15<00:00, 25.07it/s]\n"
     ]
    },
    {
     "name": "stdout",
     "output_type": "stream",
     "text": [
      "\n",
      "Test set: Average loss: 0.0084, Accuracy: 6422/10000 (64.22%)\n",
      "\n",
      "Validation accuracy increased (63.880000 --> 64.220000).  Saving model ...\n",
      "Learning rate = 0.03  for epoch:  23\n",
      "EPOCH: 23\n"
     ]
    },
    {
     "name": "stderr",
     "output_type": "stream",
     "text": [
      "Loss=1.2371959686279297 Batch_id=390 Accuracy=56.98: 100%|███████████████████████████████████████████████████████████████████████████████████████████████████████████████████████████████████████| 391/391 [00:15<00:00, 24.56it/s]\n"
     ]
    },
    {
     "name": "stdout",
     "output_type": "stream",
     "text": [
      "\n",
      "Test set: Average loss: 0.0083, Accuracy: 6426/10000 (64.26%)\n",
      "\n",
      "Validation accuracy increased (64.220000 --> 64.260000).  Saving model ...\n",
      "Learning rate = 0.03  for epoch:  24\n",
      "EPOCH: 24\n"
     ]
    },
    {
     "name": "stderr",
     "output_type": "stream",
     "text": [
      "Loss=1.031156301498413 Batch_id=390 Accuracy=57.60: 100%|████████████████████████████████████████████████████████████████████████████████████████████████████████████████████████████████████████| 391/391 [00:16<00:00, 24.13it/s]\n"
     ]
    },
    {
     "name": "stdout",
     "output_type": "stream",
     "text": [
      "\n",
      "Test set: Average loss: 0.0078, Accuracy: 6506/10000 (65.06%)\n",
      "\n",
      "Validation accuracy increased (64.260000 --> 65.060000).  Saving model ...\n",
      "Learning rate = 0.03  for epoch:  25\n",
      "EPOCH: 25\n"
     ]
    },
    {
     "name": "stderr",
     "output_type": "stream",
     "text": [
      "Loss=1.3633100986480713 Batch_id=390 Accuracy=57.29: 100%|███████████████████████████████████████████████████████████████████████████████████████████████████████████████████████████████████████| 391/391 [00:16<00:00, 23.76it/s]\n"
     ]
    },
    {
     "name": "stdout",
     "output_type": "stream",
     "text": [
      "\n",
      "Test set: Average loss: 0.0083, Accuracy: 6512/10000 (65.12%)\n",
      "\n",
      "Validation accuracy increased (65.060000 --> 65.120000).  Saving model ...\n",
      "Learning rate = 0.03  for epoch:  26\n",
      "EPOCH: 26\n"
     ]
    },
    {
     "name": "stderr",
     "output_type": "stream",
     "text": [
      "Loss=1.1480931043624878 Batch_id=390 Accuracy=57.92: 100%|███████████████████████████████████████████████████████████████████████████████████████████████████████████████████████████████████████| 391/391 [00:16<00:00, 24.15it/s]\n"
     ]
    },
    {
     "name": "stdout",
     "output_type": "stream",
     "text": [
      "\n",
      "Test set: Average loss: 0.0078, Accuracy: 6547/10000 (65.47%)\n",
      "\n",
      "Validation accuracy increased (65.120000 --> 65.470000).  Saving model ...\n",
      "Learning rate = 0.03  for epoch:  27\n",
      "EPOCH: 27\n"
     ]
    },
    {
     "name": "stderr",
     "output_type": "stream",
     "text": [
      "Loss=1.3642725944519043 Batch_id=390 Accuracy=58.03: 100%|███████████████████████████████████████████████████████████████████████████████████████████████████████████████████████████████████████| 391/391 [00:16<00:00, 24.11it/s]\n"
     ]
    },
    {
     "name": "stdout",
     "output_type": "stream",
     "text": [
      "\n",
      "Test set: Average loss: 0.0071, Accuracy: 6816/10000 (68.16%)\n",
      "\n",
      "Validation accuracy increased (65.470000 --> 68.160000).  Saving model ...\n",
      "Learning rate = 0.03  for epoch:  28\n",
      "EPOCH: 28\n"
     ]
    },
    {
     "name": "stderr",
     "output_type": "stream",
     "text": [
      "Loss=1.4493285417556763 Batch_id=390 Accuracy=58.45: 100%|███████████████████████████████████████████████████████████████████████████████████████████████████████████████████████████████████████| 391/391 [00:15<00:00, 24.59it/s]\n"
     ]
    },
    {
     "name": "stdout",
     "output_type": "stream",
     "text": [
      "\n",
      "Test set: Average loss: 0.0077, Accuracy: 6710/10000 (67.10%)\n",
      "\n",
      "Learning rate = 0.03  for epoch:  29\n",
      "EPOCH: 29\n"
     ]
    },
    {
     "name": "stderr",
     "output_type": "stream",
     "text": [
      "Loss=1.1799763441085815 Batch_id=390 Accuracy=58.54: 100%|███████████████████████████████████████████████████████████████████████████████████████████████████████████████████████████████████████| 391/391 [00:15<00:00, 24.69it/s]\n"
     ]
    },
    {
     "name": "stdout",
     "output_type": "stream",
     "text": [
      "\n",
      "Test set: Average loss: 0.0074, Accuracy: 6731/10000 (67.31%)\n",
      "\n",
      "Learning rate = 0.03  for epoch:  30\n",
      "EPOCH: 30\n"
     ]
    },
    {
     "name": "stderr",
     "output_type": "stream",
     "text": [
      "Loss=1.2246357202529907 Batch_id=390 Accuracy=58.76: 100%|███████████████████████████████████████████████████████████████████████████████████████████████████████████████████████████████████████| 391/391 [00:15<00:00, 24.64it/s]\n"
     ]
    },
    {
     "name": "stdout",
     "output_type": "stream",
     "text": [
      "\n",
      "Test set: Average loss: 0.0071, Accuracy: 6885/10000 (68.85%)\n",
      "\n",
      "Validation accuracy increased (68.160000 --> 68.850000).  Saving model ...\n",
      "Learning rate = 0.03  for epoch:  31\n",
      "EPOCH: 31\n"
     ]
    },
    {
     "name": "stderr",
     "output_type": "stream",
     "text": [
      "Loss=0.9176095128059387 Batch_id=390 Accuracy=59.24: 100%|███████████████████████████████████████████████████████████████████████████████████████████████████████████████████████████████████████| 391/391 [00:15<00:00, 25.15it/s]\n"
     ]
    },
    {
     "name": "stdout",
     "output_type": "stream",
     "text": [
      "\n",
      "Test set: Average loss: 0.0075, Accuracy: 6743/10000 (67.43%)\n",
      "\n",
      "Learning rate = 0.03  for epoch:  32\n",
      "EPOCH: 32\n"
     ]
    },
    {
     "name": "stderr",
     "output_type": "stream",
     "text": [
      "Loss=1.0261062383651733 Batch_id=390 Accuracy=59.50: 100%|███████████████████████████████████████████████████████████████████████████████████████████████████████████████████████████████████████| 391/391 [00:15<00:00, 24.46it/s]\n"
     ]
    },
    {
     "name": "stdout",
     "output_type": "stream",
     "text": [
      "\n",
      "Test set: Average loss: 0.0076, Accuracy: 6683/10000 (66.83%)\n",
      "\n",
      "Learning rate = 0.03  for epoch:  33\n",
      "EPOCH: 33\n"
     ]
    },
    {
     "name": "stderr",
     "output_type": "stream",
     "text": [
      "Loss=1.1354472637176514 Batch_id=390 Accuracy=59.59: 100%|███████████████████████████████████████████████████████████████████████████████████████████████████████████████████████████████████████| 391/391 [00:15<00:00, 25.23it/s]\n"
     ]
    },
    {
     "name": "stdout",
     "output_type": "stream",
     "text": [
      "\n",
      "Test set: Average loss: 0.0080, Accuracy: 6642/10000 (66.42%)\n",
      "\n",
      "Learning rate = 0.03  for epoch:  34\n",
      "EPOCH: 34\n"
     ]
    },
    {
     "name": "stderr",
     "output_type": "stream",
     "text": [
      "Loss=1.270339012145996 Batch_id=390 Accuracy=59.92: 100%|████████████████████████████████████████████████████████████████████████████████████████████████████████████████████████████████████████| 391/391 [00:15<00:00, 25.59it/s]\n"
     ]
    },
    {
     "name": "stdout",
     "output_type": "stream",
     "text": [
      "\n",
      "Test set: Average loss: 0.0076, Accuracy: 6721/10000 (67.21%)\n",
      "\n",
      "Learning rate = 0.03  for epoch:  35\n",
      "EPOCH: 35\n"
     ]
    },
    {
     "name": "stderr",
     "output_type": "stream",
     "text": [
      "Loss=1.2246754169464111 Batch_id=390 Accuracy=59.97: 100%|███████████████████████████████████████████████████████████████████████████████████████████████████████████████████████████████████████| 391/391 [00:15<00:00, 25.00it/s]\n"
     ]
    },
    {
     "name": "stdout",
     "output_type": "stream",
     "text": [
      "\n",
      "Test set: Average loss: 0.0070, Accuracy: 6847/10000 (68.47%)\n",
      "\n",
      "Learning rate = 0.03  for epoch:  36\n",
      "EPOCH: 36\n"
     ]
    },
    {
     "name": "stderr",
     "output_type": "stream",
     "text": [
      "Loss=1.1476905345916748 Batch_id=390 Accuracy=60.26: 100%|███████████████████████████████████████████████████████████████████████████████████████████████████████████████████████████████████████| 391/391 [00:15<00:00, 25.17it/s]\n"
     ]
    },
    {
     "name": "stdout",
     "output_type": "stream",
     "text": [
      "\n",
      "Test set: Average loss: 0.0071, Accuracy: 6903/10000 (69.03%)\n",
      "\n",
      "Validation accuracy increased (68.850000 --> 69.030000).  Saving model ...\n",
      "Epoch 00036: reducing learning rate of group 0 to 2.7000e-02.\n",
      "Learning rate = 0.027  for epoch:  37\n",
      "EPOCH: 37\n"
     ]
    },
    {
     "name": "stderr",
     "output_type": "stream",
     "text": [
      "Loss=0.9644361734390259 Batch_id=390 Accuracy=60.84: 100%|███████████████████████████████████████████████████████████████████████████████████████████████████████████████████████████████████████| 391/391 [00:15<00:00, 25.11it/s]\n"
     ]
    },
    {
     "name": "stdout",
     "output_type": "stream",
     "text": [
      "\n",
      "Test set: Average loss: 0.0070, Accuracy: 6871/10000 (68.71%)\n",
      "\n",
      "Learning rate = 0.027  for epoch:  38\n",
      "EPOCH: 38\n"
     ]
    },
    {
     "name": "stderr",
     "output_type": "stream",
     "text": [
      "Loss=1.2698415517807007 Batch_id=390 Accuracy=60.92: 100%|███████████████████████████████████████████████████████████████████████████████████████████████████████████████████████████████████████| 391/391 [00:15<00:00, 25.47it/s]\n"
     ]
    },
    {
     "name": "stdout",
     "output_type": "stream",
     "text": [
      "\n",
      "Test set: Average loss: 0.0069, Accuracy: 7040/10000 (70.40%)\n",
      "\n",
      "Validation accuracy increased (69.030000 --> 70.400000).  Saving model ...\n",
      "Learning rate = 0.027  for epoch:  39\n",
      "EPOCH: 39\n"
     ]
    },
    {
     "name": "stderr",
     "output_type": "stream",
     "text": [
      "Loss=1.3062820434570312 Batch_id=390 Accuracy=61.11: 100%|███████████████████████████████████████████████████████████████████████████████████████████████████████████████████████████████████████| 391/391 [00:15<00:00, 25.07it/s]\n"
     ]
    },
    {
     "name": "stdout",
     "output_type": "stream",
     "text": [
      "\n",
      "Test set: Average loss: 0.0071, Accuracy: 6920/10000 (69.20%)\n",
      "\n",
      "Learning rate = 0.027  for epoch:  40\n",
      "EPOCH: 40\n"
     ]
    },
    {
     "name": "stderr",
     "output_type": "stream",
     "text": [
      "Loss=1.2690856456756592 Batch_id=390 Accuracy=61.42: 100%|███████████████████████████████████████████████████████████████████████████████████████████████████████████████████████████████████████| 391/391 [00:15<00:00, 25.34it/s]\n"
     ]
    },
    {
     "name": "stdout",
     "output_type": "stream",
     "text": [
      "\n",
      "Test set: Average loss: 0.0064, Accuracy: 7203/10000 (72.03%)\n",
      "\n",
      "Validation accuracy increased (70.400000 --> 72.030000).  Saving model ...\n",
      "Learning rate = 0.027  for epoch:  41\n",
      "EPOCH: 41\n"
     ]
    },
    {
     "name": "stderr",
     "output_type": "stream",
     "text": [
      "Loss=0.9921797513961792 Batch_id=390 Accuracy=61.24: 100%|███████████████████████████████████████████████████████████████████████████████████████████████████████████████████████████████████████| 391/391 [00:15<00:00, 24.93it/s]\n"
     ]
    },
    {
     "name": "stdout",
     "output_type": "stream",
     "text": [
      "\n",
      "Test set: Average loss: 0.0063, Accuracy: 7209/10000 (72.09%)\n",
      "\n",
      "Validation accuracy increased (72.030000 --> 72.090000).  Saving model ...\n",
      "Learning rate = 0.027  for epoch:  42\n",
      "EPOCH: 42\n"
     ]
    },
    {
     "name": "stderr",
     "output_type": "stream",
     "text": [
      "Loss=1.021315336227417 Batch_id=390 Accuracy=61.63: 100%|████████████████████████████████████████████████████████████████████████████████████████████████████████████████████████████████████████| 391/391 [00:15<00:00, 25.07it/s]\n"
     ]
    },
    {
     "name": "stdout",
     "output_type": "stream",
     "text": [
      "\n",
      "Test set: Average loss: 0.0070, Accuracy: 6981/10000 (69.81%)\n",
      "\n",
      "Learning rate = 0.027  for epoch:  43\n",
      "EPOCH: 43\n"
     ]
    },
    {
     "name": "stderr",
     "output_type": "stream",
     "text": [
      "Loss=1.1065198183059692 Batch_id=390 Accuracy=61.99: 100%|███████████████████████████████████████████████████████████████████████████████████████████████████████████████████████████████████████| 391/391 [00:15<00:00, 25.68it/s]\n"
     ]
    },
    {
     "name": "stdout",
     "output_type": "stream",
     "text": [
      "\n",
      "Test set: Average loss: 0.0066, Accuracy: 7130/10000 (71.30%)\n",
      "\n",
      "Learning rate = 0.027  for epoch:  44\n",
      "EPOCH: 44\n"
     ]
    },
    {
     "name": "stderr",
     "output_type": "stream",
     "text": [
      "Loss=1.1583832502365112 Batch_id=390 Accuracy=61.69: 100%|███████████████████████████████████████████████████████████████████████████████████████████████████████████████████████████████████████| 391/391 [00:15<00:00, 25.19it/s]\n"
     ]
    },
    {
     "name": "stdout",
     "output_type": "stream",
     "text": [
      "\n",
      "Test set: Average loss: 0.0070, Accuracy: 6992/10000 (69.92%)\n",
      "\n",
      "Learning rate = 0.027  for epoch:  45\n",
      "EPOCH: 45\n"
     ]
    },
    {
     "name": "stderr",
     "output_type": "stream",
     "text": [
      "Loss=1.1787807941436768 Batch_id=390 Accuracy=62.11: 100%|███████████████████████████████████████████████████████████████████████████████████████████████████████████████████████████████████████| 391/391 [00:15<00:00, 25.67it/s]\n"
     ]
    },
    {
     "name": "stdout",
     "output_type": "stream",
     "text": [
      "\n",
      "Test set: Average loss: 0.0072, Accuracy: 6943/10000 (69.43%)\n",
      "\n",
      "Learning rate = 0.027  for epoch:  46\n",
      "EPOCH: 46\n"
     ]
    },
    {
     "name": "stderr",
     "output_type": "stream",
     "text": [
      "Loss=1.0376532077789307 Batch_id=390 Accuracy=62.12: 100%|███████████████████████████████████████████████████████████████████████████████████████████████████████████████████████████████████████| 391/391 [00:15<00:00, 25.08it/s]\n"
     ]
    },
    {
     "name": "stdout",
     "output_type": "stream",
     "text": [
      "\n",
      "Test set: Average loss: 0.0067, Accuracy: 7130/10000 (71.30%)\n",
      "\n",
      "Epoch 00046: reducing learning rate of group 0 to 2.4300e-02.\n",
      "Learning rate = 0.0243  for epoch:  47\n",
      "EPOCH: 47\n"
     ]
    },
    {
     "name": "stderr",
     "output_type": "stream",
     "text": [
      "Loss=1.1121957302093506 Batch_id=390 Accuracy=62.53: 100%|███████████████████████████████████████████████████████████████████████████████████████████████████████████████████████████████████████| 391/391 [00:15<00:00, 25.63it/s]\n"
     ]
    },
    {
     "name": "stdout",
     "output_type": "stream",
     "text": [
      "\n",
      "Test set: Average loss: 0.0063, Accuracy: 7177/10000 (71.77%)\n",
      "\n",
      "Learning rate = 0.0243  for epoch:  48\n",
      "EPOCH: 48\n"
     ]
    },
    {
     "name": "stderr",
     "output_type": "stream",
     "text": [
      "Loss=0.8202260136604309 Batch_id=390 Accuracy=62.37: 100%|███████████████████████████████████████████████████████████████████████████████████████████████████████████████████████████████████████| 391/391 [00:15<00:00, 25.34it/s]\n"
     ]
    },
    {
     "name": "stdout",
     "output_type": "stream",
     "text": [
      "\n",
      "Test set: Average loss: 0.0066, Accuracy: 7082/10000 (70.82%)\n",
      "\n",
      "Learning rate = 0.0243  for epoch:  49\n",
      "EPOCH: 49\n"
     ]
    },
    {
     "name": "stderr",
     "output_type": "stream",
     "text": [
      "Loss=0.9794138669967651 Batch_id=390 Accuracy=62.72: 100%|███████████████████████████████████████████████████████████████████████████████████████████████████████████████████████████████████████| 391/391 [00:15<00:00, 25.37it/s]\n"
     ]
    },
    {
     "name": "stdout",
     "output_type": "stream",
     "text": [
      "\n",
      "Test set: Average loss: 0.0074, Accuracy: 6886/10000 (68.86%)\n",
      "\n",
      "Learning rate = 0.0243  for epoch:  50\n",
      "EPOCH: 50\n"
     ]
    },
    {
     "name": "stderr",
     "output_type": "stream",
     "text": [
      "Loss=1.0449450016021729 Batch_id=390 Accuracy=62.76: 100%|███████████████████████████████████████████████████████████████████████████████████████████████████████████████████████████████████████| 391/391 [00:15<00:00, 25.38it/s]\n"
     ]
    },
    {
     "name": "stdout",
     "output_type": "stream",
     "text": [
      "\n",
      "Test set: Average loss: 0.0062, Accuracy: 7212/10000 (72.12%)\n",
      "\n",
      "Validation accuracy increased (72.090000 --> 72.120000).  Saving model ...\n",
      "Learning rate = 0.0243  for epoch:  51\n",
      "EPOCH: 51\n"
     ]
    },
    {
     "name": "stderr",
     "output_type": "stream",
     "text": [
      "Loss=1.0412414073944092 Batch_id=390 Accuracy=62.49: 100%|███████████████████████████████████████████████████████████████████████████████████████████████████████████████████████████████████████| 391/391 [00:15<00:00, 25.16it/s]\n"
     ]
    },
    {
     "name": "stdout",
     "output_type": "stream",
     "text": [
      "\n",
      "Test set: Average loss: 0.0068, Accuracy: 7150/10000 (71.50%)\n",
      "\n",
      "Learning rate = 0.0243  for epoch:  52\n",
      "EPOCH: 52\n"
     ]
    },
    {
     "name": "stderr",
     "output_type": "stream",
     "text": [
      "Loss=1.0911834239959717 Batch_id=390 Accuracy=63.15: 100%|███████████████████████████████████████████████████████████████████████████████████████████████████████████████████████████████████████| 391/391 [00:15<00:00, 25.10it/s]\n"
     ]
    },
    {
     "name": "stdout",
     "output_type": "stream",
     "text": [
      "\n",
      "Test set: Average loss: 0.0072, Accuracy: 6990/10000 (69.90%)\n",
      "\n",
      "Epoch 00052: reducing learning rate of group 0 to 2.1870e-02.\n",
      "Learning rate = 0.02187  for epoch:  53\n",
      "EPOCH: 53\n"
     ]
    },
    {
     "name": "stderr",
     "output_type": "stream",
     "text": [
      "Loss=0.9530290365219116 Batch_id=390 Accuracy=63.21: 100%|███████████████████████████████████████████████████████████████████████████████████████████████████████████████████████████████████████| 391/391 [00:15<00:00, 25.58it/s]\n"
     ]
    },
    {
     "name": "stdout",
     "output_type": "stream",
     "text": [
      "\n",
      "Test set: Average loss: 0.0064, Accuracy: 7192/10000 (71.92%)\n",
      "\n",
      "Learning rate = 0.02187  for epoch:  54\n",
      "EPOCH: 54\n"
     ]
    },
    {
     "name": "stderr",
     "output_type": "stream",
     "text": [
      "Loss=1.1695754528045654 Batch_id=390 Accuracy=63.60: 100%|███████████████████████████████████████████████████████████████████████████████████████████████████████████████████████████████████████| 391/391 [00:15<00:00, 25.14it/s]\n"
     ]
    },
    {
     "name": "stdout",
     "output_type": "stream",
     "text": [
      "\n",
      "Test set: Average loss: 0.0066, Accuracy: 7121/10000 (71.21%)\n",
      "\n",
      "Learning rate = 0.02187  for epoch:  55\n",
      "EPOCH: 55\n"
     ]
    },
    {
     "name": "stderr",
     "output_type": "stream",
     "text": [
      "Loss=1.029255747795105 Batch_id=390 Accuracy=63.27: 100%|████████████████████████████████████████████████████████████████████████████████████████████████████████████████████████████████████████| 391/391 [00:15<00:00, 25.39it/s]\n"
     ]
    },
    {
     "name": "stdout",
     "output_type": "stream",
     "text": [
      "\n",
      "Test set: Average loss: 0.0064, Accuracy: 7230/10000 (72.30%)\n",
      "\n",
      "Validation accuracy increased (72.120000 --> 72.300000).  Saving model ...\n",
      "Learning rate = 0.02187  for epoch:  56\n",
      "EPOCH: 56\n"
     ]
    },
    {
     "name": "stderr",
     "output_type": "stream",
     "text": [
      "Loss=1.1824759244918823 Batch_id=390 Accuracy=63.41: 100%|███████████████████████████████████████████████████████████████████████████████████████████████████████████████████████████████████████| 391/391 [00:15<00:00, 25.33it/s]\n"
     ]
    },
    {
     "name": "stdout",
     "output_type": "stream",
     "text": [
      "\n",
      "Test set: Average loss: 0.0063, Accuracy: 7265/10000 (72.65%)\n",
      "\n",
      "Validation accuracy increased (72.300000 --> 72.650000).  Saving model ...\n",
      "Learning rate = 0.02187  for epoch:  57\n",
      "EPOCH: 57\n"
     ]
    },
    {
     "name": "stderr",
     "output_type": "stream",
     "text": [
      "Loss=1.0002431869506836 Batch_id=390 Accuracy=63.44: 100%|███████████████████████████████████████████████████████████████████████████████████████████████████████████████████████████████████████| 391/391 [00:15<00:00, 25.14it/s]\n"
     ]
    },
    {
     "name": "stdout",
     "output_type": "stream",
     "text": [
      "\n",
      "Test set: Average loss: 0.0066, Accuracy: 7203/10000 (72.03%)\n",
      "\n",
      "Learning rate = 0.02187  for epoch:  58\n",
      "EPOCH: 58\n"
     ]
    },
    {
     "name": "stderr",
     "output_type": "stream",
     "text": [
      "Loss=1.1133614778518677 Batch_id=390 Accuracy=64.00: 100%|███████████████████████████████████████████████████████████████████████████████████████████████████████████████████████████████████████| 391/391 [00:15<00:00, 25.20it/s]\n"
     ]
    },
    {
     "name": "stdout",
     "output_type": "stream",
     "text": [
      "\n",
      "Test set: Average loss: 0.0062, Accuracy: 7336/10000 (73.36%)\n",
      "\n",
      "Validation accuracy increased (72.650000 --> 73.360000).  Saving model ...\n",
      "Learning rate = 0.02187  for epoch:  59\n",
      "EPOCH: 59\n"
     ]
    },
    {
     "name": "stderr",
     "output_type": "stream",
     "text": [
      "Loss=0.9113782048225403 Batch_id=390 Accuracy=63.72: 100%|███████████████████████████████████████████████████████████████████████████████████████████████████████████████████████████████████████| 391/391 [00:15<00:00, 25.64it/s]\n"
     ]
    },
    {
     "name": "stdout",
     "output_type": "stream",
     "text": [
      "\n",
      "Test set: Average loss: 0.0061, Accuracy: 7348/10000 (73.48%)\n",
      "\n",
      "Validation accuracy increased (73.360000 --> 73.480000).  Saving model ...\n",
      "Learning rate = 0.02187  for epoch:  60\n",
      "EPOCH: 60\n"
     ]
    },
    {
     "name": "stderr",
     "output_type": "stream",
     "text": [
      "Loss=0.861892819404602 Batch_id=390 Accuracy=63.90: 100%|████████████████████████████████████████████████████████████████████████████████████████████████████████████████████████████████████████| 391/391 [00:15<00:00, 24.94it/s]\n"
     ]
    },
    {
     "name": "stdout",
     "output_type": "stream",
     "text": [
      "\n",
      "Test set: Average loss: 0.0063, Accuracy: 7213/10000 (72.13%)\n",
      "\n",
      "Learning rate = 0.02187  for epoch:  61\n",
      "EPOCH: 61\n"
     ]
    },
    {
     "name": "stderr",
     "output_type": "stream",
     "text": [
      "Loss=0.9989439845085144 Batch_id=390 Accuracy=63.69: 100%|███████████████████████████████████████████████████████████████████████████████████████████████████████████████████████████████████████| 391/391 [00:15<00:00, 25.33it/s]\n"
     ]
    },
    {
     "name": "stdout",
     "output_type": "stream",
     "text": [
      "\n",
      "Test set: Average loss: 0.0062, Accuracy: 7314/10000 (73.14%)\n",
      "\n",
      "Learning rate = 0.02187  for epoch:  62\n",
      "EPOCH: 62\n"
     ]
    },
    {
     "name": "stderr",
     "output_type": "stream",
     "text": [
      "Loss=1.1495273113250732 Batch_id=390 Accuracy=63.85: 100%|███████████████████████████████████████████████████████████████████████████████████████████████████████████████████████████████████████| 391/391 [00:15<00:00, 25.35it/s]\n"
     ]
    },
    {
     "name": "stdout",
     "output_type": "stream",
     "text": [
      "\n",
      "Test set: Average loss: 0.0063, Accuracy: 7343/10000 (73.43%)\n",
      "\n",
      "Learning rate = 0.02187  for epoch:  63\n",
      "EPOCH: 63\n"
     ]
    },
    {
     "name": "stderr",
     "output_type": "stream",
     "text": [
      "Loss=1.178527593612671 Batch_id=390 Accuracy=64.08: 100%|████████████████████████████████████████████████████████████████████████████████████████████████████████████████████████████████████████| 391/391 [00:15<00:00, 24.84it/s]\n"
     ]
    },
    {
     "name": "stdout",
     "output_type": "stream",
     "text": [
      "\n",
      "Test set: Average loss: 0.0062, Accuracy: 7346/10000 (73.46%)\n",
      "\n",
      "Learning rate = 0.02187  for epoch:  64\n",
      "EPOCH: 64\n"
     ]
    },
    {
     "name": "stderr",
     "output_type": "stream",
     "text": [
      "Loss=1.156785249710083 Batch_id=390 Accuracy=63.98: 100%|████████████████████████████████████████████████████████████████████████████████████████████████████████████████████████████████████████| 391/391 [00:15<00:00, 25.02it/s]\n"
     ]
    },
    {
     "name": "stdout",
     "output_type": "stream",
     "text": [
      "\n",
      "Test set: Average loss: 0.0061, Accuracy: 7379/10000 (73.79%)\n",
      "\n",
      "Validation accuracy increased (73.480000 --> 73.790000).  Saving model ...\n",
      "Epoch 00064: reducing learning rate of group 0 to 1.9683e-02.\n",
      "Learning rate = 0.019683000000000003  for epoch:  65\n",
      "EPOCH: 65\n"
     ]
    },
    {
     "name": "stderr",
     "output_type": "stream",
     "text": [
      "Loss=1.062185525894165 Batch_id=390 Accuracy=64.62: 100%|████████████████████████████████████████████████████████████████████████████████████████████████████████████████████████████████████████| 391/391 [00:15<00:00, 25.42it/s]\n"
     ]
    },
    {
     "name": "stdout",
     "output_type": "stream",
     "text": [
      "\n",
      "Test set: Average loss: 0.0063, Accuracy: 7269/10000 (72.69%)\n",
      "\n",
      "Learning rate = 0.019683000000000003  for epoch:  66\n",
      "EPOCH: 66\n"
     ]
    },
    {
     "name": "stderr",
     "output_type": "stream",
     "text": [
      "Loss=0.9774380922317505 Batch_id=390 Accuracy=64.21: 100%|███████████████████████████████████████████████████████████████████████████████████████████████████████████████████████████████████████| 391/391 [00:15<00:00, 24.74it/s]\n"
     ]
    },
    {
     "name": "stdout",
     "output_type": "stream",
     "text": [
      "\n",
      "Test set: Average loss: 0.0059, Accuracy: 7440/10000 (74.40%)\n",
      "\n",
      "Validation accuracy increased (73.790000 --> 74.400000).  Saving model ...\n",
      "Learning rate = 0.019683000000000003  for epoch:  67\n",
      "EPOCH: 67\n"
     ]
    },
    {
     "name": "stderr",
     "output_type": "stream",
     "text": [
      "Loss=0.9375743865966797 Batch_id=390 Accuracy=64.56: 100%|███████████████████████████████████████████████████████████████████████████████████████████████████████████████████████████████████████| 391/391 [00:15<00:00, 25.19it/s]\n"
     ]
    },
    {
     "name": "stdout",
     "output_type": "stream",
     "text": [
      "\n",
      "Test set: Average loss: 0.0064, Accuracy: 7306/10000 (73.06%)\n",
      "\n",
      "Learning rate = 0.019683000000000003  for epoch:  68\n",
      "EPOCH: 68\n"
     ]
    },
    {
     "name": "stderr",
     "output_type": "stream",
     "text": [
      "Loss=1.0928775072097778 Batch_id=390 Accuracy=64.60: 100%|███████████████████████████████████████████████████████████████████████████████████████████████████████████████████████████████████████| 391/391 [00:15<00:00, 24.94it/s]\n"
     ]
    },
    {
     "name": "stdout",
     "output_type": "stream",
     "text": [
      "\n",
      "Test set: Average loss: 0.0060, Accuracy: 7430/10000 (74.30%)\n",
      "\n",
      "Learning rate = 0.019683000000000003  for epoch:  69\n",
      "EPOCH: 69\n"
     ]
    },
    {
     "name": "stderr",
     "output_type": "stream",
     "text": [
      "Loss=1.2504702806472778 Batch_id=390 Accuracy=64.33: 100%|███████████████████████████████████████████████████████████████████████████████████████████████████████████████████████████████████████| 391/391 [00:15<00:00, 24.95it/s]\n"
     ]
    },
    {
     "name": "stdout",
     "output_type": "stream",
     "text": [
      "\n",
      "Test set: Average loss: 0.0061, Accuracy: 7366/10000 (73.66%)\n",
      "\n",
      "Learning rate = 0.019683000000000003  for epoch:  70\n",
      "EPOCH: 70\n"
     ]
    },
    {
     "name": "stderr",
     "output_type": "stream",
     "text": [
      "Loss=1.0211659669876099 Batch_id=390 Accuracy=64.67: 100%|███████████████████████████████████████████████████████████████████████████████████████████████████████████████████████████████████████| 391/391 [00:15<00:00, 24.81it/s]\n"
     ]
    },
    {
     "name": "stdout",
     "output_type": "stream",
     "text": [
      "\n",
      "Test set: Average loss: 0.0058, Accuracy: 7501/10000 (75.01%)\n",
      "\n",
      "Validation accuracy increased (74.400000 --> 75.010000).  Saving model ...\n",
      "Learning rate = 0.019683000000000003  for epoch:  71\n",
      "EPOCH: 71\n"
     ]
    },
    {
     "name": "stderr",
     "output_type": "stream",
     "text": [
      "Loss=0.9080413579940796 Batch_id=390 Accuracy=64.43: 100%|███████████████████████████████████████████████████████████████████████████████████████████████████████████████████████████████████████| 391/391 [00:15<00:00, 25.19it/s]\n"
     ]
    },
    {
     "name": "stdout",
     "output_type": "stream",
     "text": [
      "\n",
      "Test set: Average loss: 0.0061, Accuracy: 7384/10000 (73.84%)\n",
      "\n",
      "Learning rate = 0.019683000000000003  for epoch:  72\n",
      "EPOCH: 72\n"
     ]
    },
    {
     "name": "stderr",
     "output_type": "stream",
     "text": [
      "Loss=1.186515212059021 Batch_id=390 Accuracy=64.53: 100%|████████████████████████████████████████████████████████████████████████████████████████████████████████████████████████████████████████| 391/391 [00:15<00:00, 25.22it/s]\n"
     ]
    },
    {
     "name": "stdout",
     "output_type": "stream",
     "text": [
      "\n",
      "Test set: Average loss: 0.0059, Accuracy: 7439/10000 (74.39%)\n",
      "\n",
      "Epoch 00072: reducing learning rate of group 0 to 1.7715e-02.\n",
      "Learning rate = 0.017714700000000003  for epoch:  73\n",
      "EPOCH: 73\n"
     ]
    },
    {
     "name": "stderr",
     "output_type": "stream",
     "text": [
      "Loss=0.8671984672546387 Batch_id=390 Accuracy=64.90: 100%|███████████████████████████████████████████████████████████████████████████████████████████████████████████████████████████████████████| 391/391 [00:15<00:00, 24.91it/s]\n"
     ]
    },
    {
     "name": "stdout",
     "output_type": "stream",
     "text": [
      "\n",
      "Test set: Average loss: 0.0057, Accuracy: 7488/10000 (74.88%)\n",
      "\n",
      "Learning rate = 0.017714700000000003  for epoch:  74\n",
      "EPOCH: 74\n"
     ]
    },
    {
     "name": "stderr",
     "output_type": "stream",
     "text": [
      "Loss=0.9905482530593872 Batch_id=390 Accuracy=64.85: 100%|███████████████████████████████████████████████████████████████████████████████████████████████████████████████████████████████████████| 391/391 [00:15<00:00, 25.42it/s]\n"
     ]
    },
    {
     "name": "stdout",
     "output_type": "stream",
     "text": [
      "\n",
      "Test set: Average loss: 0.0059, Accuracy: 7433/10000 (74.33%)\n",
      "\n",
      "Learning rate = 0.017714700000000003  for epoch:  75\n",
      "EPOCH: 75\n"
     ]
    },
    {
     "name": "stderr",
     "output_type": "stream",
     "text": [
      "Loss=1.0051172971725464 Batch_id=390 Accuracy=64.93: 100%|███████████████████████████████████████████████████████████████████████████████████████████████████████████████████████████████████████| 391/391 [00:15<00:00, 25.16it/s]\n"
     ]
    },
    {
     "name": "stdout",
     "output_type": "stream",
     "text": [
      "\n",
      "Test set: Average loss: 0.0057, Accuracy: 7490/10000 (74.90%)\n",
      "\n",
      "Learning rate = 0.017714700000000003  for epoch:  76\n",
      "EPOCH: 76\n"
     ]
    },
    {
     "name": "stderr",
     "output_type": "stream",
     "text": [
      "Loss=1.1419929265975952 Batch_id=390 Accuracy=64.95: 100%|███████████████████████████████████████████████████████████████████████████████████████████████████████████████████████████████████████| 391/391 [00:15<00:00, 24.69it/s]\n"
     ]
    },
    {
     "name": "stdout",
     "output_type": "stream",
     "text": [
      "\n",
      "Test set: Average loss: 0.0059, Accuracy: 7457/10000 (74.57%)\n",
      "\n",
      "Learning rate = 0.017714700000000003  for epoch:  77\n",
      "EPOCH: 77\n"
     ]
    },
    {
     "name": "stderr",
     "output_type": "stream",
     "text": [
      "Loss=1.1070425510406494 Batch_id=390 Accuracy=64.92: 100%|███████████████████████████████████████████████████████████████████████████████████████████████████████████████████████████████████████| 391/391 [00:15<00:00, 25.07it/s]\n"
     ]
    },
    {
     "name": "stdout",
     "output_type": "stream",
     "text": [
      "\n",
      "Test set: Average loss: 0.0058, Accuracy: 7413/10000 (74.13%)\n",
      "\n",
      "Learning rate = 0.017714700000000003  for epoch:  78\n",
      "EPOCH: 78\n"
     ]
    },
    {
     "name": "stderr",
     "output_type": "stream",
     "text": [
      "Loss=1.1244646310806274 Batch_id=390 Accuracy=65.11: 100%|███████████████████████████████████████████████████████████████████████████████████████████████████████████████████████████████████████| 391/391 [00:15<00:00, 25.00it/s]\n"
     ]
    },
    {
     "name": "stdout",
     "output_type": "stream",
     "text": [
      "\n",
      "Test set: Average loss: 0.0058, Accuracy: 7541/10000 (75.41%)\n",
      "\n",
      "Validation accuracy increased (75.010000 --> 75.410000).  Saving model ...\n",
      "Learning rate = 0.017714700000000003  for epoch:  79\n",
      "EPOCH: 79\n"
     ]
    },
    {
     "name": "stderr",
     "output_type": "stream",
     "text": [
      "Loss=1.0601065158843994 Batch_id=390 Accuracy=65.35: 100%|███████████████████████████████████████████████████████████████████████████████████████████████████████████████████████████████████████| 391/391 [00:15<00:00, 25.03it/s]\n"
     ]
    },
    {
     "name": "stdout",
     "output_type": "stream",
     "text": [
      "\n",
      "Test set: Average loss: 0.0058, Accuracy: 7481/10000 (74.81%)\n",
      "\n",
      "Learning rate = 0.017714700000000003  for epoch:  80\n",
      "EPOCH: 80\n"
     ]
    },
    {
     "name": "stderr",
     "output_type": "stream",
     "text": [
      "Loss=0.9363828897476196 Batch_id=390 Accuracy=65.13: 100%|███████████████████████████████████████████████████████████████████████████████████████████████████████████████████████████████████████| 391/391 [00:15<00:00, 25.00it/s]\n"
     ]
    },
    {
     "name": "stdout",
     "output_type": "stream",
     "text": [
      "\n",
      "Test set: Average loss: 0.0059, Accuracy: 7509/10000 (75.09%)\n",
      "\n",
      "Learning rate = 0.017714700000000003  for epoch:  81\n",
      "EPOCH: 81\n"
     ]
    },
    {
     "name": "stderr",
     "output_type": "stream",
     "text": [
      "Loss=0.8286617398262024 Batch_id=390 Accuracy=65.21: 100%|███████████████████████████████████████████████████████████████████████████████████████████████████████████████████████████████████████| 391/391 [00:15<00:00, 24.95it/s]\n"
     ]
    },
    {
     "name": "stdout",
     "output_type": "stream",
     "text": [
      "\n",
      "Test set: Average loss: 0.0058, Accuracy: 7470/10000 (74.70%)\n",
      "\n",
      "Learning rate = 0.017714700000000003  for epoch:  82\n",
      "EPOCH: 82\n"
     ]
    },
    {
     "name": "stderr",
     "output_type": "stream",
     "text": [
      "Loss=0.9175056219100952 Batch_id=390 Accuracy=65.28: 100%|███████████████████████████████████████████████████████████████████████████████████████████████████████████████████████████████████████| 391/391 [00:15<00:00, 25.02it/s]\n"
     ]
    },
    {
     "name": "stdout",
     "output_type": "stream",
     "text": [
      "\n",
      "Test set: Average loss: 0.0057, Accuracy: 7514/10000 (75.14%)\n",
      "\n",
      "Learning rate = 0.017714700000000003  for epoch:  83\n",
      "EPOCH: 83\n"
     ]
    },
    {
     "name": "stderr",
     "output_type": "stream",
     "text": [
      "Loss=0.8539066314697266 Batch_id=390 Accuracy=65.26: 100%|███████████████████████████████████████████████████████████████████████████████████████████████████████████████████████████████████████| 391/391 [00:15<00:00, 24.98it/s]\n"
     ]
    },
    {
     "name": "stdout",
     "output_type": "stream",
     "text": [
      "\n",
      "Test set: Average loss: 0.0058, Accuracy: 7478/10000 (74.78%)\n",
      "\n",
      "Learning rate = 0.017714700000000003  for epoch:  84\n",
      "EPOCH: 84\n"
     ]
    },
    {
     "name": "stderr",
     "output_type": "stream",
     "text": [
      "Loss=1.0817368030548096 Batch_id=390 Accuracy=65.61: 100%|███████████████████████████████████████████████████████████████████████████████████████████████████████████████████████████████████████| 391/391 [00:15<00:00, 25.06it/s]\n"
     ]
    },
    {
     "name": "stdout",
     "output_type": "stream",
     "text": [
      "\n",
      "Test set: Average loss: 0.0058, Accuracy: 7475/10000 (74.75%)\n",
      "\n",
      "Epoch 00084: reducing learning rate of group 0 to 1.5943e-02.\n",
      "Learning rate = 0.015943230000000003  for epoch:  85\n",
      "EPOCH: 85\n"
     ]
    },
    {
     "name": "stderr",
     "output_type": "stream",
     "text": [
      "Loss=0.9396204948425293 Batch_id=390 Accuracy=65.46: 100%|███████████████████████████████████████████████████████████████████████████████████████████████████████████████████████████████████████| 391/391 [00:15<00:00, 25.13it/s]\n"
     ]
    },
    {
     "name": "stdout",
     "output_type": "stream",
     "text": [
      "\n",
      "Test set: Average loss: 0.0055, Accuracy: 7595/10000 (75.95%)\n",
      "\n",
      "Validation accuracy increased (75.410000 --> 75.950000).  Saving model ...\n",
      "Learning rate = 0.015943230000000003  for epoch:  86\n",
      "EPOCH: 86\n"
     ]
    },
    {
     "name": "stderr",
     "output_type": "stream",
     "text": [
      "Loss=1.1296541690826416 Batch_id=390 Accuracy=65.78: 100%|███████████████████████████████████████████████████████████████████████████████████████████████████████████████████████████████████████| 391/391 [00:15<00:00, 25.28it/s]\n"
     ]
    },
    {
     "name": "stdout",
     "output_type": "stream",
     "text": [
      "\n",
      "Test set: Average loss: 0.0054, Accuracy: 7623/10000 (76.23%)\n",
      "\n",
      "Validation accuracy increased (75.950000 --> 76.230000).  Saving model ...\n",
      "Learning rate = 0.015943230000000003  for epoch:  87\n",
      "EPOCH: 87\n"
     ]
    },
    {
     "name": "stderr",
     "output_type": "stream",
     "text": [
      "Loss=1.246211051940918 Batch_id=390 Accuracy=65.85: 100%|████████████████████████████████████████████████████████████████████████████████████████████████████████████████████████████████████████| 391/391 [00:15<00:00, 25.21it/s]\n"
     ]
    },
    {
     "name": "stdout",
     "output_type": "stream",
     "text": [
      "\n",
      "Test set: Average loss: 0.0057, Accuracy: 7548/10000 (75.48%)\n",
      "\n",
      "Learning rate = 0.015943230000000003  for epoch:  88\n",
      "EPOCH: 88\n"
     ]
    },
    {
     "name": "stderr",
     "output_type": "stream",
     "text": [
      "Loss=0.888508141040802 Batch_id=390 Accuracy=65.69: 100%|████████████████████████████████████████████████████████████████████████████████████████████████████████████████████████████████████████| 391/391 [00:15<00:00, 25.12it/s]\n"
     ]
    },
    {
     "name": "stdout",
     "output_type": "stream",
     "text": [
      "\n",
      "Test set: Average loss: 0.0060, Accuracy: 7418/10000 (74.18%)\n",
      "\n",
      "Learning rate = 0.015943230000000003  for epoch:  89\n",
      "EPOCH: 89\n"
     ]
    },
    {
     "name": "stderr",
     "output_type": "stream",
     "text": [
      "Loss=1.126476526260376 Batch_id=390 Accuracy=65.97: 100%|████████████████████████████████████████████████████████████████████████████████████████████████████████████████████████████████████████| 391/391 [00:15<00:00, 25.36it/s]\n"
     ]
    },
    {
     "name": "stdout",
     "output_type": "stream",
     "text": [
      "\n",
      "Test set: Average loss: 0.0057, Accuracy: 7532/10000 (75.32%)\n",
      "\n",
      "Learning rate = 0.015943230000000003  for epoch:  90\n",
      "EPOCH: 90\n"
     ]
    },
    {
     "name": "stderr",
     "output_type": "stream",
     "text": [
      "Loss=0.8796097636222839 Batch_id=390 Accuracy=65.68: 100%|███████████████████████████████████████████████████████████████████████████████████████████████████████████████████████████████████████| 391/391 [00:15<00:00, 25.36it/s]\n"
     ]
    },
    {
     "name": "stdout",
     "output_type": "stream",
     "text": [
      "\n",
      "Test set: Average loss: 0.0056, Accuracy: 7568/10000 (75.68%)\n",
      "\n",
      "Learning rate = 0.015943230000000003  for epoch:  91\n",
      "EPOCH: 91\n"
     ]
    },
    {
     "name": "stderr",
     "output_type": "stream",
     "text": [
      "Loss=0.9768834114074707 Batch_id=390 Accuracy=65.77: 100%|███████████████████████████████████████████████████████████████████████████████████████████████████████████████████████████████████████| 391/391 [00:15<00:00, 25.35it/s]\n"
     ]
    },
    {
     "name": "stdout",
     "output_type": "stream",
     "text": [
      "\n",
      "Test set: Average loss: 0.0055, Accuracy: 7623/10000 (76.23%)\n",
      "\n",
      "Validation accuracy increased (76.230000 --> 76.230000).  Saving model ...\n",
      "Learning rate = 0.015943230000000003  for epoch:  92\n",
      "EPOCH: 92\n"
     ]
    },
    {
     "name": "stderr",
     "output_type": "stream",
     "text": [
      "Loss=0.7691947817802429 Batch_id=390 Accuracy=65.83: 100%|███████████████████████████████████████████████████████████████████████████████████████████████████████████████████████████████████████| 391/391 [00:15<00:00, 25.28it/s]\n"
     ]
    },
    {
     "name": "stdout",
     "output_type": "stream",
     "text": [
      "\n",
      "Test set: Average loss: 0.0056, Accuracy: 7581/10000 (75.81%)\n",
      "\n",
      "Epoch 00092: reducing learning rate of group 0 to 1.4349e-02.\n",
      "Learning rate = 0.014348907000000003  for epoch:  93\n",
      "EPOCH: 93\n"
     ]
    },
    {
     "name": "stderr",
     "output_type": "stream",
     "text": [
      "Loss=0.8283516764640808 Batch_id=390 Accuracy=65.83: 100%|███████████████████████████████████████████████████████████████████████████████████████████████████████████████████████████████████████| 391/391 [00:15<00:00, 25.12it/s]\n"
     ]
    },
    {
     "name": "stdout",
     "output_type": "stream",
     "text": [
      "\n",
      "Test set: Average loss: 0.0060, Accuracy: 7400/10000 (74.00%)\n",
      "\n",
      "Learning rate = 0.014348907000000003  for epoch:  94\n",
      "EPOCH: 94\n"
     ]
    },
    {
     "name": "stderr",
     "output_type": "stream",
     "text": [
      "Loss=1.0573354959487915 Batch_id=390 Accuracy=66.18: 100%|███████████████████████████████████████████████████████████████████████████████████████████████████████████████████████████████████████| 391/391 [00:15<00:00, 25.31it/s]\n"
     ]
    },
    {
     "name": "stdout",
     "output_type": "stream",
     "text": [
      "\n",
      "Test set: Average loss: 0.0057, Accuracy: 7537/10000 (75.37%)\n",
      "\n",
      "Learning rate = 0.014348907000000003  for epoch:  95\n",
      "EPOCH: 95\n"
     ]
    },
    {
     "name": "stderr",
     "output_type": "stream",
     "text": [
      "Loss=0.9627208709716797 Batch_id=390 Accuracy=66.01: 100%|███████████████████████████████████████████████████████████████████████████████████████████████████████████████████████████████████████| 391/391 [00:15<00:00, 25.13it/s]\n"
     ]
    },
    {
     "name": "stdout",
     "output_type": "stream",
     "text": [
      "\n",
      "Test set: Average loss: 0.0059, Accuracy: 7515/10000 (75.15%)\n",
      "\n",
      "Learning rate = 0.014348907000000003  for epoch:  96\n",
      "EPOCH: 96\n"
     ]
    },
    {
     "name": "stderr",
     "output_type": "stream",
     "text": [
      "Loss=1.0260082483291626 Batch_id=390 Accuracy=66.34: 100%|███████████████████████████████████████████████████████████████████████████████████████████████████████████████████████████████████████| 391/391 [00:15<00:00, 25.24it/s]\n"
     ]
    },
    {
     "name": "stdout",
     "output_type": "stream",
     "text": [
      "\n",
      "Test set: Average loss: 0.0058, Accuracy: 7542/10000 (75.42%)\n",
      "\n",
      "Learning rate = 0.014348907000000003  for epoch:  97\n",
      "EPOCH: 97\n"
     ]
    },
    {
     "name": "stderr",
     "output_type": "stream",
     "text": [
      "Loss=0.9002285003662109 Batch_id=390 Accuracy=66.00: 100%|███████████████████████████████████████████████████████████████████████████████████████████████████████████████████████████████████████| 391/391 [00:15<00:00, 25.06it/s]\n"
     ]
    },
    {
     "name": "stdout",
     "output_type": "stream",
     "text": [
      "\n",
      "Test set: Average loss: 0.0056, Accuracy: 7574/10000 (75.74%)\n",
      "\n",
      "Learning rate = 0.014348907000000003  for epoch:  98\n",
      "EPOCH: 98\n"
     ]
    },
    {
     "name": "stderr",
     "output_type": "stream",
     "text": [
      "Loss=1.0541415214538574 Batch_id=390 Accuracy=66.25: 100%|███████████████████████████████████████████████████████████████████████████████████████████████████████████████████████████████████████| 391/391 [00:15<00:00, 25.18it/s]\n"
     ]
    },
    {
     "name": "stdout",
     "output_type": "stream",
     "text": [
      "\n",
      "Test set: Average loss: 0.0057, Accuracy: 7582/10000 (75.82%)\n",
      "\n",
      "Epoch 00098: reducing learning rate of group 0 to 1.2914e-02.\n",
      "Learning rate = 0.012914016300000003  for epoch:  99\n",
      "EPOCH: 99\n"
     ]
    },
    {
     "name": "stderr",
     "output_type": "stream",
     "text": [
      "Loss=0.9499338865280151 Batch_id=390 Accuracy=66.48: 100%|███████████████████████████████████████████████████████████████████████████████████████████████████████████████████████████████████████| 391/391 [00:15<00:00, 25.05it/s]\n"
     ]
    },
    {
     "name": "stdout",
     "output_type": "stream",
     "text": [
      "\n",
      "Test set: Average loss: 0.0056, Accuracy: 7587/10000 (75.87%)\n",
      "\n",
      "Learning rate = 0.012914016300000003  for epoch:  100\n",
      "EPOCH: 100\n"
     ]
    },
    {
     "name": "stderr",
     "output_type": "stream",
     "text": [
      "Loss=1.0217407941818237 Batch_id=390 Accuracy=66.27: 100%|███████████████████████████████████████████████████████████████████████████████████████████████████████████████████████████████████████| 391/391 [00:15<00:00, 25.26it/s]\n"
     ]
    },
    {
     "name": "stdout",
     "output_type": "stream",
     "text": [
      "\n",
      "Test set: Average loss: 0.0057, Accuracy: 7548/10000 (75.48%)\n",
      "\n",
      "Learning rate = 0.012914016300000003  for epoch:  101\n",
      "EPOCH: 101\n"
     ]
    },
    {
     "name": "stderr",
     "output_type": "stream",
     "text": [
      "Loss=0.9328190684318542 Batch_id=390 Accuracy=66.59: 100%|███████████████████████████████████████████████████████████████████████████████████████████████████████████████████████████████████████| 391/391 [00:15<00:00, 25.28it/s]\n"
     ]
    },
    {
     "name": "stdout",
     "output_type": "stream",
     "text": [
      "\n",
      "Test set: Average loss: 0.0059, Accuracy: 7509/10000 (75.09%)\n",
      "\n",
      "Learning rate = 0.012914016300000003  for epoch:  102\n",
      "EPOCH: 102\n"
     ]
    },
    {
     "name": "stderr",
     "output_type": "stream",
     "text": [
      "Loss=0.7158545255661011 Batch_id=390 Accuracy=66.47: 100%|███████████████████████████████████████████████████████████████████████████████████████████████████████████████████████████████████████| 391/391 [00:15<00:00, 24.90it/s]\n"
     ]
    },
    {
     "name": "stdout",
     "output_type": "stream",
     "text": [
      "\n",
      "Test set: Average loss: 0.0058, Accuracy: 7515/10000 (75.15%)\n",
      "\n",
      "Learning rate = 0.012914016300000003  for epoch:  103\n",
      "EPOCH: 103\n"
     ]
    },
    {
     "name": "stderr",
     "output_type": "stream",
     "text": [
      "Loss=0.8567270040512085 Batch_id=390 Accuracy=66.53: 100%|███████████████████████████████████████████████████████████████████████████████████████████████████████████████████████████████████████| 391/391 [00:15<00:00, 25.12it/s]\n"
     ]
    },
    {
     "name": "stdout",
     "output_type": "stream",
     "text": [
      "\n",
      "Test set: Average loss: 0.0057, Accuracy: 7554/10000 (75.54%)\n",
      "\n",
      "Learning rate = 0.012914016300000003  for epoch:  104\n",
      "EPOCH: 104\n"
     ]
    },
    {
     "name": "stderr",
     "output_type": "stream",
     "text": [
      "Loss=0.9718440175056458 Batch_id=390 Accuracy=66.51: 100%|███████████████████████████████████████████████████████████████████████████████████████████████████████████████████████████████████████| 391/391 [00:15<00:00, 25.03it/s]\n"
     ]
    },
    {
     "name": "stdout",
     "output_type": "stream",
     "text": [
      "\n",
      "Test set: Average loss: 0.0060, Accuracy: 7483/10000 (74.83%)\n",
      "\n",
      "Epoch 00104: reducing learning rate of group 0 to 1.1623e-02.\n",
      "Learning rate = 0.011622614670000003  for epoch:  105\n",
      "EPOCH: 105\n"
     ]
    },
    {
     "name": "stderr",
     "output_type": "stream",
     "text": [
      "Loss=0.8795580863952637 Batch_id=390 Accuracy=67.00: 100%|███████████████████████████████████████████████████████████████████████████████████████████████████████████████████████████████████████| 391/391 [00:15<00:00, 25.35it/s]\n"
     ]
    },
    {
     "name": "stdout",
     "output_type": "stream",
     "text": [
      "\n",
      "Test set: Average loss: 0.0055, Accuracy: 7649/10000 (76.49%)\n",
      "\n",
      "Validation accuracy increased (76.230000 --> 76.490000).  Saving model ...\n",
      "Learning rate = 0.011622614670000003  for epoch:  106\n",
      "EPOCH: 106\n"
     ]
    },
    {
     "name": "stderr",
     "output_type": "stream",
     "text": [
      "Loss=0.8476397395133972 Batch_id=390 Accuracy=66.90: 100%|███████████████████████████████████████████████████████████████████████████████████████████████████████████████████████████████████████| 391/391 [00:15<00:00, 24.75it/s]\n"
     ]
    },
    {
     "name": "stdout",
     "output_type": "stream",
     "text": [
      "\n",
      "Test set: Average loss: 0.0055, Accuracy: 7620/10000 (76.20%)\n",
      "\n",
      "Learning rate = 0.011622614670000003  for epoch:  107\n",
      "EPOCH: 107\n"
     ]
    },
    {
     "name": "stderr",
     "output_type": "stream",
     "text": [
      "Loss=0.8875338435173035 Batch_id=390 Accuracy=66.92: 100%|███████████████████████████████████████████████████████████████████████████████████████████████████████████████████████████████████████| 391/391 [00:15<00:00, 25.00it/s]\n"
     ]
    },
    {
     "name": "stdout",
     "output_type": "stream",
     "text": [
      "\n",
      "Test set: Average loss: 0.0055, Accuracy: 7630/10000 (76.30%)\n",
      "\n",
      "Learning rate = 0.011622614670000003  for epoch:  108\n",
      "EPOCH: 108\n"
     ]
    },
    {
     "name": "stderr",
     "output_type": "stream",
     "text": [
      "Loss=0.907784104347229 Batch_id=390 Accuracy=66.86: 100%|████████████████████████████████████████████████████████████████████████████████████████████████████████████████████████████████████████| 391/391 [00:15<00:00, 24.92it/s]\n"
     ]
    },
    {
     "name": "stdout",
     "output_type": "stream",
     "text": [
      "\n",
      "Test set: Average loss: 0.0054, Accuracy: 7681/10000 (76.81%)\n",
      "\n",
      "Validation accuracy increased (76.490000 --> 76.810000).  Saving model ...\n",
      "Learning rate = 0.011622614670000003  for epoch:  109\n",
      "EPOCH: 109\n"
     ]
    },
    {
     "name": "stderr",
     "output_type": "stream",
     "text": [
      "Loss=1.0652462244033813 Batch_id=390 Accuracy=66.73: 100%|███████████████████████████████████████████████████████████████████████████████████████████████████████████████████████████████████████| 391/391 [00:15<00:00, 25.14it/s]\n"
     ]
    },
    {
     "name": "stdout",
     "output_type": "stream",
     "text": [
      "\n",
      "Test set: Average loss: 0.0056, Accuracy: 7586/10000 (75.86%)\n",
      "\n",
      "Learning rate = 0.011622614670000003  for epoch:  110\n",
      "EPOCH: 110\n"
     ]
    },
    {
     "name": "stderr",
     "output_type": "stream",
     "text": [
      "Loss=0.9974309802055359 Batch_id=390 Accuracy=66.88: 100%|███████████████████████████████████████████████████████████████████████████████████████████████████████████████████████████████████████| 391/391 [00:15<00:00, 24.69it/s]\n"
     ]
    },
    {
     "name": "stdout",
     "output_type": "stream",
     "text": [
      "\n",
      "Test set: Average loss: 0.0054, Accuracy: 7669/10000 (76.69%)\n",
      "\n",
      "Epoch 00110: reducing learning rate of group 0 to 1.0460e-02.\n",
      "Learning rate = 0.010460353203000003  for epoch:  111\n",
      "EPOCH: 111\n"
     ]
    },
    {
     "name": "stderr",
     "output_type": "stream",
     "text": [
      "Loss=0.883564293384552 Batch_id=390 Accuracy=67.11: 100%|████████████████████████████████████████████████████████████████████████████████████████████████████████████████████████████████████████| 391/391 [00:15<00:00, 25.13it/s]\n"
     ]
    },
    {
     "name": "stdout",
     "output_type": "stream",
     "text": [
      "\n",
      "Test set: Average loss: 0.0057, Accuracy: 7573/10000 (75.73%)\n",
      "\n",
      "Learning rate = 0.010460353203000003  for epoch:  112\n",
      "EPOCH: 112\n"
     ]
    },
    {
     "name": "stderr",
     "output_type": "stream",
     "text": [
      "Loss=1.1266133785247803 Batch_id=390 Accuracy=66.45: 100%|███████████████████████████████████████████████████████████████████████████████████████████████████████████████████████████████████████| 391/391 [00:15<00:00, 25.00it/s]\n"
     ]
    },
    {
     "name": "stdout",
     "output_type": "stream",
     "text": [
      "\n",
      "Test set: Average loss: 0.0056, Accuracy: 7603/10000 (76.03%)\n",
      "\n",
      "Learning rate = 0.010460353203000003  for epoch:  113\n",
      "EPOCH: 113\n"
     ]
    },
    {
     "name": "stderr",
     "output_type": "stream",
     "text": [
      "Loss=0.9786770939826965 Batch_id=390 Accuracy=67.14: 100%|███████████████████████████████████████████████████████████████████████████████████████████████████████████████████████████████████████| 391/391 [00:15<00:00, 24.96it/s]\n"
     ]
    },
    {
     "name": "stdout",
     "output_type": "stream",
     "text": [
      "\n",
      "Test set: Average loss: 0.0057, Accuracy: 7565/10000 (75.65%)\n",
      "\n",
      "Learning rate = 0.010460353203000003  for epoch:  114\n",
      "EPOCH: 114\n"
     ]
    },
    {
     "name": "stderr",
     "output_type": "stream",
     "text": [
      "Loss=0.7701961994171143 Batch_id=390 Accuracy=67.07: 100%|███████████████████████████████████████████████████████████████████████████████████████████████████████████████████████████████████████| 391/391 [00:15<00:00, 24.94it/s]\n"
     ]
    },
    {
     "name": "stdout",
     "output_type": "stream",
     "text": [
      "\n",
      "Test set: Average loss: 0.0055, Accuracy: 7646/10000 (76.46%)\n",
      "\n",
      "Learning rate = 0.010460353203000003  for epoch:  115\n",
      "EPOCH: 115\n"
     ]
    },
    {
     "name": "stderr",
     "output_type": "stream",
     "text": [
      "Loss=1.1700239181518555 Batch_id=390 Accuracy=67.14: 100%|███████████████████████████████████████████████████████████████████████████████████████████████████████████████████████████████████████| 391/391 [00:15<00:00, 25.16it/s]\n"
     ]
    },
    {
     "name": "stdout",
     "output_type": "stream",
     "text": [
      "\n",
      "Test set: Average loss: 0.0055, Accuracy: 7653/10000 (76.53%)\n",
      "\n",
      "Learning rate = 0.010460353203000003  for epoch:  116\n",
      "EPOCH: 116\n"
     ]
    },
    {
     "name": "stderr",
     "output_type": "stream",
     "text": [
      "Loss=0.9523247480392456 Batch_id=390 Accuracy=67.10: 100%|███████████████████████████████████████████████████████████████████████████████████████████████████████████████████████████████████████| 391/391 [00:15<00:00, 24.75it/s]\n"
     ]
    },
    {
     "name": "stdout",
     "output_type": "stream",
     "text": [
      "\n",
      "Test set: Average loss: 0.0055, Accuracy: 7629/10000 (76.29%)\n",
      "\n",
      "Epoch 00116: reducing learning rate of group 0 to 9.4143e-03.\n",
      "Learning rate = 0.009414317882700002  for epoch:  117\n",
      "EPOCH: 117\n"
     ]
    },
    {
     "name": "stderr",
     "output_type": "stream",
     "text": [
      "Loss=0.8456135988235474 Batch_id=390 Accuracy=67.20: 100%|███████████████████████████████████████████████████████████████████████████████████████████████████████████████████████████████████████| 391/391 [00:15<00:00, 24.95it/s]\n"
     ]
    },
    {
     "name": "stdout",
     "output_type": "stream",
     "text": [
      "\n",
      "Test set: Average loss: 0.0054, Accuracy: 7689/10000 (76.89%)\n",
      "\n",
      "Validation accuracy increased (76.810000 --> 76.890000).  Saving model ...\n",
      "Learning rate = 0.009414317882700002  for epoch:  118\n",
      "EPOCH: 118\n"
     ]
    },
    {
     "name": "stderr",
     "output_type": "stream",
     "text": [
      "Loss=0.8641440272331238 Batch_id=390 Accuracy=67.26: 100%|███████████████████████████████████████████████████████████████████████████████████████████████████████████████████████████████████████| 391/391 [00:15<00:00, 25.28it/s]\n"
     ]
    },
    {
     "name": "stdout",
     "output_type": "stream",
     "text": [
      "\n",
      "Test set: Average loss: 0.0056, Accuracy: 7600/10000 (76.00%)\n",
      "\n",
      "Learning rate = 0.009414317882700002  for epoch:  119\n",
      "EPOCH: 119\n"
     ]
    },
    {
     "name": "stderr",
     "output_type": "stream",
     "text": [
      "Loss=0.8919784426689148 Batch_id=390 Accuracy=67.30: 100%|███████████████████████████████████████████████████████████████████████████████████████████████████████████████████████████████████████| 391/391 [00:15<00:00, 24.79it/s]\n"
     ]
    },
    {
     "name": "stdout",
     "output_type": "stream",
     "text": [
      "\n",
      "Test set: Average loss: 0.0055, Accuracy: 7626/10000 (76.26%)\n",
      "\n",
      "Learning rate = 0.009414317882700002  for epoch:  120\n",
      "EPOCH: 120\n"
     ]
    },
    {
     "name": "stderr",
     "output_type": "stream",
     "text": [
      "Loss=0.9462906122207642 Batch_id=390 Accuracy=67.23: 100%|███████████████████████████████████████████████████████████████████████████████████████████████████████████████████████████████████████| 391/391 [00:15<00:00, 25.26it/s]\n"
     ]
    },
    {
     "name": "stdout",
     "output_type": "stream",
     "text": [
      "\n",
      "Test set: Average loss: 0.0053, Accuracy: 7732/10000 (77.32%)\n",
      "\n",
      "Validation accuracy increased (76.890000 --> 77.320000).  Saving model ...\n",
      "Learning rate = 0.009414317882700002  for epoch:  121\n",
      "EPOCH: 121\n"
     ]
    },
    {
     "name": "stderr",
     "output_type": "stream",
     "text": [
      "Loss=0.9177125096321106 Batch_id=390 Accuracy=67.29: 100%|███████████████████████████████████████████████████████████████████████████████████████████████████████████████████████████████████████| 391/391 [00:15<00:00, 25.11it/s]\n"
     ]
    },
    {
     "name": "stdout",
     "output_type": "stream",
     "text": [
      "\n",
      "Test set: Average loss: 0.0052, Accuracy: 7713/10000 (77.13%)\n",
      "\n",
      "Learning rate = 0.009414317882700002  for epoch:  122\n",
      "EPOCH: 122\n"
     ]
    },
    {
     "name": "stderr",
     "output_type": "stream",
     "text": [
      "Loss=1.0761728286743164 Batch_id=390 Accuracy=67.03: 100%|███████████████████████████████████████████████████████████████████████████████████████████████████████████████████████████████████████| 391/391 [00:15<00:00, 24.84it/s]\n"
     ]
    },
    {
     "name": "stdout",
     "output_type": "stream",
     "text": [
      "\n",
      "Test set: Average loss: 0.0053, Accuracy: 7690/10000 (76.90%)\n",
      "\n",
      "Learning rate = 0.009414317882700002  for epoch:  123\n",
      "EPOCH: 123\n"
     ]
    },
    {
     "name": "stderr",
     "output_type": "stream",
     "text": [
      "Loss=0.8269644975662231 Batch_id=390 Accuracy=67.18: 100%|███████████████████████████████████████████████████████████████████████████████████████████████████████████████████████████████████████| 391/391 [00:15<00:00, 25.17it/s]\n"
     ]
    },
    {
     "name": "stdout",
     "output_type": "stream",
     "text": [
      "\n",
      "Test set: Average loss: 0.0055, Accuracy: 7593/10000 (75.93%)\n",
      "\n",
      "Learning rate = 0.009414317882700002  for epoch:  124\n",
      "EPOCH: 124\n"
     ]
    },
    {
     "name": "stderr",
     "output_type": "stream",
     "text": [
      "Loss=0.872495174407959 Batch_id=390 Accuracy=67.29: 100%|████████████████████████████████████████████████████████████████████████████████████████████████████████████████████████████████████████| 391/391 [00:15<00:00, 25.01it/s]\n"
     ]
    },
    {
     "name": "stdout",
     "output_type": "stream",
     "text": [
      "\n",
      "Test set: Average loss: 0.0053, Accuracy: 7708/10000 (77.08%)\n",
      "\n",
      "Learning rate = 0.009414317882700002  for epoch:  125\n",
      "EPOCH: 125\n"
     ]
    },
    {
     "name": "stderr",
     "output_type": "stream",
     "text": [
      "Loss=1.2299067974090576 Batch_id=390 Accuracy=67.33: 100%|███████████████████████████████████████████████████████████████████████████████████████████████████████████████████████████████████████| 391/391 [00:15<00:00, 24.67it/s]\n"
     ]
    },
    {
     "name": "stdout",
     "output_type": "stream",
     "text": [
      "\n",
      "Test set: Average loss: 0.0053, Accuracy: 7706/10000 (77.06%)\n",
      "\n",
      "Learning rate = 0.009414317882700002  for epoch:  126\n",
      "EPOCH: 126\n"
     ]
    },
    {
     "name": "stderr",
     "output_type": "stream",
     "text": [
      "Loss=0.9443764686584473 Batch_id=390 Accuracy=67.09: 100%|███████████████████████████████████████████████████████████████████████████████████████████████████████████████████████████████████████| 391/391 [00:15<00:00, 25.13it/s]\n"
     ]
    },
    {
     "name": "stdout",
     "output_type": "stream",
     "text": [
      "\n",
      "Test set: Average loss: 0.0055, Accuracy: 7670/10000 (76.70%)\n",
      "\n",
      "Epoch 00126: reducing learning rate of group 0 to 8.4729e-03.\n",
      "Learning rate = 0.008472886094430003  for epoch:  127\n",
      "EPOCH: 127\n"
     ]
    },
    {
     "name": "stderr",
     "output_type": "stream",
     "text": [
      "Loss=0.8330339193344116 Batch_id=390 Accuracy=67.52: 100%|███████████████████████████████████████████████████████████████████████████████████████████████████████████████████████████████████████| 391/391 [00:15<00:00, 24.94it/s]\n"
     ]
    },
    {
     "name": "stdout",
     "output_type": "stream",
     "text": [
      "\n",
      "Test set: Average loss: 0.0053, Accuracy: 7694/10000 (76.94%)\n",
      "\n",
      "Learning rate = 0.008472886094430003  for epoch:  128\n",
      "EPOCH: 128\n"
     ]
    },
    {
     "name": "stderr",
     "output_type": "stream",
     "text": [
      "Loss=0.906022846698761 Batch_id=390 Accuracy=67.59: 100%|████████████████████████████████████████████████████████████████████████████████████████████████████████████████████████████████████████| 391/391 [00:15<00:00, 25.15it/s]\n"
     ]
    },
    {
     "name": "stdout",
     "output_type": "stream",
     "text": [
      "\n",
      "Test set: Average loss: 0.0055, Accuracy: 7641/10000 (76.41%)\n",
      "\n",
      "Learning rate = 0.008472886094430003  for epoch:  129\n",
      "EPOCH: 129\n"
     ]
    },
    {
     "name": "stderr",
     "output_type": "stream",
     "text": [
      "Loss=1.053809404373169 Batch_id=390 Accuracy=67.47: 100%|████████████████████████████████████████████████████████████████████████████████████████████████████████████████████████████████████████| 391/391 [00:15<00:00, 24.47it/s]\n"
     ]
    },
    {
     "name": "stdout",
     "output_type": "stream",
     "text": [
      "\n",
      "Test set: Average loss: 0.0055, Accuracy: 7660/10000 (76.60%)\n",
      "\n",
      "Learning rate = 0.008472886094430003  for epoch:  130\n",
      "EPOCH: 130\n"
     ]
    },
    {
     "name": "stderr",
     "output_type": "stream",
     "text": [
      "Loss=0.8493119478225708 Batch_id=390 Accuracy=67.53: 100%|███████████████████████████████████████████████████████████████████████████████████████████████████████████████████████████████████████| 391/391 [00:15<00:00, 24.95it/s]\n"
     ]
    },
    {
     "name": "stdout",
     "output_type": "stream",
     "text": [
      "\n",
      "Test set: Average loss: 0.0056, Accuracy: 7608/10000 (76.08%)\n",
      "\n",
      "Learning rate = 0.008472886094430003  for epoch:  131\n",
      "EPOCH: 131\n"
     ]
    },
    {
     "name": "stderr",
     "output_type": "stream",
     "text": [
      "Loss=1.017086386680603 Batch_id=390 Accuracy=67.57: 100%|████████████████████████████████████████████████████████████████████████████████████████████████████████████████████████████████████████| 391/391 [00:15<00:00, 24.58it/s]\n"
     ]
    },
    {
     "name": "stdout",
     "output_type": "stream",
     "text": [
      "\n",
      "Test set: Average loss: 0.0052, Accuracy: 7764/10000 (77.64%)\n",
      "\n",
      "Validation accuracy increased (77.320000 --> 77.640000).  Saving model ...\n",
      "Learning rate = 0.008472886094430003  for epoch:  132\n",
      "EPOCH: 132\n"
     ]
    },
    {
     "name": "stderr",
     "output_type": "stream",
     "text": [
      "Loss=0.7670029401779175 Batch_id=390 Accuracy=67.82: 100%|███████████████████████████████████████████████████████████████████████████████████████████████████████████████████████████████████████| 391/391 [00:15<00:00, 25.12it/s]\n"
     ]
    },
    {
     "name": "stdout",
     "output_type": "stream",
     "text": [
      "\n",
      "Test set: Average loss: 0.0054, Accuracy: 7679/10000 (76.79%)\n",
      "\n",
      "Epoch 00132: reducing learning rate of group 0 to 7.6256e-03.\n",
      "Learning rate = 0.007625597484987002  for epoch:  133\n",
      "EPOCH: 133\n"
     ]
    },
    {
     "name": "stderr",
     "output_type": "stream",
     "text": [
      "Loss=1.0859142541885376 Batch_id=390 Accuracy=67.40: 100%|███████████████████████████████████████████████████████████████████████████████████████████████████████████████████████████████████████| 391/391 [00:15<00:00, 25.02it/s]\n"
     ]
    },
    {
     "name": "stdout",
     "output_type": "stream",
     "text": [
      "\n",
      "Test set: Average loss: 0.0054, Accuracy: 7729/10000 (77.29%)\n",
      "\n",
      "Learning rate = 0.007625597484987002  for epoch:  134\n",
      "EPOCH: 134\n"
     ]
    },
    {
     "name": "stderr",
     "output_type": "stream",
     "text": [
      "Loss=0.8715288043022156 Batch_id=390 Accuracy=67.33: 100%|███████████████████████████████████████████████████████████████████████████████████████████████████████████████████████████████████████| 391/391 [00:16<00:00, 24.37it/s]\n"
     ]
    },
    {
     "name": "stdout",
     "output_type": "stream",
     "text": [
      "\n",
      "Test set: Average loss: 0.0054, Accuracy: 7735/10000 (77.35%)\n",
      "\n",
      "Learning rate = 0.007625597484987002  for epoch:  135\n",
      "EPOCH: 135\n"
     ]
    },
    {
     "name": "stderr",
     "output_type": "stream",
     "text": [
      "Loss=0.7923902273178101 Batch_id=390 Accuracy=67.57: 100%|███████████████████████████████████████████████████████████████████████████████████████████████████████████████████████████████████████| 391/391 [00:15<00:00, 24.91it/s]\n"
     ]
    },
    {
     "name": "stdout",
     "output_type": "stream",
     "text": [
      "\n",
      "Test set: Average loss: 0.0053, Accuracy: 7737/10000 (77.37%)\n",
      "\n",
      "Learning rate = 0.007625597484987002  for epoch:  136\n",
      "EPOCH: 136\n"
     ]
    },
    {
     "name": "stderr",
     "output_type": "stream",
     "text": [
      "Loss=1.2103996276855469 Batch_id=390 Accuracy=67.84: 100%|███████████████████████████████████████████████████████████████████████████████████████████████████████████████████████████████████████| 391/391 [00:15<00:00, 25.11it/s]\n"
     ]
    },
    {
     "name": "stdout",
     "output_type": "stream",
     "text": [
      "\n",
      "Test set: Average loss: 0.0052, Accuracy: 7746/10000 (77.46%)\n",
      "\n",
      "Learning rate = 0.007625597484987002  for epoch:  137\n",
      "EPOCH: 137\n"
     ]
    },
    {
     "name": "stderr",
     "output_type": "stream",
     "text": [
      "Loss=0.9489024877548218 Batch_id=390 Accuracy=67.83: 100%|███████████████████████████████████████████████████████████████████████████████████████████████████████████████████████████████████████| 391/391 [00:16<00:00, 24.33it/s]\n"
     ]
    },
    {
     "name": "stdout",
     "output_type": "stream",
     "text": [
      "\n",
      "Test set: Average loss: 0.0055, Accuracy: 7631/10000 (76.31%)\n",
      "\n",
      "Learning rate = 0.007625597484987002  for epoch:  138\n",
      "EPOCH: 138\n"
     ]
    },
    {
     "name": "stderr",
     "output_type": "stream",
     "text": [
      "Loss=0.990553081035614 Batch_id=390 Accuracy=67.75: 100%|████████████████████████████████████████████████████████████████████████████████████████████████████████████████████████████████████████| 391/391 [00:15<00:00, 25.09it/s]\n"
     ]
    },
    {
     "name": "stdout",
     "output_type": "stream",
     "text": [
      "\n",
      "Test set: Average loss: 0.0053, Accuracy: 7733/10000 (77.33%)\n",
      "\n",
      "Epoch 00138: reducing learning rate of group 0 to 6.8630e-03.\n",
      "Learning rate = 0.006863037736488302  for epoch:  139\n",
      "EPOCH: 139\n"
     ]
    },
    {
     "name": "stderr",
     "output_type": "stream",
     "text": [
      "Loss=0.7766514420509338 Batch_id=390 Accuracy=67.49: 100%|███████████████████████████████████████████████████████████████████████████████████████████████████████████████████████████████████████| 391/391 [00:15<00:00, 24.92it/s]\n"
     ]
    },
    {
     "name": "stdout",
     "output_type": "stream",
     "text": [
      "\n",
      "Test set: Average loss: 0.0054, Accuracy: 7692/10000 (76.92%)\n",
      "\n",
      "Learning rate = 0.006863037736488302  for epoch:  140\n",
      "EPOCH: 140\n"
     ]
    },
    {
     "name": "stderr",
     "output_type": "stream",
     "text": [
      "Loss=1.026381254196167 Batch_id=390 Accuracy=67.53: 100%|████████████████████████████████████████████████████████████████████████████████████████████████████████████████████████████████████████| 391/391 [00:15<00:00, 24.48it/s]\n"
     ]
    },
    {
     "name": "stdout",
     "output_type": "stream",
     "text": [
      "\n",
      "Test set: Average loss: 0.0051, Accuracy: 7801/10000 (78.01%)\n",
      "\n",
      "Validation accuracy increased (77.640000 --> 78.010000).  Saving model ...\n",
      "Learning rate = 0.006863037736488302  for epoch:  141\n",
      "EPOCH: 141\n"
     ]
    },
    {
     "name": "stderr",
     "output_type": "stream",
     "text": [
      "Loss=1.0364521741867065 Batch_id=390 Accuracy=67.83: 100%|███████████████████████████████████████████████████████████████████████████████████████████████████████████████████████████████████████| 391/391 [00:15<00:00, 24.95it/s]\n"
     ]
    },
    {
     "name": "stdout",
     "output_type": "stream",
     "text": [
      "\n",
      "Test set: Average loss: 0.0051, Accuracy: 7768/10000 (77.68%)\n",
      "\n",
      "Learning rate = 0.006863037736488302  for epoch:  142\n",
      "EPOCH: 142\n"
     ]
    },
    {
     "name": "stderr",
     "output_type": "stream",
     "text": [
      "Loss=0.7409738898277283 Batch_id=390 Accuracy=67.89: 100%|███████████████████████████████████████████████████████████████████████████████████████████████████████████████████████████████████████| 391/391 [00:15<00:00, 24.82it/s]\n"
     ]
    },
    {
     "name": "stdout",
     "output_type": "stream",
     "text": [
      "\n",
      "Test set: Average loss: 0.0053, Accuracy: 7731/10000 (77.31%)\n",
      "\n",
      "Learning rate = 0.006863037736488302  for epoch:  143\n",
      "EPOCH: 143\n"
     ]
    },
    {
     "name": "stderr",
     "output_type": "stream",
     "text": [
      "Loss=1.1708757877349854 Batch_id=390 Accuracy=68.05: 100%|███████████████████████████████████████████████████████████████████████████████████████████████████████████████████████████████████████| 391/391 [00:15<00:00, 24.75it/s]\n"
     ]
    },
    {
     "name": "stdout",
     "output_type": "stream",
     "text": [
      "\n",
      "Test set: Average loss: 0.0051, Accuracy: 7763/10000 (77.63%)\n",
      "\n",
      "Learning rate = 0.006863037736488302  for epoch:  144\n",
      "EPOCH: 144\n"
     ]
    },
    {
     "name": "stderr",
     "output_type": "stream",
     "text": [
      "Loss=0.9947736859321594 Batch_id=390 Accuracy=67.68: 100%|███████████████████████████████████████████████████████████████████████████████████████████████████████████████████████████████████████| 391/391 [00:15<00:00, 24.72it/s]\n"
     ]
    },
    {
     "name": "stdout",
     "output_type": "stream",
     "text": [
      "\n",
      "Test set: Average loss: 0.0054, Accuracy: 7694/10000 (76.94%)\n",
      "\n",
      "Epoch 00144: reducing learning rate of group 0 to 6.1767e-03.\n",
      "Learning rate = 0.0061767339628394724  for epoch:  145\n",
      "EPOCH: 145\n"
     ]
    },
    {
     "name": "stderr",
     "output_type": "stream",
     "text": [
      "Loss=0.8226282000541687 Batch_id=390 Accuracy=67.59: 100%|███████████████████████████████████████████████████████████████████████████████████████████████████████████████████████████████████████| 391/391 [00:15<00:00, 25.04it/s]\n"
     ]
    },
    {
     "name": "stdout",
     "output_type": "stream",
     "text": [
      "\n",
      "Test set: Average loss: 0.0052, Accuracy: 7765/10000 (77.65%)\n",
      "\n",
      "Learning rate = 0.0061767339628394724  for epoch:  146\n",
      "EPOCH: 146\n"
     ]
    },
    {
     "name": "stderr",
     "output_type": "stream",
     "text": [
      "Loss=0.8839151263237 Batch_id=390 Accuracy=68.02: 100%|██████████████████████████████████████████████████████████████████████████████████████████████████████████████████████████████████████████| 391/391 [00:15<00:00, 24.60it/s]\n"
     ]
    },
    {
     "name": "stdout",
     "output_type": "stream",
     "text": [
      "\n",
      "Test set: Average loss: 0.0054, Accuracy: 7688/10000 (76.88%)\n",
      "\n",
      "Learning rate = 0.0061767339628394724  for epoch:  147\n",
      "EPOCH: 147\n"
     ]
    },
    {
     "name": "stderr",
     "output_type": "stream",
     "text": [
      "Loss=0.9100497364997864 Batch_id=390 Accuracy=67.95: 100%|███████████████████████████████████████████████████████████████████████████████████████████████████████████████████████████████████████| 391/391 [00:15<00:00, 24.88it/s]\n"
     ]
    },
    {
     "name": "stdout",
     "output_type": "stream",
     "text": [
      "\n",
      "Test set: Average loss: 0.0052, Accuracy: 7727/10000 (77.27%)\n",
      "\n",
      "Learning rate = 0.0061767339628394724  for epoch:  148\n",
      "EPOCH: 148\n"
     ]
    },
    {
     "name": "stderr",
     "output_type": "stream",
     "text": [
      "Loss=0.7727683782577515 Batch_id=390 Accuracy=67.75: 100%|███████████████████████████████████████████████████████████████████████████████████████████████████████████████████████████████████████| 391/391 [00:15<00:00, 24.68it/s]\n"
     ]
    },
    {
     "name": "stdout",
     "output_type": "stream",
     "text": [
      "\n",
      "Test set: Average loss: 0.0054, Accuracy: 7754/10000 (77.54%)\n",
      "\n",
      "Learning rate = 0.0061767339628394724  for epoch:  149\n",
      "EPOCH: 149\n"
     ]
    },
    {
     "name": "stderr",
     "output_type": "stream",
     "text": [
      "Loss=0.7804823517799377 Batch_id=390 Accuracy=67.76: 100%|███████████████████████████████████████████████████████████████████████████████████████████████████████████████████████████████████████| 391/391 [00:15<00:00, 24.69it/s]\n"
     ]
    },
    {
     "name": "stdout",
     "output_type": "stream",
     "text": [
      "\n",
      "Test set: Average loss: 0.0052, Accuracy: 7735/10000 (77.35%)\n",
      "\n",
      "Learning rate = 0.0061767339628394724  for epoch:  150\n",
      "EPOCH: 150\n"
     ]
    },
    {
     "name": "stderr",
     "output_type": "stream",
     "text": [
      "Loss=1.199344515800476 Batch_id=390 Accuracy=67.69: 100%|████████████████████████████████████████████████████████████████████████████████████████████████████████████████████████████████████████| 391/391 [00:15<00:00, 24.68it/s]\n"
     ]
    },
    {
     "name": "stdout",
     "output_type": "stream",
     "text": [
      "\n",
      "Test set: Average loss: 0.0052, Accuracy: 7765/10000 (77.65%)\n",
      "\n",
      "Epoch 00150: reducing learning rate of group 0 to 5.5591e-03.\n",
      "Learning rate = 0.005559060566555525  for epoch:  151\n",
      "EPOCH: 151\n"
     ]
    },
    {
     "name": "stderr",
     "output_type": "stream",
     "text": [
      "Loss=1.0103096961975098 Batch_id=390 Accuracy=68.19: 100%|███████████████████████████████████████████████████████████████████████████████████████████████████████████████████████████████████████| 391/391 [00:15<00:00, 25.00it/s]\n"
     ]
    },
    {
     "name": "stdout",
     "output_type": "stream",
     "text": [
      "\n",
      "Test set: Average loss: 0.0052, Accuracy: 7744/10000 (77.44%)\n",
      "\n",
      "Learning rate = 0.005559060566555525  for epoch:  152\n",
      "EPOCH: 152\n"
     ]
    },
    {
     "name": "stderr",
     "output_type": "stream",
     "text": [
      "Loss=0.8632557988166809 Batch_id=390 Accuracy=68.19: 100%|███████████████████████████████████████████████████████████████████████████████████████████████████████████████████████████████████████| 391/391 [00:15<00:00, 24.45it/s]\n"
     ]
    },
    {
     "name": "stdout",
     "output_type": "stream",
     "text": [
      "\n",
      "Test set: Average loss: 0.0053, Accuracy: 7725/10000 (77.25%)\n",
      "\n",
      "Learning rate = 0.005559060566555525  for epoch:  153\n",
      "EPOCH: 153\n"
     ]
    },
    {
     "name": "stderr",
     "output_type": "stream",
     "text": [
      "Loss=0.8500325083732605 Batch_id=390 Accuracy=68.13: 100%|███████████████████████████████████████████████████████████████████████████████████████████████████████████████████████████████████████| 391/391 [00:15<00:00, 24.76it/s]\n"
     ]
    },
    {
     "name": "stdout",
     "output_type": "stream",
     "text": [
      "\n",
      "Test set: Average loss: 0.0052, Accuracy: 7796/10000 (77.96%)\n",
      "\n",
      "Learning rate = 0.005559060566555525  for epoch:  154\n",
      "EPOCH: 154\n"
     ]
    },
    {
     "name": "stderr",
     "output_type": "stream",
     "text": [
      "Loss=0.8586063385009766 Batch_id=390 Accuracy=68.21: 100%|███████████████████████████████████████████████████████████████████████████████████████████████████████████████████████████████████████| 391/391 [00:15<00:00, 24.96it/s]\n"
     ]
    },
    {
     "name": "stdout",
     "output_type": "stream",
     "text": [
      "\n",
      "Test set: Average loss: 0.0052, Accuracy: 7758/10000 (77.58%)\n",
      "\n",
      "Learning rate = 0.005559060566555525  for epoch:  155\n",
      "EPOCH: 155\n"
     ]
    },
    {
     "name": "stderr",
     "output_type": "stream",
     "text": [
      "Loss=0.9401939511299133 Batch_id=390 Accuracy=68.13: 100%|███████████████████████████████████████████████████████████████████████████████████████████████████████████████████████████████████████| 391/391 [00:16<00:00, 24.43it/s]\n"
     ]
    },
    {
     "name": "stdout",
     "output_type": "stream",
     "text": [
      "\n",
      "Test set: Average loss: 0.0051, Accuracy: 7775/10000 (77.75%)\n",
      "\n",
      "Learning rate = 0.005559060566555525  for epoch:  156\n",
      "EPOCH: 156\n"
     ]
    },
    {
     "name": "stderr",
     "output_type": "stream",
     "text": [
      "Loss=0.8721860647201538 Batch_id=390 Accuracy=68.02: 100%|███████████████████████████████████████████████████████████████████████████████████████████████████████████████████████████████████████| 391/391 [00:15<00:00, 24.91it/s]\n"
     ]
    },
    {
     "name": "stdout",
     "output_type": "stream",
     "text": [
      "\n",
      "Test set: Average loss: 0.0053, Accuracy: 7715/10000 (77.15%)\n",
      "\n",
      "Epoch 00156: reducing learning rate of group 0 to 5.0032e-03.\n",
      "Learning rate = 0.005003154509899972  for epoch:  157\n",
      "EPOCH: 157\n"
     ]
    },
    {
     "name": "stderr",
     "output_type": "stream",
     "text": [
      "Loss=0.7972247004508972 Batch_id=390 Accuracy=68.18: 100%|███████████████████████████████████████████████████████████████████████████████████████████████████████████████████████████████████████| 391/391 [00:15<00:00, 24.92it/s]\n"
     ]
    },
    {
     "name": "stdout",
     "output_type": "stream",
     "text": [
      "\n",
      "Test set: Average loss: 0.0052, Accuracy: 7739/10000 (77.39%)\n",
      "\n",
      "Learning rate = 0.005003154509899972  for epoch:  158\n",
      "EPOCH: 158\n"
     ]
    },
    {
     "name": "stderr",
     "output_type": "stream",
     "text": [
      "Loss=0.6114462018013 Batch_id=390 Accuracy=68.34: 100%|██████████████████████████████████████████████████████████████████████████████████████████████████████████████████████████████████████████| 391/391 [00:15<00:00, 24.69it/s]\n"
     ]
    },
    {
     "name": "stdout",
     "output_type": "stream",
     "text": [
      "\n",
      "Test set: Average loss: 0.0052, Accuracy: 7735/10000 (77.35%)\n",
      "\n",
      "Learning rate = 0.005003154509899972  for epoch:  159\n",
      "EPOCH: 159\n"
     ]
    },
    {
     "name": "stderr",
     "output_type": "stream",
     "text": [
      "Loss=1.0138970613479614 Batch_id=390 Accuracy=68.28: 100%|███████████████████████████████████████████████████████████████████████████████████████████████████████████████████████████████████████| 391/391 [00:15<00:00, 24.62it/s]\n"
     ]
    },
    {
     "name": "stdout",
     "output_type": "stream",
     "text": [
      "\n",
      "Test set: Average loss: 0.0054, Accuracy: 7670/10000 (76.70%)\n",
      "\n",
      "Learning rate = 0.005003154509899972  for epoch:  160\n",
      "EPOCH: 160\n"
     ]
    },
    {
     "name": "stderr",
     "output_type": "stream",
     "text": [
      "Loss=0.9831045866012573 Batch_id=390 Accuracy=68.03: 100%|███████████████████████████████████████████████████████████████████████████████████████████████████████████████████████████████████████| 391/391 [00:15<00:00, 24.70it/s]\n"
     ]
    },
    {
     "name": "stdout",
     "output_type": "stream",
     "text": [
      "\n",
      "Test set: Average loss: 0.0052, Accuracy: 7757/10000 (77.57%)\n",
      "\n",
      "Learning rate = 0.005003154509899972  for epoch:  161\n",
      "EPOCH: 161\n"
     ]
    },
    {
     "name": "stderr",
     "output_type": "stream",
     "text": [
      "Loss=0.9030497670173645 Batch_id=390 Accuracy=68.40: 100%|███████████████████████████████████████████████████████████████████████████████████████████████████████████████████████████████████████| 391/391 [00:15<00:00, 24.78it/s]\n"
     ]
    },
    {
     "name": "stdout",
     "output_type": "stream",
     "text": [
      "\n",
      "Test set: Average loss: 0.0051, Accuracy: 7812/10000 (78.12%)\n",
      "\n",
      "Validation accuracy increased (78.010000 --> 78.120000).  Saving model ...\n",
      "Learning rate = 0.005003154509899972  for epoch:  162\n",
      "EPOCH: 162\n"
     ]
    },
    {
     "name": "stderr",
     "output_type": "stream",
     "text": [
      "Loss=0.8836551904678345 Batch_id=390 Accuracy=68.34: 100%|███████████████████████████████████████████████████████████████████████████████████████████████████████████████████████████████████████| 391/391 [00:15<00:00, 24.66it/s]\n"
     ]
    },
    {
     "name": "stdout",
     "output_type": "stream",
     "text": [
      "\n",
      "Test set: Average loss: 0.0052, Accuracy: 7757/10000 (77.57%)\n",
      "\n",
      "Learning rate = 0.005003154509899972  for epoch:  163\n",
      "EPOCH: 163\n"
     ]
    },
    {
     "name": "stderr",
     "output_type": "stream",
     "text": [
      "Loss=0.8962162733078003 Batch_id=390 Accuracy=68.11: 100%|███████████████████████████████████████████████████████████████████████████████████████████████████████████████████████████████████████| 391/391 [00:15<00:00, 24.83it/s]\n"
     ]
    },
    {
     "name": "stdout",
     "output_type": "stream",
     "text": [
      "\n",
      "Test set: Average loss: 0.0052, Accuracy: 7761/10000 (77.61%)\n",
      "\n",
      "Learning rate = 0.005003154509899972  for epoch:  164\n",
      "EPOCH: 164\n"
     ]
    },
    {
     "name": "stderr",
     "output_type": "stream",
     "text": [
      "Loss=0.758390486240387 Batch_id=390 Accuracy=68.31: 100%|████████████████████████████████████████████████████████████████████████████████████████████████████████████████████████████████████████| 391/391 [00:15<00:00, 24.52it/s]\n"
     ]
    },
    {
     "name": "stdout",
     "output_type": "stream",
     "text": [
      "\n",
      "Test set: Average loss: 0.0052, Accuracy: 7774/10000 (77.74%)\n",
      "\n",
      "Learning rate = 0.005003154509899972  for epoch:  165\n",
      "EPOCH: 165\n"
     ]
    },
    {
     "name": "stderr",
     "output_type": "stream",
     "text": [
      "Loss=0.9441815614700317 Batch_id=390 Accuracy=68.52: 100%|███████████████████████████████████████████████████████████████████████████████████████████████████████████████████████████████████████| 391/391 [00:15<00:00, 24.75it/s]\n"
     ]
    },
    {
     "name": "stdout",
     "output_type": "stream",
     "text": [
      "\n",
      "Test set: Average loss: 0.0052, Accuracy: 7741/10000 (77.41%)\n",
      "\n",
      "Learning rate = 0.005003154509899972  for epoch:  166\n",
      "EPOCH: 166\n"
     ]
    },
    {
     "name": "stderr",
     "output_type": "stream",
     "text": [
      "Loss=0.7126815915107727 Batch_id=390 Accuracy=68.32: 100%|███████████████████████████████████████████████████████████████████████████████████████████████████████████████████████████████████████| 391/391 [00:15<00:00, 24.48it/s]\n"
     ]
    },
    {
     "name": "stdout",
     "output_type": "stream",
     "text": [
      "\n",
      "Test set: Average loss: 0.0053, Accuracy: 7735/10000 (77.35%)\n",
      "\n",
      "Learning rate = 0.005003154509899972  for epoch:  167\n",
      "EPOCH: 167\n"
     ]
    },
    {
     "name": "stderr",
     "output_type": "stream",
     "text": [
      "Loss=0.970352053642273 Batch_id=390 Accuracy=68.22: 100%|████████████████████████████████████████████████████████████████████████████████████████████████████████████████████████████████████████| 391/391 [00:15<00:00, 24.45it/s]\n"
     ]
    },
    {
     "name": "stdout",
     "output_type": "stream",
     "text": [
      "\n",
      "Test set: Average loss: 0.0051, Accuracy: 7797/10000 (77.97%)\n",
      "\n",
      "Epoch 00167: reducing learning rate of group 0 to 4.5028e-03.\n",
      "Learning rate = 0.004502839058909975  for epoch:  168\n",
      "EPOCH: 168\n"
     ]
    },
    {
     "name": "stderr",
     "output_type": "stream",
     "text": [
      "Loss=0.80564945936203 Batch_id=390 Accuracy=68.21: 100%|█████████████████████████████████████████████████████████████████████████████████████████████████████████████████████████████████████████| 391/391 [00:15<00:00, 24.54it/s]\n"
     ]
    },
    {
     "name": "stdout",
     "output_type": "stream",
     "text": [
      "\n",
      "Test set: Average loss: 0.0052, Accuracy: 7753/10000 (77.53%)\n",
      "\n",
      "Learning rate = 0.004502839058909975  for epoch:  169\n",
      "EPOCH: 169\n"
     ]
    },
    {
     "name": "stderr",
     "output_type": "stream",
     "text": [
      "Loss=0.9371892213821411 Batch_id=390 Accuracy=68.29: 100%|███████████████████████████████████████████████████████████████████████████████████████████████████████████████████████████████████████| 391/391 [00:15<00:00, 24.82it/s]\n"
     ]
    },
    {
     "name": "stdout",
     "output_type": "stream",
     "text": [
      "\n",
      "Test set: Average loss: 0.0051, Accuracy: 7839/10000 (78.39%)\n",
      "\n",
      "Validation accuracy increased (78.120000 --> 78.390000).  Saving model ...\n",
      "Learning rate = 0.004502839058909975  for epoch:  170\n",
      "EPOCH: 170\n"
     ]
    },
    {
     "name": "stderr",
     "output_type": "stream",
     "text": [
      "Loss=0.8995071649551392 Batch_id=390 Accuracy=68.23: 100%|███████████████████████████████████████████████████████████████████████████████████████████████████████████████████████████████████████| 391/391 [00:15<00:00, 24.64it/s]\n"
     ]
    },
    {
     "name": "stdout",
     "output_type": "stream",
     "text": [
      "\n",
      "Test set: Average loss: 0.0053, Accuracy: 7676/10000 (76.76%)\n",
      "\n",
      "Learning rate = 0.004502839058909975  for epoch:  171\n",
      "EPOCH: 171\n"
     ]
    },
    {
     "name": "stderr",
     "output_type": "stream",
     "text": [
      "Loss=0.8568030595779419 Batch_id=390 Accuracy=68.59: 100%|███████████████████████████████████████████████████████████████████████████████████████████████████████████████████████████████████████| 391/391 [00:15<00:00, 24.75it/s]\n"
     ]
    },
    {
     "name": "stdout",
     "output_type": "stream",
     "text": [
      "\n",
      "Test set: Average loss: 0.0051, Accuracy: 7783/10000 (77.83%)\n",
      "\n",
      "Learning rate = 0.004502839058909975  for epoch:  172\n",
      "EPOCH: 172\n"
     ]
    },
    {
     "name": "stderr",
     "output_type": "stream",
     "text": [
      "Loss=0.8484775424003601 Batch_id=390 Accuracy=68.32: 100%|███████████████████████████████████████████████████████████████████████████████████████████████████████████████████████████████████████| 391/391 [00:15<00:00, 24.76it/s]\n"
     ]
    },
    {
     "name": "stdout",
     "output_type": "stream",
     "text": [
      "\n",
      "Test set: Average loss: 0.0053, Accuracy: 7711/10000 (77.11%)\n",
      "\n",
      "Learning rate = 0.004502839058909975  for epoch:  173\n",
      "EPOCH: 173\n"
     ]
    },
    {
     "name": "stderr",
     "output_type": "stream",
     "text": [
      "Loss=0.9894638061523438 Batch_id=390 Accuracy=67.97: 100%|███████████████████████████████████████████████████████████████████████████████████████████████████████████████████████████████████████| 391/391 [00:16<00:00, 24.44it/s]\n"
     ]
    },
    {
     "name": "stdout",
     "output_type": "stream",
     "text": [
      "\n",
      "Test set: Average loss: 0.0051, Accuracy: 7796/10000 (77.96%)\n",
      "\n",
      "Epoch 00173: reducing learning rate of group 0 to 4.0526e-03.\n",
      "Learning rate = 0.004052555153018977  for epoch:  174\n",
      "EPOCH: 174\n"
     ]
    },
    {
     "name": "stderr",
     "output_type": "stream",
     "text": [
      "Loss=0.9056147336959839 Batch_id=390 Accuracy=68.53: 100%|███████████████████████████████████████████████████████████████████████████████████████████████████████████████████████████████████████| 391/391 [00:15<00:00, 24.71it/s]\n"
     ]
    },
    {
     "name": "stdout",
     "output_type": "stream",
     "text": [
      "\n",
      "Test set: Average loss: 0.0052, Accuracy: 7744/10000 (77.44%)\n",
      "\n",
      "Learning rate = 0.004052555153018977  for epoch:  175\n",
      "EPOCH: 175\n"
     ]
    },
    {
     "name": "stderr",
     "output_type": "stream",
     "text": [
      "Loss=0.974897027015686 Batch_id=390 Accuracy=68.41: 100%|████████████████████████████████████████████████████████████████████████████████████████████████████████████████████████████████████████| 391/391 [00:15<00:00, 24.54it/s]\n"
     ]
    },
    {
     "name": "stdout",
     "output_type": "stream",
     "text": [
      "\n",
      "Test set: Average loss: 0.0052, Accuracy: 7761/10000 (77.61%)\n",
      "\n",
      "Learning rate = 0.004052555153018977  for epoch:  176\n",
      "EPOCH: 176\n"
     ]
    },
    {
     "name": "stderr",
     "output_type": "stream",
     "text": [
      "Loss=1.0285723209381104 Batch_id=390 Accuracy=68.25: 100%|███████████████████████████████████████████████████████████████████████████████████████████████████████████████████████████████████████| 391/391 [00:15<00:00, 24.67it/s]\n"
     ]
    },
    {
     "name": "stdout",
     "output_type": "stream",
     "text": [
      "\n",
      "Test set: Average loss: 0.0052, Accuracy: 7754/10000 (77.54%)\n",
      "\n",
      "Learning rate = 0.004052555153018977  for epoch:  177\n",
      "EPOCH: 177\n"
     ]
    },
    {
     "name": "stderr",
     "output_type": "stream",
     "text": [
      "Loss=0.7384069561958313 Batch_id=390 Accuracy=68.55: 100%|███████████████████████████████████████████████████████████████████████████████████████████████████████████████████████████████████████| 391/391 [00:16<00:00, 24.38it/s]\n"
     ]
    },
    {
     "name": "stdout",
     "output_type": "stream",
     "text": [
      "\n",
      "Test set: Average loss: 0.0050, Accuracy: 7841/10000 (78.41%)\n",
      "\n",
      "Validation accuracy increased (78.390000 --> 78.410000).  Saving model ...\n",
      "Learning rate = 0.004052555153018977  for epoch:  178\n",
      "EPOCH: 178\n"
     ]
    },
    {
     "name": "stderr",
     "output_type": "stream",
     "text": [
      "Loss=1.0095741748809814 Batch_id=390 Accuracy=68.56: 100%|███████████████████████████████████████████████████████████████████████████████████████████████████████████████████████████████████████| 391/391 [00:15<00:00, 24.59it/s]\n"
     ]
    },
    {
     "name": "stdout",
     "output_type": "stream",
     "text": [
      "\n",
      "Test set: Average loss: 0.0052, Accuracy: 7762/10000 (77.62%)\n",
      "\n",
      "Learning rate = 0.004052555153018977  for epoch:  179\n",
      "EPOCH: 179\n"
     ]
    },
    {
     "name": "stderr",
     "output_type": "stream",
     "text": [
      "Loss=0.7255599498748779 Batch_id=390 Accuracy=68.58: 100%|███████████████████████████████████████████████████████████████████████████████████████████████████████████████████████████████████████| 391/391 [00:15<00:00, 24.46it/s]\n"
     ]
    },
    {
     "name": "stdout",
     "output_type": "stream",
     "text": [
      "\n",
      "Test set: Average loss: 0.0051, Accuracy: 7814/10000 (78.14%)\n",
      "\n",
      "Epoch 00179: reducing learning rate of group 0 to 3.6473e-03.\n",
      "Learning rate = 0.0036472996377170793  for epoch:  180\n",
      "EPOCH: 180\n"
     ]
    },
    {
     "name": "stderr",
     "output_type": "stream",
     "text": [
      "Loss=0.9960727691650391 Batch_id=390 Accuracy=68.64: 100%|███████████████████████████████████████████████████████████████████████████████████████████████████████████████████████████████████████| 391/391 [00:15<00:00, 24.70it/s]\n"
     ]
    },
    {
     "name": "stdout",
     "output_type": "stream",
     "text": [
      "\n",
      "Test set: Average loss: 0.0051, Accuracy: 7780/10000 (77.80%)\n",
      "\n",
      "Learning rate = 0.0036472996377170793  for epoch:  181\n",
      "EPOCH: 181\n"
     ]
    },
    {
     "name": "stderr",
     "output_type": "stream",
     "text": [
      "Loss=0.9232592582702637 Batch_id=390 Accuracy=68.52: 100%|███████████████████████████████████████████████████████████████████████████████████████████████████████████████████████████████████████| 391/391 [00:16<00:00, 24.43it/s]\n"
     ]
    },
    {
     "name": "stdout",
     "output_type": "stream",
     "text": [
      "\n",
      "Test set: Average loss: 0.0051, Accuracy: 7777/10000 (77.77%)\n",
      "\n",
      "Learning rate = 0.0036472996377170793  for epoch:  182\n",
      "EPOCH: 182\n"
     ]
    },
    {
     "name": "stderr",
     "output_type": "stream",
     "text": [
      "Loss=0.8150757551193237 Batch_id=390 Accuracy=68.44: 100%|███████████████████████████████████████████████████████████████████████████████████████████████████████████████████████████████████████| 391/391 [00:16<00:00, 24.43it/s]\n"
     ]
    },
    {
     "name": "stdout",
     "output_type": "stream",
     "text": [
      "\n",
      "Test set: Average loss: 0.0052, Accuracy: 7784/10000 (77.84%)\n",
      "\n",
      "Learning rate = 0.0036472996377170793  for epoch:  183\n",
      "EPOCH: 183\n"
     ]
    },
    {
     "name": "stderr",
     "output_type": "stream",
     "text": [
      "Loss=0.8717201948165894 Batch_id=390 Accuracy=68.65: 100%|███████████████████████████████████████████████████████████████████████████████████████████████████████████████████████████████████████| 391/391 [00:16<00:00, 24.40it/s]\n"
     ]
    },
    {
     "name": "stdout",
     "output_type": "stream",
     "text": [
      "\n",
      "Test set: Average loss: 0.0051, Accuracy: 7775/10000 (77.75%)\n",
      "\n",
      "Learning rate = 0.0036472996377170793  for epoch:  184\n",
      "EPOCH: 184\n"
     ]
    },
    {
     "name": "stderr",
     "output_type": "stream",
     "text": [
      "Loss=0.721295952796936 Batch_id=390 Accuracy=68.42: 100%|████████████████████████████████████████████████████████████████████████████████████████████████████████████████████████████████████████| 391/391 [00:15<00:00, 24.60it/s]\n"
     ]
    },
    {
     "name": "stdout",
     "output_type": "stream",
     "text": [
      "\n",
      "Test set: Average loss: 0.0050, Accuracy: 7824/10000 (78.24%)\n",
      "\n",
      "Learning rate = 0.0036472996377170793  for epoch:  185\n",
      "EPOCH: 185\n"
     ]
    },
    {
     "name": "stderr",
     "output_type": "stream",
     "text": [
      "Loss=0.8961799740791321 Batch_id=390 Accuracy=68.49: 100%|███████████████████████████████████████████████████████████████████████████████████████████████████████████████████████████████████████| 391/391 [00:15<00:00, 24.51it/s]\n"
     ]
    },
    {
     "name": "stdout",
     "output_type": "stream",
     "text": [
      "\n",
      "Test set: Average loss: 0.0051, Accuracy: 7810/10000 (78.10%)\n",
      "\n",
      "Epoch 00185: reducing learning rate of group 0 to 3.2826e-03.\n",
      "Learning rate = 0.0032825696739453717  for epoch:  186\n",
      "EPOCH: 186\n"
     ]
    },
    {
     "name": "stderr",
     "output_type": "stream",
     "text": [
      "Loss=0.868460476398468 Batch_id=390 Accuracy=68.67: 100%|████████████████████████████████████████████████████████████████████████████████████████████████████████████████████████████████████████| 391/391 [00:15<00:00, 24.58it/s]\n"
     ]
    },
    {
     "name": "stdout",
     "output_type": "stream",
     "text": [
      "\n",
      "Test set: Average loss: 0.0052, Accuracy: 7755/10000 (77.55%)\n",
      "\n",
      "Learning rate = 0.0032825696739453717  for epoch:  187\n",
      "EPOCH: 187\n"
     ]
    },
    {
     "name": "stderr",
     "output_type": "stream",
     "text": [
      "Loss=0.87382972240448 Batch_id=390 Accuracy=68.48: 100%|█████████████████████████████████████████████████████████████████████████████████████████████████████████████████████████████████████████| 391/391 [00:15<00:00, 24.55it/s]\n"
     ]
    },
    {
     "name": "stdout",
     "output_type": "stream",
     "text": [
      "\n",
      "Test set: Average loss: 0.0052, Accuracy: 7749/10000 (77.49%)\n",
      "\n",
      "Learning rate = 0.0032825696739453717  for epoch:  188\n",
      "EPOCH: 188\n"
     ]
    },
    {
     "name": "stderr",
     "output_type": "stream",
     "text": [
      "Loss=0.6444472670555115 Batch_id=390 Accuracy=68.70: 100%|███████████████████████████████████████████████████████████████████████████████████████████████████████████████████████████████████████| 391/391 [00:16<00:00, 24.22it/s]\n"
     ]
    },
    {
     "name": "stdout",
     "output_type": "stream",
     "text": [
      "\n",
      "Test set: Average loss: 0.0051, Accuracy: 7792/10000 (77.92%)\n",
      "\n",
      "Learning rate = 0.0032825696739453717  for epoch:  189\n",
      "EPOCH: 189\n"
     ]
    },
    {
     "name": "stderr",
     "output_type": "stream",
     "text": [
      "Loss=0.8295116424560547 Batch_id=390 Accuracy=68.76: 100%|███████████████████████████████████████████████████████████████████████████████████████████████████████████████████████████████████████| 391/391 [00:15<00:00, 24.65it/s]\n"
     ]
    },
    {
     "name": "stdout",
     "output_type": "stream",
     "text": [
      "\n",
      "Test set: Average loss: 0.0050, Accuracy: 7809/10000 (78.09%)\n",
      "\n",
      "Learning rate = 0.0032825696739453717  for epoch:  190\n",
      "EPOCH: 190\n"
     ]
    },
    {
     "name": "stderr",
     "output_type": "stream",
     "text": [
      "Loss=0.8277786374092102 Batch_id=390 Accuracy=68.97: 100%|███████████████████████████████████████████████████████████████████████████████████████████████████████████████████████████████████████| 391/391 [00:16<00:00, 23.49it/s]\n"
     ]
    },
    {
     "name": "stdout",
     "output_type": "stream",
     "text": [
      "\n",
      "Test set: Average loss: 0.0051, Accuracy: 7791/10000 (77.91%)\n",
      "\n",
      "Learning rate = 0.0032825696739453717  for epoch:  191\n",
      "EPOCH: 191\n"
     ]
    },
    {
     "name": "stderr",
     "output_type": "stream",
     "text": [
      "Loss=0.8046157956123352 Batch_id=390 Accuracy=68.58: 100%|███████████████████████████████████████████████████████████████████████████████████████████████████████████████████████████████████████| 391/391 [00:16<00:00, 24.40it/s]\n"
     ]
    },
    {
     "name": "stdout",
     "output_type": "stream",
     "text": [
      "\n",
      "Test set: Average loss: 0.0051, Accuracy: 7780/10000 (77.80%)\n",
      "\n",
      "Epoch 00191: reducing learning rate of group 0 to 2.9543e-03.\n",
      "Learning rate = 0.0029543127065508345  for epoch:  192\n",
      "EPOCH: 192\n"
     ]
    },
    {
     "name": "stderr",
     "output_type": "stream",
     "text": [
      "Loss=0.7559248805046082 Batch_id=390 Accuracy=68.56: 100%|███████████████████████████████████████████████████████████████████████████████████████████████████████████████████████████████████████| 391/391 [00:16<00:00, 23.97it/s]\n"
     ]
    },
    {
     "name": "stdout",
     "output_type": "stream",
     "text": [
      "\n",
      "Test set: Average loss: 0.0051, Accuracy: 7821/10000 (78.21%)\n",
      "\n",
      "Learning rate = 0.0029543127065508345  for epoch:  193\n",
      "EPOCH: 193\n"
     ]
    },
    {
     "name": "stderr",
     "output_type": "stream",
     "text": [
      "Loss=0.843559741973877 Batch_id=390 Accuracy=68.82: 100%|████████████████████████████████████████████████████████████████████████████████████████████████████████████████████████████████████████| 391/391 [00:16<00:00, 24.01it/s]\n"
     ]
    },
    {
     "name": "stdout",
     "output_type": "stream",
     "text": [
      "\n",
      "Test set: Average loss: 0.0051, Accuracy: 7786/10000 (77.86%)\n",
      "\n",
      "Learning rate = 0.0029543127065508345  for epoch:  194\n",
      "EPOCH: 194\n"
     ]
    },
    {
     "name": "stderr",
     "output_type": "stream",
     "text": [
      "Loss=0.8919872045516968 Batch_id=390 Accuracy=68.65: 100%|███████████████████████████████████████████████████████████████████████████████████████████████████████████████████████████████████████| 391/391 [00:15<00:00, 24.55it/s]\n"
     ]
    },
    {
     "name": "stdout",
     "output_type": "stream",
     "text": [
      "\n",
      "Test set: Average loss: 0.0050, Accuracy: 7813/10000 (78.13%)\n",
      "\n",
      "Learning rate = 0.0029543127065508345  for epoch:  195\n",
      "EPOCH: 195\n"
     ]
    },
    {
     "name": "stderr",
     "output_type": "stream",
     "text": [
      "Loss=1.0492467880249023 Batch_id=390 Accuracy=68.86: 100%|███████████████████████████████████████████████████████████████████████████████████████████████████████████████████████████████████████| 391/391 [00:16<00:00, 24.30it/s]\n"
     ]
    },
    {
     "name": "stdout",
     "output_type": "stream",
     "text": [
      "\n",
      "Test set: Average loss: 0.0049, Accuracy: 7840/10000 (78.40%)\n",
      "\n",
      "Learning rate = 0.0029543127065508345  for epoch:  196\n",
      "EPOCH: 196\n"
     ]
    },
    {
     "name": "stderr",
     "output_type": "stream",
     "text": [
      "Loss=0.9752632975578308 Batch_id=390 Accuracy=68.66: 100%|███████████████████████████████████████████████████████████████████████████████████████████████████████████████████████████████████████| 391/391 [00:16<00:00, 24.10it/s]\n"
     ]
    },
    {
     "name": "stdout",
     "output_type": "stream",
     "text": [
      "\n",
      "Test set: Average loss: 0.0051, Accuracy: 7809/10000 (78.09%)\n",
      "\n",
      "Learning rate = 0.0029543127065508345  for epoch:  197\n",
      "EPOCH: 197\n"
     ]
    },
    {
     "name": "stderr",
     "output_type": "stream",
     "text": [
      "Loss=1.0266330242156982 Batch_id=390 Accuracy=68.62: 100%|███████████████████████████████████████████████████████████████████████████████████████████████████████████████████████████████████████| 391/391 [00:15<00:00, 24.47it/s]\n"
     ]
    },
    {
     "name": "stdout",
     "output_type": "stream",
     "text": [
      "\n",
      "Test set: Average loss: 0.0051, Accuracy: 7773/10000 (77.73%)\n",
      "\n",
      "Epoch 00197: reducing learning rate of group 0 to 2.6589e-03.\n",
      "Learning rate = 0.002658881435895751  for epoch:  198\n",
      "EPOCH: 198\n"
     ]
    },
    {
     "name": "stderr",
     "output_type": "stream",
     "text": [
      "Loss=0.9972947239875793 Batch_id=390 Accuracy=68.48: 100%|███████████████████████████████████████████████████████████████████████████████████████████████████████████████████████████████████████| 391/391 [00:15<00:00, 24.46it/s]\n"
     ]
    },
    {
     "name": "stdout",
     "output_type": "stream",
     "text": [
      "\n",
      "Test set: Average loss: 0.0051, Accuracy: 7781/10000 (77.81%)\n",
      "\n",
      "Learning rate = 0.002658881435895751  for epoch:  199\n",
      "EPOCH: 199\n"
     ]
    },
    {
     "name": "stderr",
     "output_type": "stream",
     "text": [
      "Loss=0.9383254051208496 Batch_id=390 Accuracy=68.84: 100%|███████████████████████████████████████████████████████████████████████████████████████████████████████████████████████████████████████| 391/391 [00:15<00:00, 24.54it/s]\n"
     ]
    },
    {
     "name": "stdout",
     "output_type": "stream",
     "text": [
      "\n",
      "Test set: Average loss: 0.0052, Accuracy: 7789/10000 (77.89%)\n",
      "\n",
      "Learning rate = 0.002658881435895751  for epoch:  200\n",
      "EPOCH: 200\n"
     ]
    },
    {
     "name": "stderr",
     "output_type": "stream",
     "text": [
      "Loss=1.0373023748397827 Batch_id=390 Accuracy=68.92: 100%|███████████████████████████████████████████████████████████████████████████████████████████████████████████████████████████████████████| 391/391 [00:15<00:00, 24.58it/s]\n"
     ]
    },
    {
     "name": "stdout",
     "output_type": "stream",
     "text": [
      "\n",
      "Test set: Average loss: 0.0051, Accuracy: 7805/10000 (78.05%)\n",
      "\n",
      "Learning rate = 0.002658881435895751  for epoch:  201\n"
     ]
    }
   ],
   "source": [
    "lr_data = []\n",
    "class_correct = list(0. for i in range(10))\n",
    "class_total = list(0. for i in range(10))\n",
    "epochs = 201\n",
    "for epoch in range(1, epochs):\n",
    "    print(\"EPOCH:\", epoch)\n",
    "    train_model.train(cnn_model, device, train_loader, optimizer, 1)\n",
    "    t_acc_epoch = train_model.test(cnn_model, device, test_loader, class_correct=class_correct,\n",
    "                                   class_total=class_total, epoch=epoch)\n",
    "    scheduler.step(t_acc_epoch)\n",
    "    for param_groups in optimizer.param_groups:\n",
    "        print(\"Learning rate =\", param_groups['lr'], \" for epoch: \", epoch + 1)  # print LR for different epochs\n",
    "        lr_data.append(param_groups['lr'])"
   ]
  },
  {
   "cell_type": "code",
   "execution_count": 13,
   "metadata": {
    "colab": {},
    "colab_type": "code",
    "id": "8U-Tpdq3naQv",
    "pycharm": {
     "is_executing": false
    }
   },
   "outputs": [
    {
     "name": "stdout",
     "output_type": "stream",
     "text": [
      "Test Accuracy of airplane: 74% (11834/15964)\n",
      "Test Accuracy of automobile: 89% (14144/15754)\n",
      "Test Accuracy of  bird: 55% (8759/15913)\n",
      "Test Accuracy of   cat: 42% (6705/15741)\n",
      "Test Accuracy of  deer: 62% (9929/15817)\n",
      "Test Accuracy of   dog: 66% (10362/15675)\n",
      "Test Accuracy of  frog: 86% (13635/15794)\n",
      "Test Accuracy of horse: 80% (12829/16027)\n",
      "Test Accuracy of  ship: 85% (13522/15765)\n",
      "Test Accuracy of truck: 86% (13520/15550)\n",
      "\n",
      "Test Accuracy (Overall): 72% (115239/158000)\n"
     ]
    }
   ],
   "source": [
    "import numpy as np\n",
    "for i in range(10):\n",
    "    if class_total[i] > 0:\n",
    "        print('Test Accuracy of %5s: %2d%% (%2d/%2d)' % (\n",
    "            classes[i], 100 * class_correct[i] / class_total[i],\n",
    "            np.sum(class_correct[i]), np.sum(class_total[i])))\n",
    "    else:\n",
    "        print('Test Accuracy of %5s: N/A (no training examples)' % (classes[i]))\n",
    "\n",
    "print('\\nTest Accuracy (Overall): %2d%% (%2d/%2d)' % (\n",
    "    100. * np.sum(class_correct) / np.sum(class_total),\n",
    "    np.sum(class_correct), np.sum(class_total)))"
   ]
  },
  {
   "cell_type": "code",
   "execution_count": 14,
   "metadata": {
    "pycharm": {
     "is_executing": false
    }
   },
   "outputs": [
    {
     "data": {
      "image/png": "[encoded data removed]",
      "text/plain": [
       "<Figure size 1500x2000 with 25 Axes>"
      ]
     },
     "metadata": {},
     "output_type": "display_data"
    }
   ],
   "source": [
    "# obtain one batch of test images\n",
    "dataiterator = iter(test_loader)\n",
    "plotdata.PlotData.plotmisclassifiedimages(dataiterator=dataiterator,model=cnn_model,classes=classes)"
   ]
  },
  {
   "cell_type": "code",
   "execution_count": 15,
   "metadata": {},
   "outputs": [
    {
     "data": {
      "image/png": "[encoded data removed]",
      "text/plain": [
       "<Figure size 1500x1000 with 6 Axes>"
      ]
     },
     "metadata": {},
     "output_type": "display_data"
    }
   ],
   "source": [
    "train_losses, train_acc = train_model.gettraindata()\n",
    "test_losses, test_acc = train_model.gettestdata()\n",
    "plotdata.PlotData.plottesttraingraph(train_losses=train_losses,train_acc=train_acc,test_losses=test_losses,\n",
    "                                     test_acc=test_acc,lr_data=lr_data)"
   ]
  },
  {
   "cell_type": "code",
   "execution_count": 16,
   "metadata": {},
   "outputs": [],
   "source": [
    "utils.Utils.savemodel(model=cnn_model,epoch=epochs,path=\"savedmodels/finalmodelwithdata.pt\",optimizer_state_dict=optimizer.state_dict\n",
    "                      ,train_losses=train_losses, train_acc=train_acc, test_acc=test_acc,\n",
    "                      test_losses=test_losses)"
   ]
  },
  {
   "cell_type": "code",
   "execution_count": null,
   "metadata": {},
   "outputs": [],
   "source": []
  },
  {
   "cell_type": "code",
   "execution_count": null,
   "metadata": {},
   "outputs": [],
   "source": []
  },
  {
   "cell_type": "code",
   "execution_count": null,
   "metadata": {},
   "outputs": [],
   "source": []
  }
 ],
 "metadata": {
  "accelerator": "GPU",
  "colab": {
   "collapsed_sections": [],
   "include_colab_link": true,
   "name": "A6-L1L2Regularisation.ipynb",
   "provenance": []
  },
  "kernelspec": {
   "display_name": "Python 3 (ipykernel)",
   "language": "python",
   "name": "python3"
  },
  "language_info": {
   "codemirror_mode": {
    "name": "ipython",
    "version": 3
   },
   "file_extension": ".py",
   "mimetype": "text/x-python",
   "name": "python",
   "nbconvert_exporter": "python",
   "pygments_lexer": "ipython3",
   "version": "3.10.11"
  },
  "pycharm": {
   "stem_cell": {
    "cell_type": "raw",
    "metadata": {
     "collapsed": false
    },
    "source": []
   }
  }
 },
 "nbformat": 4,
 "nbformat_minor": 4
}

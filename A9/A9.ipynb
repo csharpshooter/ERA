{
 "cells": [
  {
   "cell_type": "markdown",
   "metadata": {
    "colab_type": "text",
    "id": "aO-7t1Y7-hV4"
   },
   "source": [
    "# Import Libraries"
   ]
  },
  {
   "cell_type": "code",
   "execution_count": 1,
   "metadata": {
    "colab": {},
    "colab_type": "code",
    "id": "wePdX3_qnaPX",
    "outputId": "237a6280-f20c-4ccd-c5e0-a1bd1c0fab40",
    "pycharm": {
     "is_executing": false
    }
   },
   "outputs": [
    {
     "name": "stdout",
     "output_type": "stream",
     "text": [
      "Model execution started at:Sat Jul  1 05:48:10 2023\n"
     ]
    }
   ],
   "source": [
    "%config IPCompleter.greedy=True\n",
    "import datetime\n",
    "print(\"Model execution started at:\" + datetime.datetime.today().ctime())\n",
    "# import os.path\n",
    "# from pathlib import Path\n",
    "# Path(os.getcwd()).resolve().as_posix()"
   ]
  },
  {
   "cell_type": "code",
   "execution_count": 2,
   "metadata": {
    "colab": {},
    "colab_type": "code",
    "id": "8kH16rnZ7wt_",
    "pycharm": {
     "is_executing": false
    }
   },
   "outputs": [
    {
     "name": "stderr",
     "output_type": "stream",
     "text": [
      "C:\\Users\\abhij\\anaconda3\\envs\\pytorch\\lib\\site-packages\\paramiko\\transport.py:219: CryptographyDeprecationWarning: Blowfish has been deprecated\n",
      "  \"class\": algorithms.Blowfish,\n"
     ]
    }
   ],
   "source": [
    "import src.dataset.dataset as dst\n",
    "import src.dataset.dataloader as dl\n",
    "import src.preprocessing.albumentationstransforms as preprocessing\n",
    "import src.utils.utils as utils\n",
    "import src.models.train_model as train\n",
    "import src.visualization.plotdata as plotdata\n",
    "import src.preprocessing.customcompose as customcompose"
   ]
  },
  {
   "cell_type": "code",
   "execution_count": 3,
   "metadata": {
    "colab": {
     "base_uri": "https://localhost:8080/",
     "height": 295
    },
    "colab_type": "code",
    "id": "Y4pGGPo0H7QM",
    "outputId": "1a9a47c7-c1d5-4223-dc03-a2d1a0168a66",
    "pycharm": {
     "is_executing": false
    }
   },
   "outputs": [],
   "source": [
    "def printgpuinfo():\n",
    "    gpu_info = !nvidia-smi\n",
    "    gpu_info = '\\n'.join(gpu_info)\n",
    "    if gpu_info.find('failed') >= 0:\n",
    "      print('Select the Runtime → \"Change runtime type\" menu to enable a GPU accelerator, ')\n",
    "      print('and then re-execute this cell.')\n",
    "    else:\n",
    "      print(gpu_info)"
   ]
  },
  {
   "cell_type": "code",
   "execution_count": 4,
   "metadata": {
    "colab": {},
    "colab_type": "code",
    "id": "aqLk2ZwYH9PQ",
    "pycharm": {
     "is_executing": false
    }
   },
   "outputs": [],
   "source": [
    "def showsysteminfo():\n",
    "    from psutil import virtual_memory\n",
    "    ram_gb = virtual_memory().total / 1e9\n",
    "    print('Your runtime has {:.1f} gigabytes of available RAM\\n'.format(ram_gb))\n",
    "\n",
    "    if ram_gb < 20:\n",
    "      print('To enable a high-RAM runtime, select the Runtime → \"Change runtime type\"')\n",
    "      print('menu, and then select High-RAM in the Runtime shape dropdown. Then, ')\n",
    "      print('re-execute this cell.')\n",
    "    else:\n",
    "      print('You are using a high-RAM runtime!')"
   ]
  },
  {
   "cell_type": "code",
   "execution_count": 5,
   "metadata": {
    "colab": {},
    "colab_type": "code",
    "id": "0k-00HKfnaPs",
    "outputId": "1f33be0b-c119-42c6-8554-6e0b7607841d",
    "pycharm": {
     "is_executing": false
    }
   },
   "outputs": [
    {
     "name": "stdout",
     "output_type": "stream",
     "text": [
      "2.0.1\n"
     ]
    }
   ],
   "source": [
    "# !nvidia-smi --query-gpu=gpu_name,gpu_bus_id,vbios_version --format=csv\n",
    "# showsysteminfo()\n",
    "import torch\n",
    "print(torch.__version__)"
   ]
  },
  {
   "cell_type": "code",
   "execution_count": 6,
   "metadata": {
    "colab": {},
    "colab_type": "code",
    "id": "7ZuuPkUbnaPw",
    "pycharm": {
     "is_executing": false
    }
   },
   "outputs": [
    {
     "name": "stdout",
     "output_type": "stream",
     "text": [
      "std={0} [0.5, 0.5, 0.5]\n",
      "mean={0} [0.5, 0.5, 0.5]\n"
     ]
    }
   ],
   "source": [
    "# mean,std= utils.Utils.calculatemeanandstddeviation()\n",
    "mean=[0.5,0.5,0.5]\n",
    "std=[0.5,0.5,0.5]\n",
    "print(\"std={0}\",std)\n",
    "print(\"mean={0}\",mean)\n",
    "preproc = preprocessing.AlbumentaionsTransforms()\n",
    "train_transforms = preproc.gettraintransforms(mean,std)\n",
    "test_transforms = preproc.gettesttransforms(mean,std)\n",
    "compose_train = customcompose.CustomCompose(train_transforms)\n",
    "compose_test = customcompose.CustomCompose(test_transforms)"
   ]
  },
  {
   "cell_type": "code",
   "execution_count": 7,
   "metadata": {
    "colab": {},
    "colab_type": "code",
    "id": "YtssFUKb-jqx",
    "pycharm": {
     "is_executing": false
    }
   },
   "outputs": [
    {
     "name": "stdout",
     "output_type": "stream",
     "text": [
      "Files already downloaded and verified\n",
      "Files already downloaded and verified\n"
     ]
    }
   ],
   "source": [
    "ds = dst.Dataset()\n",
    "train_dataset = ds.gettraindataset(compose_train)\n",
    "test_dataset = ds.gettestdataset(compose_test)"
   ]
  },
  {
   "cell_type": "code",
   "execution_count": 8,
   "metadata": {
    "colab": {},
    "colab_type": "code",
    "id": "_4A84rlfDA23",
    "pycharm": {
     "is_executing": false
    }
   },
   "outputs": [
    {
     "name": "stdout",
     "output_type": "stream",
     "text": [
      "CUDA Available? True\n",
      "128\n"
     ]
    }
   ],
   "source": [
    "batch_size = 128\n",
    "dataloader = dl.Cifar10Dataloader(traindataset=train_dataset, testdataset=test_dataset,batch_size=batch_size)\n",
    "train_loader = dataloader.gettraindataloader()\n",
    "test_loader = dataloader.gettestdataloader()"
   ]
  },
  {
   "cell_type": "code",
   "execution_count": 9,
   "metadata": {
    "colab": {
     "base_uri": "https://localhost:8080/",
     "height": 34
    },
    "colab_type": "code",
    "id": "C8OLDR79DrHG",
    "outputId": "678f75da-f482-409d-f76e-36e1a3bbf54c",
    "pycharm": {
     "is_executing": false
    }
   },
   "outputs": [
    {
     "data": {
      "image/png": "[encoded data removed]",
      "text/plain": [
       "<Figure size 2500x400 with 20 Axes>"
      ]
     },
     "metadata": {},
     "output_type": "display_data"
    }
   ],
   "source": [
    "# specify the image classes\n",
    "classes = ['airplane', 'automobile', 'bird', 'cat', 'deer',\n",
    "           'dog', 'frog', 'horse', 'ship', 'truck']\n",
    "\n",
    "dataiterator = iter(train_loader)\n",
    "plotdata.PlotData.showImagesfromdataset(dataiterator,classes=classes)"
   ]
  },
  {
   "cell_type": "code",
   "execution_count": 10,
   "metadata": {
    "colab": {
     "base_uri": "https://localhost:8080/",
     "height": 491
    },
    "colab_type": "code",
    "id": "hWZPPo3yEHDW",
    "outputId": "dc455d25-a1b9-4b97-d1cb-bbdc6c38399d",
    "pycharm": {
     "is_executing": false
    }
   },
   "outputs": [
    {
     "name": "stdout",
     "output_type": "stream",
     "text": [
      "cuda\n",
      "----------------------------------------------------------------\n",
      "        Layer (type)               Output Shape         Param #\n",
      "================================================================\n",
      "            Conv2d-1           [-1, 32, 32, 32]             864\n",
      "       BatchNorm2d-2           [-1, 32, 32, 32]              64\n",
      "              ReLU-3           [-1, 32, 32, 32]               0\n",
      "           Dropout-4           [-1, 32, 32, 32]               0\n",
      "            Conv2d-5           [-1, 32, 32, 32]             288\n",
      "            Conv2d-6           [-1, 32, 32, 32]           1,056\n",
      "DepthwiseSeparableConv2d-7           [-1, 32, 32, 32]               0\n",
      "       BatchNorm2d-8           [-1, 32, 32, 32]              64\n",
      "              ReLU-9           [-1, 32, 32, 32]               0\n",
      "          Dropout-10           [-1, 32, 32, 32]               0\n",
      "           Conv2d-11           [-1, 64, 15, 15]          18,432\n",
      "      BatchNorm2d-12           [-1, 64, 15, 15]             128\n",
      "             ReLU-13           [-1, 64, 15, 15]               0\n",
      "          Dropout-14           [-1, 64, 15, 15]               0\n",
      "           Conv2d-15           [-1, 32, 15, 15]          18,432\n",
      "      BatchNorm2d-16           [-1, 32, 15, 15]              64\n",
      "             ReLU-17           [-1, 32, 15, 15]               0\n",
      "          Dropout-18           [-1, 32, 15, 15]               0\n",
      "           Conv2d-19           [-1, 32, 15, 15]             288\n",
      "           Conv2d-20           [-1, 32, 15, 15]           1,056\n",
      "DepthwiseSeparableConv2d-21           [-1, 32, 15, 15]               0\n",
      "      BatchNorm2d-22           [-1, 32, 15, 15]              64\n",
      "             ReLU-23           [-1, 32, 15, 15]               0\n",
      "          Dropout-24           [-1, 32, 15, 15]               0\n",
      "           Conv2d-25             [-1, 64, 8, 8]          18,432\n",
      "      BatchNorm2d-26             [-1, 64, 8, 8]             128\n",
      "             ReLU-27             [-1, 64, 8, 8]               0\n",
      "          Dropout-28             [-1, 64, 8, 8]               0\n",
      "           Conv2d-29             [-1, 32, 8, 8]          18,432\n",
      "      BatchNorm2d-30             [-1, 32, 8, 8]              64\n",
      "             ReLU-31             [-1, 32, 8, 8]               0\n",
      "          Dropout-32             [-1, 32, 8, 8]               0\n",
      "           Conv2d-33             [-1, 32, 8, 8]             288\n",
      "           Conv2d-34             [-1, 32, 8, 8]           1,056\n",
      "DepthwiseSeparableConv2d-35             [-1, 32, 8, 8]               0\n",
      "      BatchNorm2d-36             [-1, 32, 8, 8]              64\n",
      "             ReLU-37             [-1, 32, 8, 8]               0\n",
      "          Dropout-38             [-1, 32, 8, 8]               0\n",
      "           Conv2d-39             [-1, 64, 4, 4]          18,432\n",
      "      BatchNorm2d-40             [-1, 64, 4, 4]             128\n",
      "             ReLU-41             [-1, 64, 4, 4]               0\n",
      "          Dropout-42             [-1, 64, 4, 4]               0\n",
      "           Conv2d-43             [-1, 32, 4, 4]          18,432\n",
      "      BatchNorm2d-44             [-1, 32, 4, 4]              64\n",
      "             ReLU-45             [-1, 32, 4, 4]               0\n",
      "          Dropout-46             [-1, 32, 4, 4]               0\n",
      "           Conv2d-47             [-1, 32, 4, 4]             288\n",
      "           Conv2d-48             [-1, 32, 4, 4]           1,056\n",
      "DepthwiseSeparableConv2d-49             [-1, 32, 4, 4]               0\n",
      "      BatchNorm2d-50             [-1, 32, 4, 4]              64\n",
      "             ReLU-51             [-1, 32, 4, 4]               0\n",
      "          Dropout-52             [-1, 32, 4, 4]               0\n",
      "           Conv2d-53             [-1, 64, 2, 2]          18,432\n",
      "      BatchNorm2d-54             [-1, 64, 2, 2]             128\n",
      "             ReLU-55             [-1, 64, 2, 2]               0\n",
      "          Dropout-56             [-1, 64, 2, 2]               0\n",
      "        AvgPool2d-57             [-1, 64, 1, 1]               0\n",
      "           Linear-58                   [-1, 10]             640\n",
      "================================================================\n",
      "Total params: 136,928\n",
      "Trainable params: 136,928\n",
      "Non-trainable params: 0\n",
      "----------------------------------------------------------------\n",
      "Input size (MB): 0.01\n",
      "Forward/backward pass size (MB): 3.85\n",
      "Params size (MB): 0.52\n",
      "Estimated Total Size (MB): 4.38\n",
      "----------------------------------------------------------------\n"
     ]
    }
   ],
   "source": [
    "cnn_model, device = utils.Utils.createmodel()\n",
    "train_model = train.TrainModel()\n",
    "train_model.showmodelsummary(cnn_model)"
   ]
  },
  {
   "cell_type": "code",
   "execution_count": 11,
   "metadata": {
    "pycharm": {
     "is_executing": false
    }
   },
   "outputs": [],
   "source": [
    "optimizer = utils.Utils.createoptimizer(cnn_model, lr=0.03, momentum=0.9, weight_decay=0)\n",
    "scheduler = utils.Utils.createscheduler(optimizer, mode='max', factor=0.9, patience=5,\n",
    "                                        verbose=True)"
   ]
  },
  {
   "cell_type": "code",
   "execution_count": null,
   "metadata": {
    "colab": {
     "base_uri": "https://localhost:8080/",
     "height": 246
    },
    "colab_type": "code",
    "id": "hXXAg8hbK16u",
    "outputId": "45faab6a-4a85-4846-be9f-5e4e2a29b61e",
    "pycharm": {
     "is_executing": false
    }
   },
   "outputs": [
    {
     "name": "stdout",
     "output_type": "stream",
     "text": [
      "EPOCH: 1\n"
     ]
    },
    {
     "name": "stderr",
     "output_type": "stream",
     "text": [
      "  0%|                                                                                                                                                                                                      | 0/391 [00:00<?, ?it/s]C:\\Users\\abhij\\anaconda3\\envs\\pytorch\\lib\\site-packages\\torch\\nn\\_reduction.py:42: UserWarning: size_average and reduce args will be deprecated, please use reduction='sum' instead.\n",
      "  warnings.warn(warning.format(ret))\n",
      "Loss=1.5676957368850708 Batch_id=390 Accuracy=30.71: 100%|███████████████████████████████████████████████████████████████████████████████████████████████████████████████████████████████████████| 391/391 [00:18<00:00, 21.63it/s]\n"
     ]
    },
    {
     "name": "stdout",
     "output_type": "stream",
     "text": [
      "\n",
      "Test set: Average loss: 0.0129, Accuracy: 4109/10000 (41.09%)\n",
      "\n",
      "Validation accuracy increased (0.000000 --> 41.090000).  Saving model ...\n",
      "Learning rate = 0.03  for epoch:  2\n",
      "EPOCH: 2\n"
     ]
    },
    {
     "name": "stderr",
     "output_type": "stream",
     "text": [
      "Loss=1.5215729475021362 Batch_id=390 Accuracy=40.71: 100%|███████████████████████████████████████████████████████████████████████████████████████████████████████████████████████████████████████| 391/391 [00:15<00:00, 24.85it/s]\n"
     ]
    },
    {
     "name": "stdout",
     "output_type": "stream",
     "text": [
      "\n",
      "Test set: Average loss: 0.0109, Accuracy: 4963/10000 (49.63%)\n",
      "\n",
      "Validation accuracy increased (41.090000 --> 49.630000).  Saving model ...\n",
      "Learning rate = 0.03  for epoch:  3\n",
      "EPOCH: 3\n"
     ]
    },
    {
     "name": "stderr",
     "output_type": "stream",
     "text": [
      "Loss=1.4101247787475586 Batch_id=390 Accuracy=44.84: 100%|███████████████████████████████████████████████████████████████████████████████████████████████████████████████████████████████████████| 391/391 [00:15<00:00, 24.55it/s]\n"
     ]
    },
    {
     "name": "stdout",
     "output_type": "stream",
     "text": [
      "\n",
      "Test set: Average loss: 0.0104, Accuracy: 5268/10000 (52.68%)\n",
      "\n",
      "Validation accuracy increased (49.630000 --> 52.680000).  Saving model ...\n",
      "Learning rate = 0.03  for epoch:  4\n",
      "EPOCH: 4\n"
     ]
    },
    {
     "name": "stderr",
     "output_type": "stream",
     "text": [
      "Loss=1.3918606042861938 Batch_id=390 Accuracy=47.93: 100%|███████████████████████████████████████████████████████████████████████████████████████████████████████████████████████████████████████| 391/391 [00:16<00:00, 24.37it/s]\n"
     ]
    },
    {
     "name": "stdout",
     "output_type": "stream",
     "text": [
      "\n",
      "Test set: Average loss: 0.0099, Accuracy: 5486/10000 (54.86%)\n",
      "\n",
      "Validation accuracy increased (52.680000 --> 54.860000).  Saving model ...\n",
      "Learning rate = 0.03  for epoch:  5\n",
      "EPOCH: 5\n"
     ]
    },
    {
     "name": "stderr",
     "output_type": "stream",
     "text": [
      "Loss=1.4746959209442139 Batch_id=390 Accuracy=49.72: 100%|███████████████████████████████████████████████████████████████████████████████████████████████████████████████████████████████████████| 391/391 [00:15<00:00, 25.38it/s]\n"
     ]
    },
    {
     "name": "stdout",
     "output_type": "stream",
     "text": [
      "\n",
      "Test set: Average loss: 0.0100, Accuracy: 5522/10000 (55.22%)\n",
      "\n",
      "Validation accuracy increased (54.860000 --> 55.220000).  Saving model ...\n",
      "Learning rate = 0.03  for epoch:  6\n",
      "EPOCH: 6\n"
     ]
    },
    {
     "name": "stderr",
     "output_type": "stream",
     "text": [
      "Loss=1.629990577697754 Batch_id=390 Accuracy=51.99: 100%|████████████████████████████████████████████████████████████████████████████████████████████████████████████████████████████████████████| 391/391 [00:16<00:00, 24.42it/s]\n"
     ]
    },
    {
     "name": "stdout",
     "output_type": "stream",
     "text": [
      "\n",
      "Test set: Average loss: 0.0094, Accuracy: 5765/10000 (57.65%)\n",
      "\n",
      "Validation accuracy increased (55.220000 --> 57.650000).  Saving model ...\n",
      "Learning rate = 0.03  for epoch:  7\n",
      "EPOCH: 7\n"
     ]
    },
    {
     "name": "stderr",
     "output_type": "stream",
     "text": [
      "Loss=1.3166120052337646 Batch_id=390 Accuracy=53.40: 100%|███████████████████████████████████████████████████████████████████████████████████████████████████████████████████████████████████████| 391/391 [00:15<00:00, 25.13it/s]\n"
     ]
    },
    {
     "name": "stdout",
     "output_type": "stream",
     "text": [
      "\n",
      "Test set: Average loss: 0.0100, Accuracy: 5749/10000 (57.49%)\n",
      "\n",
      "Learning rate = 0.03  for epoch:  8\n",
      "EPOCH: 8\n"
     ]
    },
    {
     "name": "stderr",
     "output_type": "stream",
     "text": [
      "Loss=1.2423967123031616 Batch_id=390 Accuracy=55.01: 100%|███████████████████████████████████████████████████████████████████████████████████████████████████████████████████████████████████████| 391/391 [00:15<00:00, 24.85it/s]\n"
     ]
    },
    {
     "name": "stdout",
     "output_type": "stream",
     "text": [
      "\n",
      "Test set: Average loss: 0.0094, Accuracy: 5954/10000 (59.54%)\n",
      "\n",
      "Validation accuracy increased (57.650000 --> 59.540000).  Saving model ...\n",
      "Learning rate = 0.03  for epoch:  9\n",
      "EPOCH: 9\n"
     ]
    },
    {
     "name": "stderr",
     "output_type": "stream",
     "text": [
      "Loss=1.1004060506820679 Batch_id=390 Accuracy=56.17: 100%|███████████████████████████████████████████████████████████████████████████████████████████████████████████████████████████████████████| 391/391 [00:15<00:00, 24.81it/s]\n"
     ]
    },
    {
     "name": "stdout",
     "output_type": "stream",
     "text": [
      "\n",
      "Test set: Average loss: 0.0076, Accuracy: 6587/10000 (65.87%)\n",
      "\n",
      "Validation accuracy increased (59.540000 --> 65.870000).  Saving model ...\n",
      "Learning rate = 0.03  for epoch:  10\n",
      "EPOCH: 10\n"
     ]
    },
    {
     "name": "stderr",
     "output_type": "stream",
     "text": [
      "Loss=1.1575305461883545 Batch_id=390 Accuracy=58.03: 100%|███████████████████████████████████████████████████████████████████████████████████████████████████████████████████████████████████████| 391/391 [00:16<00:00, 24.42it/s]\n"
     ]
    },
    {
     "name": "stdout",
     "output_type": "stream",
     "text": [
      "\n",
      "Test set: Average loss: 0.0077, Accuracy: 6628/10000 (66.28%)\n",
      "\n",
      "Validation accuracy increased (65.870000 --> 66.280000).  Saving model ...\n",
      "Learning rate = 0.03  for epoch:  11\n",
      "EPOCH: 11\n"
     ]
    },
    {
     "name": "stderr",
     "output_type": "stream",
     "text": [
      "Loss=1.3324061632156372 Batch_id=390 Accuracy=58.49: 100%|███████████████████████████████████████████████████████████████████████████████████████████████████████████████████████████████████████| 391/391 [00:15<00:00, 24.74it/s]\n"
     ]
    },
    {
     "name": "stdout",
     "output_type": "stream",
     "text": [
      "\n",
      "Test set: Average loss: 0.0080, Accuracy: 6482/10000 (64.82%)\n",
      "\n",
      "Learning rate = 0.03  for epoch:  12\n",
      "EPOCH: 12\n"
     ]
    },
    {
     "name": "stderr",
     "output_type": "stream",
     "text": [
      "Loss=1.1707308292388916 Batch_id=390 Accuracy=59.53: 100%|███████████████████████████████████████████████████████████████████████████████████████████████████████████████████████████████████████| 391/391 [00:15<00:00, 24.61it/s]\n"
     ]
    },
    {
     "name": "stdout",
     "output_type": "stream",
     "text": [
      "\n",
      "Test set: Average loss: 0.0076, Accuracy: 6576/10000 (65.76%)\n",
      "\n",
      "Learning rate = 0.03  for epoch:  13\n",
      "EPOCH: 13\n"
     ]
    },
    {
     "name": "stderr",
     "output_type": "stream",
     "text": [
      "Loss=1.0831531286239624 Batch_id=390 Accuracy=60.24: 100%|███████████████████████████████████████████████████████████████████████████████████████████████████████████████████████████████████████| 391/391 [00:15<00:00, 24.76it/s]\n"
     ]
    },
    {
     "name": "stdout",
     "output_type": "stream",
     "text": [
      "\n",
      "Test set: Average loss: 0.0071, Accuracy: 6772/10000 (67.72%)\n",
      "\n",
      "Validation accuracy increased (66.280000 --> 67.720000).  Saving model ...\n",
      "Learning rate = 0.03  for epoch:  14\n",
      "EPOCH: 14\n"
     ]
    },
    {
     "name": "stderr",
     "output_type": "stream",
     "text": [
      "Loss=1.0865782499313354 Batch_id=390 Accuracy=61.35: 100%|███████████████████████████████████████████████████████████████████████████████████████████████████████████████████████████████████████| 391/391 [00:15<00:00, 24.44it/s]\n"
     ]
    },
    {
     "name": "stdout",
     "output_type": "stream",
     "text": [
      "\n",
      "Test set: Average loss: 0.0066, Accuracy: 7078/10000 (70.78%)\n",
      "\n",
      "Validation accuracy increased (67.720000 --> 70.780000).  Saving model ...\n",
      "Learning rate = 0.03  for epoch:  15\n",
      "EPOCH: 15\n"
     ]
    },
    {
     "name": "stderr",
     "output_type": "stream",
     "text": [
      "Loss=0.9048405885696411 Batch_id=390 Accuracy=61.84: 100%|███████████████████████████████████████████████████████████████████████████████████████████████████████████████████████████████████████| 391/391 [00:16<00:00, 23.98it/s]\n"
     ]
    },
    {
     "name": "stdout",
     "output_type": "stream",
     "text": [
      "\n",
      "Test set: Average loss: 0.0071, Accuracy: 6883/10000 (68.83%)\n",
      "\n",
      "Learning rate = 0.03  for epoch:  16\n",
      "EPOCH: 16\n"
     ]
    },
    {
     "name": "stderr",
     "output_type": "stream",
     "text": [
      "Loss=0.9780576825141907 Batch_id=390 Accuracy=62.03: 100%|███████████████████████████████████████████████████████████████████████████████████████████████████████████████████████████████████████| 391/391 [00:15<00:00, 24.58it/s]\n"
     ]
    },
    {
     "name": "stdout",
     "output_type": "stream",
     "text": [
      "\n",
      "Test set: Average loss: 0.0073, Accuracy: 6828/10000 (68.28%)\n",
      "\n",
      "Learning rate = 0.03  for epoch:  17\n",
      "EPOCH: 17\n"
     ]
    },
    {
     "name": "stderr",
     "output_type": "stream",
     "text": [
      "Loss=0.9651325941085815 Batch_id=390 Accuracy=62.40: 100%|███████████████████████████████████████████████████████████████████████████████████████████████████████████████████████████████████████| 391/391 [00:15<00:00, 25.00it/s]\n"
     ]
    },
    {
     "name": "stdout",
     "output_type": "stream",
     "text": [
      "\n",
      "Test set: Average loss: 0.0069, Accuracy: 6942/10000 (69.42%)\n",
      "\n",
      "Learning rate = 0.03  for epoch:  18\n",
      "EPOCH: 18\n"
     ]
    },
    {
     "name": "stderr",
     "output_type": "stream",
     "text": [
      "Loss=1.1364613771438599 Batch_id=390 Accuracy=62.90: 100%|███████████████████████████████████████████████████████████████████████████████████████████████████████████████████████████████████████| 391/391 [00:15<00:00, 24.88it/s]\n"
     ]
    },
    {
     "name": "stdout",
     "output_type": "stream",
     "text": [
      "\n",
      "Test set: Average loss: 0.0069, Accuracy: 6948/10000 (69.48%)\n",
      "\n",
      "Learning rate = 0.03  for epoch:  19\n",
      "EPOCH: 19\n"
     ]
    },
    {
     "name": "stderr",
     "output_type": "stream",
     "text": [
      "Loss=1.0199873447418213 Batch_id=390 Accuracy=63.48: 100%|███████████████████████████████████████████████████████████████████████████████████████████████████████████████████████████████████████| 391/391 [00:15<00:00, 24.52it/s]\n"
     ]
    },
    {
     "name": "stdout",
     "output_type": "stream",
     "text": [
      "\n",
      "Test set: Average loss: 0.0066, Accuracy: 7017/10000 (70.17%)\n",
      "\n",
      "Learning rate = 0.03  for epoch:  20\n",
      "EPOCH: 20\n"
     ]
    },
    {
     "name": "stderr",
     "output_type": "stream",
     "text": [
      "Loss=0.813879132270813 Batch_id=390 Accuracy=64.02: 100%|████████████████████████████████████████████████████████████████████████████████████████████████████████████████████████████████████████| 391/391 [00:15<00:00, 24.55it/s]\n"
     ]
    },
    {
     "name": "stdout",
     "output_type": "stream",
     "text": [
      "\n",
      "Test set: Average loss: 0.0064, Accuracy: 7221/10000 (72.21%)\n",
      "\n",
      "Validation accuracy increased (70.780000 --> 72.210000).  Saving model ...\n",
      "Learning rate = 0.03  for epoch:  21\n",
      "EPOCH: 21\n"
     ]
    },
    {
     "name": "stderr",
     "output_type": "stream",
     "text": [
      "Loss=1.0919485092163086 Batch_id=390 Accuracy=64.46: 100%|███████████████████████████████████████████████████████████████████████████████████████████████████████████████████████████████████████| 391/391 [00:24<00:00, 16.01it/s]\n"
     ]
    },
    {
     "name": "stdout",
     "output_type": "stream",
     "text": [
      "\n",
      "Test set: Average loss: 0.0063, Accuracy: 7281/10000 (72.81%)\n",
      "\n",
      "Validation accuracy increased (72.210000 --> 72.810000).  Saving model ...\n",
      "Learning rate = 0.03  for epoch:  22\n",
      "EPOCH: 22\n"
     ]
    },
    {
     "name": "stderr",
     "output_type": "stream",
     "text": [
      "Loss=0.8930028080940247 Batch_id=390 Accuracy=64.81: 100%|███████████████████████████████████████████████████████████████████████████████████████████████████████████████████████████████████████| 391/391 [00:26<00:00, 14.76it/s]\n"
     ]
    },
    {
     "name": "stdout",
     "output_type": "stream",
     "text": [
      "\n",
      "Test set: Average loss: 0.0062, Accuracy: 7317/10000 (73.17%)\n",
      "\n",
      "Validation accuracy increased (72.810000 --> 73.170000).  Saving model ...\n",
      "Learning rate = 0.03  for epoch:  23\n",
      "EPOCH: 23\n"
     ]
    },
    {
     "name": "stderr",
     "output_type": "stream",
     "text": [
      "Loss=0.9877986907958984 Batch_id=390 Accuracy=65.02: 100%|███████████████████████████████████████████████████████████████████████████████████████████████████████████████████████████████████████| 391/391 [00:26<00:00, 14.65it/s]\n"
     ]
    },
    {
     "name": "stdout",
     "output_type": "stream",
     "text": [
      "\n",
      "Test set: Average loss: 0.0069, Accuracy: 7048/10000 (70.48%)\n",
      "\n",
      "Learning rate = 0.03  for epoch:  24\n",
      "EPOCH: 24\n"
     ]
    },
    {
     "name": "stderr",
     "output_type": "stream",
     "text": [
      "Loss=0.9146003723144531 Batch_id=390 Accuracy=65.32: 100%|███████████████████████████████████████████████████████████████████████████████████████████████████████████████████████████████████████| 391/391 [00:26<00:00, 14.78it/s]\n"
     ]
    },
    {
     "name": "stdout",
     "output_type": "stream",
     "text": [
      "\n",
      "Test set: Average loss: 0.0057, Accuracy: 7452/10000 (74.52%)\n",
      "\n",
      "Validation accuracy increased (73.170000 --> 74.520000).  Saving model ...\n",
      "Learning rate = 0.03  for epoch:  25\n",
      "EPOCH: 25\n"
     ]
    },
    {
     "name": "stderr",
     "output_type": "stream",
     "text": [
      "Loss=0.8955767750740051 Batch_id=390 Accuracy=65.40: 100%|███████████████████████████████████████████████████████████████████████████████████████████████████████████████████████████████████████| 391/391 [00:25<00:00, 15.27it/s]\n"
     ]
    },
    {
     "name": "stdout",
     "output_type": "stream",
     "text": [
      "\n",
      "Test set: Average loss: 0.0057, Accuracy: 7489/10000 (74.89%)\n",
      "\n",
      "Validation accuracy increased (74.520000 --> 74.890000).  Saving model ...\n",
      "Learning rate = 0.03  for epoch:  26\n",
      "EPOCH: 26\n"
     ]
    },
    {
     "name": "stderr",
     "output_type": "stream",
     "text": [
      "Loss=0.9782013893127441 Batch_id=390 Accuracy=66.06: 100%|███████████████████████████████████████████████████████████████████████████████████████████████████████████████████████████████████████| 391/391 [00:26<00:00, 14.95it/s]\n"
     ]
    },
    {
     "name": "stdout",
     "output_type": "stream",
     "text": [
      "\n",
      "Test set: Average loss: 0.0058, Accuracy: 7420/10000 (74.20%)\n",
      "\n",
      "Learning rate = 0.03  for epoch:  27\n",
      "EPOCH: 27\n"
     ]
    },
    {
     "name": "stderr",
     "output_type": "stream",
     "text": [
      "Loss=0.859669029712677 Batch_id=390 Accuracy=66.06: 100%|████████████████████████████████████████████████████████████████████████████████████████████████████████████████████████████████████████| 391/391 [00:26<00:00, 14.88it/s]\n"
     ]
    },
    {
     "name": "stdout",
     "output_type": "stream",
     "text": [
      "\n",
      "Test set: Average loss: 0.0060, Accuracy: 7407/10000 (74.07%)\n",
      "\n",
      "Learning rate = 0.03  for epoch:  28\n",
      "EPOCH: 28\n"
     ]
    },
    {
     "name": "stderr",
     "output_type": "stream",
     "text": [
      "Loss=0.9700604677200317 Batch_id=390 Accuracy=66.01: 100%|███████████████████████████████████████████████████████████████████████████████████████████████████████████████████████████████████████| 391/391 [00:27<00:00, 14.43it/s]\n"
     ]
    },
    {
     "name": "stdout",
     "output_type": "stream",
     "text": [
      "\n",
      "Test set: Average loss: 0.0057, Accuracy: 7480/10000 (74.80%)\n",
      "\n",
      "Learning rate = 0.03  for epoch:  29\n",
      "EPOCH: 29\n"
     ]
    },
    {
     "name": "stderr",
     "output_type": "stream",
     "text": [
      "Loss=0.9030526280403137 Batch_id=390 Accuracy=66.45: 100%|███████████████████████████████████████████████████████████████████████████████████████████████████████████████████████████████████████| 391/391 [00:25<00:00, 15.26it/s]\n"
     ]
    },
    {
     "name": "stdout",
     "output_type": "stream",
     "text": [
      "\n",
      "Test set: Average loss: 0.0060, Accuracy: 7372/10000 (73.72%)\n",
      "\n",
      "Learning rate = 0.03  for epoch:  30\n",
      "EPOCH: 30\n"
     ]
    },
    {
     "name": "stderr",
     "output_type": "stream",
     "text": [
      "Loss=0.912004828453064 Batch_id=390 Accuracy=66.51: 100%|████████████████████████████████████████████████████████████████████████████████████████████████████████████████████████████████████████| 391/391 [00:26<00:00, 14.71it/s]\n"
     ]
    },
    {
     "name": "stdout",
     "output_type": "stream",
     "text": [
      "\n",
      "Test set: Average loss: 0.0061, Accuracy: 7378/10000 (73.78%)\n",
      "\n",
      "Epoch 00030: reducing learning rate of group 0 to 2.7000e-02.\n",
      "Learning rate = 0.027  for epoch:  31\n",
      "EPOCH: 31\n"
     ]
    },
    {
     "name": "stderr",
     "output_type": "stream",
     "text": [
      "Loss=0.7526746988296509 Batch_id=390 Accuracy=67.13: 100%|███████████████████████████████████████████████████████████████████████████████████████████████████████████████████████████████████████| 391/391 [00:26<00:00, 14.73it/s]\n"
     ]
    },
    {
     "name": "stdout",
     "output_type": "stream",
     "text": [
      "\n",
      "Test set: Average loss: 0.0055, Accuracy: 7638/10000 (76.38%)\n",
      "\n",
      "Validation accuracy increased (74.890000 --> 76.380000).  Saving model ...\n",
      "Learning rate = 0.027  for epoch:  32\n",
      "EPOCH: 32\n"
     ]
    },
    {
     "name": "stderr",
     "output_type": "stream",
     "text": [
      "Loss=1.1040514707565308 Batch_id=390 Accuracy=67.32: 100%|███████████████████████████████████████████████████████████████████████████████████████████████████████████████████████████████████████| 391/391 [00:26<00:00, 14.61it/s]\n"
     ]
    },
    {
     "name": "stdout",
     "output_type": "stream",
     "text": [
      "\n",
      "Test set: Average loss: 0.0059, Accuracy: 7449/10000 (74.49%)\n",
      "\n",
      "Learning rate = 0.027  for epoch:  33\n",
      "EPOCH: 33\n"
     ]
    },
    {
     "name": "stderr",
     "output_type": "stream",
     "text": [
      "Loss=0.8345694541931152 Batch_id=390 Accuracy=67.38: 100%|███████████████████████████████████████████████████████████████████████████████████████████████████████████████████████████████████████| 391/391 [00:26<00:00, 14.49it/s]\n"
     ]
    },
    {
     "name": "stdout",
     "output_type": "stream",
     "text": [
      "\n",
      "Test set: Average loss: 0.0058, Accuracy: 7498/10000 (74.98%)\n",
      "\n",
      "Learning rate = 0.027  for epoch:  34\n",
      "EPOCH: 34\n"
     ]
    },
    {
     "name": "stderr",
     "output_type": "stream",
     "text": [
      "Loss=0.8332499265670776 Batch_id=390 Accuracy=67.68: 100%|███████████████████████████████████████████████████████████████████████████████████████████████████████████████████████████████████████| 391/391 [00:27<00:00, 14.43it/s]\n"
     ]
    },
    {
     "name": "stdout",
     "output_type": "stream",
     "text": [
      "\n",
      "Test set: Average loss: 0.0058, Accuracy: 7494/10000 (74.94%)\n",
      "\n",
      "Learning rate = 0.027  for epoch:  35\n",
      "EPOCH: 35\n"
     ]
    },
    {
     "name": "stderr",
     "output_type": "stream",
     "text": [
      "Loss=0.7993912100791931 Batch_id=390 Accuracy=67.93: 100%|███████████████████████████████████████████████████████████████████████████████████████████████████████████████████████████████████████| 391/391 [00:26<00:00, 14.77it/s]\n"
     ]
    },
    {
     "name": "stdout",
     "output_type": "stream",
     "text": [
      "\n",
      "Test set: Average loss: 0.0057, Accuracy: 7513/10000 (75.13%)\n",
      "\n",
      "Learning rate = 0.027  for epoch:  36\n",
      "EPOCH: 36\n"
     ]
    },
    {
     "name": "stderr",
     "output_type": "stream",
     "text": [
      "Loss=0.8254883885383606 Batch_id=390 Accuracy=68.07: 100%|███████████████████████████████████████████████████████████████████████████████████████████████████████████████████████████████████████| 391/391 [00:26<00:00, 14.62it/s]\n"
     ]
    },
    {
     "name": "stdout",
     "output_type": "stream",
     "text": [
      "\n",
      "Test set: Average loss: 0.0055, Accuracy: 7625/10000 (76.25%)\n",
      "\n",
      "Learning rate = 0.027  for epoch:  37\n",
      "EPOCH: 37\n"
     ]
    },
    {
     "name": "stderr",
     "output_type": "stream",
     "text": [
      "Loss=1.0837339162826538 Batch_id=390 Accuracy=68.31: 100%|███████████████████████████████████████████████████████████████████████████████████████████████████████████████████████████████████████| 391/391 [00:26<00:00, 14.75it/s]\n"
     ]
    },
    {
     "name": "stdout",
     "output_type": "stream",
     "text": [
      "\n",
      "Test set: Average loss: 0.0052, Accuracy: 7717/10000 (77.17%)\n",
      "\n",
      "Validation accuracy increased (76.380000 --> 77.170000).  Saving model ...\n",
      "Learning rate = 0.027  for epoch:  38\n",
      "EPOCH: 38\n"
     ]
    },
    {
     "name": "stderr",
     "output_type": "stream",
     "text": [
      "Loss=1.0105183124542236 Batch_id=390 Accuracy=68.46: 100%|███████████████████████████████████████████████████████████████████████████████████████████████████████████████████████████████████████| 391/391 [00:26<00:00, 14.93it/s]\n"
     ]
    },
    {
     "name": "stdout",
     "output_type": "stream",
     "text": [
      "\n",
      "Test set: Average loss: 0.0056, Accuracy: 7579/10000 (75.79%)\n",
      "\n",
      "Learning rate = 0.027  for epoch:  39\n",
      "EPOCH: 39\n"
     ]
    },
    {
     "name": "stderr",
     "output_type": "stream",
     "text": [
      "Loss=0.7884876132011414 Batch_id=390 Accuracy=68.44: 100%|███████████████████████████████████████████████████████████████████████████████████████████████████████████████████████████████████████| 391/391 [00:26<00:00, 14.59it/s]\n"
     ]
    },
    {
     "name": "stdout",
     "output_type": "stream",
     "text": [
      "\n",
      "Test set: Average loss: 0.0055, Accuracy: 7643/10000 (76.43%)\n",
      "\n",
      "Learning rate = 0.027  for epoch:  40\n",
      "EPOCH: 40\n"
     ]
    },
    {
     "name": "stderr",
     "output_type": "stream",
     "text": [
      "Loss=0.7973183989524841 Batch_id=390 Accuracy=68.83: 100%|███████████████████████████████████████████████████████████████████████████████████████████████████████████████████████████████████████| 391/391 [00:26<00:00, 14.60it/s]\n"
     ]
    },
    {
     "name": "stdout",
     "output_type": "stream",
     "text": [
      "\n",
      "Test set: Average loss: 0.0050, Accuracy: 7772/10000 (77.72%)\n",
      "\n",
      "Validation accuracy increased (77.170000 --> 77.720000).  Saving model ...\n",
      "Learning rate = 0.027  for epoch:  41\n",
      "EPOCH: 41\n"
     ]
    },
    {
     "name": "stderr",
     "output_type": "stream",
     "text": [
      "Loss=0.7099608182907104 Batch_id=390 Accuracy=68.67: 100%|███████████████████████████████████████████████████████████████████████████████████████████████████████████████████████████████████████| 391/391 [00:26<00:00, 14.77it/s]\n"
     ]
    },
    {
     "name": "stdout",
     "output_type": "stream",
     "text": [
      "\n",
      "Test set: Average loss: 0.0051, Accuracy: 7808/10000 (78.08%)\n",
      "\n",
      "Validation accuracy increased (77.720000 --> 78.080000).  Saving model ...\n",
      "Learning rate = 0.027  for epoch:  42\n",
      "EPOCH: 42\n"
     ]
    },
    {
     "name": "stderr",
     "output_type": "stream",
     "text": [
      "Loss=0.9432846903800964 Batch_id=390 Accuracy=68.65: 100%|███████████████████████████████████████████████████████████████████████████████████████████████████████████████████████████████████████| 391/391 [00:27<00:00, 14.45it/s]\n"
     ]
    },
    {
     "name": "stdout",
     "output_type": "stream",
     "text": [
      "\n",
      "Test set: Average loss: 0.0054, Accuracy: 7693/10000 (76.93%)\n",
      "\n",
      "Learning rate = 0.027  for epoch:  43\n",
      "EPOCH: 43\n"
     ]
    },
    {
     "name": "stderr",
     "output_type": "stream",
     "text": [
      "Loss=0.8511744737625122 Batch_id=390 Accuracy=68.85: 100%|███████████████████████████████████████████████████████████████████████████████████████████████████████████████████████████████████████| 391/391 [00:26<00:00, 14.75it/s]\n"
     ]
    },
    {
     "name": "stdout",
     "output_type": "stream",
     "text": [
      "\n",
      "Test set: Average loss: 0.0053, Accuracy: 7688/10000 (76.88%)\n",
      "\n",
      "Learning rate = 0.027  for epoch:  44\n",
      "EPOCH: 44\n"
     ]
    },
    {
     "name": "stderr",
     "output_type": "stream",
     "text": [
      "Loss=0.8445018529891968 Batch_id=390 Accuracy=69.22: 100%|███████████████████████████████████████████████████████████████████████████████████████████████████████████████████████████████████████| 391/391 [00:26<00:00, 14.50it/s]\n"
     ]
    },
    {
     "name": "stdout",
     "output_type": "stream",
     "text": [
      "\n",
      "Test set: Average loss: 0.0051, Accuracy: 7763/10000 (77.63%)\n",
      "\n",
      "Learning rate = 0.027  for epoch:  45\n",
      "EPOCH: 45\n"
     ]
    },
    {
     "name": "stderr",
     "output_type": "stream",
     "text": [
      "Loss=0.8019798398017883 Batch_id=390 Accuracy=69.30: 100%|███████████████████████████████████████████████████████████████████████████████████████████████████████████████████████████████████████| 391/391 [00:26<00:00, 14.72it/s]\n"
     ]
    },
    {
     "name": "stdout",
     "output_type": "stream",
     "text": [
      "\n",
      "Test set: Average loss: 0.0050, Accuracy: 7784/10000 (77.84%)\n",
      "\n",
      "Learning rate = 0.027  for epoch:  46\n",
      "EPOCH: 46\n"
     ]
    },
    {
     "name": "stderr",
     "output_type": "stream",
     "text": [
      "Loss=1.027616262435913 Batch_id=390 Accuracy=69.47: 100%|████████████████████████████████████████████████████████████████████████████████████████████████████████████████████████████████████████| 391/391 [00:26<00:00, 14.58it/s]\n"
     ]
    },
    {
     "name": "stdout",
     "output_type": "stream",
     "text": [
      "\n",
      "Test set: Average loss: 0.0054, Accuracy: 7702/10000 (77.02%)\n",
      "\n",
      "Learning rate = 0.027  for epoch:  47\n",
      "EPOCH: 47\n"
     ]
    },
    {
     "name": "stderr",
     "output_type": "stream",
     "text": [
      "Loss=0.929370105266571 Batch_id=390 Accuracy=69.37: 100%|████████████████████████████████████████████████████████████████████████████████████████████████████████████████████████████████████████| 391/391 [00:26<00:00, 14.65it/s]\n"
     ]
    },
    {
     "name": "stdout",
     "output_type": "stream",
     "text": [
      "\n",
      "Test set: Average loss: 0.0051, Accuracy: 7756/10000 (77.56%)\n",
      "\n",
      "Epoch 00047: reducing learning rate of group 0 to 2.4300e-02.\n",
      "Learning rate = 0.0243  for epoch:  48\n",
      "EPOCH: 48\n"
     ]
    },
    {
     "name": "stderr",
     "output_type": "stream",
     "text": [
      "Loss=0.8600963354110718 Batch_id=390 Accuracy=69.65: 100%|███████████████████████████████████████████████████████████████████████████████████████████████████████████████████████████████████████| 391/391 [00:27<00:00, 14.19it/s]\n"
     ]
    },
    {
     "name": "stdout",
     "output_type": "stream",
     "text": [
      "\n",
      "Test set: Average loss: 0.0050, Accuracy: 7862/10000 (78.62%)\n",
      "\n",
      "Validation accuracy increased (78.080000 --> 78.620000).  Saving model ...\n",
      "Learning rate = 0.0243  for epoch:  49\n",
      "EPOCH: 49\n"
     ]
    },
    {
     "name": "stderr",
     "output_type": "stream",
     "text": [
      "Loss=0.959375262260437 Batch_id=390 Accuracy=69.88: 100%|████████████████████████████████████████████████████████████████████████████████████████████████████████████████████████████████████████| 391/391 [00:26<00:00, 14.60it/s]\n"
     ]
    },
    {
     "name": "stdout",
     "output_type": "stream",
     "text": [
      "\n",
      "Test set: Average loss: 0.0051, Accuracy: 7824/10000 (78.24%)\n",
      "\n",
      "Learning rate = 0.0243  for epoch:  50\n",
      "EPOCH: 50\n"
     ]
    },
    {
     "name": "stderr",
     "output_type": "stream",
     "text": [
      "Loss=0.8439138531684875 Batch_id=390 Accuracy=69.63: 100%|███████████████████████████████████████████████████████████████████████████████████████████████████████████████████████████████████████| 391/391 [00:26<00:00, 14.49it/s]\n"
     ]
    },
    {
     "name": "stdout",
     "output_type": "stream",
     "text": [
      "\n",
      "Test set: Average loss: 0.0052, Accuracy: 7726/10000 (77.26%)\n",
      "\n",
      "Learning rate = 0.0243  for epoch:  51\n",
      "EPOCH: 51\n"
     ]
    },
    {
     "name": "stderr",
     "output_type": "stream",
     "text": [
      "Loss=0.7708804607391357 Batch_id=390 Accuracy=70.11: 100%|███████████████████████████████████████████████████████████████████████████████████████████████████████████████████████████████████████| 391/391 [00:27<00:00, 14.46it/s]\n"
     ]
    },
    {
     "name": "stdout",
     "output_type": "stream",
     "text": [
      "\n",
      "Test set: Average loss: 0.0049, Accuracy: 7862/10000 (78.62%)\n",
      "\n",
      "Validation accuracy increased (78.620000 --> 78.620000).  Saving model ...\n",
      "Learning rate = 0.0243  for epoch:  52\n",
      "EPOCH: 52\n"
     ]
    },
    {
     "name": "stderr",
     "output_type": "stream",
     "text": [
      "Loss=0.8352169990539551 Batch_id=390 Accuracy=70.17: 100%|███████████████████████████████████████████████████████████████████████████████████████████████████████████████████████████████████████| 391/391 [00:25<00:00, 15.13it/s]\n"
     ]
    },
    {
     "name": "stdout",
     "output_type": "stream",
     "text": [
      "\n",
      "Test set: Average loss: 0.0049, Accuracy: 7834/10000 (78.34%)\n",
      "\n",
      "Learning rate = 0.0243  for epoch:  53\n",
      "EPOCH: 53\n"
     ]
    },
    {
     "name": "stderr",
     "output_type": "stream",
     "text": [
      "Loss=0.8882792592048645 Batch_id=390 Accuracy=69.98: 100%|███████████████████████████████████████████████████████████████████████████████████████████████████████████████████████████████████████| 391/391 [00:26<00:00, 14.54it/s]\n"
     ]
    },
    {
     "name": "stdout",
     "output_type": "stream",
     "text": [
      "\n",
      "Test set: Average loss: 0.0050, Accuracy: 7848/10000 (78.48%)\n",
      "\n",
      "Epoch 00053: reducing learning rate of group 0 to 2.1870e-02.\n",
      "Learning rate = 0.02187  for epoch:  54\n",
      "EPOCH: 54\n"
     ]
    },
    {
     "name": "stderr",
     "output_type": "stream",
     "text": [
      "Loss=0.8732239007949829 Batch_id=390 Accuracy=70.19: 100%|███████████████████████████████████████████████████████████████████████████████████████████████████████████████████████████████████████| 391/391 [00:26<00:00, 14.92it/s]\n"
     ]
    },
    {
     "name": "stdout",
     "output_type": "stream",
     "text": [
      "\n",
      "Test set: Average loss: 0.0049, Accuracy: 7848/10000 (78.48%)\n",
      "\n",
      "Learning rate = 0.02187  for epoch:  55\n",
      "EPOCH: 55\n"
     ]
    },
    {
     "name": "stderr",
     "output_type": "stream",
     "text": [
      "Loss=0.9785277247428894 Batch_id=390 Accuracy=70.55: 100%|███████████████████████████████████████████████████████████████████████████████████████████████████████████████████████████████████████| 391/391 [00:26<00:00, 14.73it/s]\n"
     ]
    },
    {
     "name": "stdout",
     "output_type": "stream",
     "text": [
      "\n",
      "Test set: Average loss: 0.0049, Accuracy: 7833/10000 (78.33%)\n",
      "\n",
      "Learning rate = 0.02187  for epoch:  56\n",
      "EPOCH: 56\n"
     ]
    },
    {
     "name": "stderr",
     "output_type": "stream",
     "text": [
      "Loss=0.7856763601303101 Batch_id=390 Accuracy=70.62: 100%|███████████████████████████████████████████████████████████████████████████████████████████████████████████████████████████████████████| 391/391 [00:26<00:00, 14.61it/s]\n"
     ]
    },
    {
     "name": "stdout",
     "output_type": "stream",
     "text": [
      "\n",
      "Test set: Average loss: 0.0048, Accuracy: 7917/10000 (79.17%)\n",
      "\n",
      "Validation accuracy increased (78.620000 --> 79.170000).  Saving model ...\n",
      "Learning rate = 0.02187  for epoch:  57\n",
      "EPOCH: 57\n"
     ]
    },
    {
     "name": "stderr",
     "output_type": "stream",
     "text": [
      "Loss=0.7198047637939453 Batch_id=390 Accuracy=70.88: 100%|███████████████████████████████████████████████████████████████████████████████████████████████████████████████████████████████████████| 391/391 [00:27<00:00, 14.33it/s]\n"
     ]
    },
    {
     "name": "stdout",
     "output_type": "stream",
     "text": [
      "\n",
      "Test set: Average loss: 0.0049, Accuracy: 7890/10000 (78.90%)\n",
      "\n",
      "Learning rate = 0.02187  for epoch:  58\n",
      "EPOCH: 58\n"
     ]
    },
    {
     "name": "stderr",
     "output_type": "stream",
     "text": [
      "Loss=0.6932098269462585 Batch_id=390 Accuracy=70.58: 100%|███████████████████████████████████████████████████████████████████████████████████████████████████████████████████████████████████████| 391/391 [00:27<00:00, 14.34it/s]\n"
     ]
    },
    {
     "name": "stdout",
     "output_type": "stream",
     "text": [
      "\n",
      "Test set: Average loss: 0.0047, Accuracy: 7948/10000 (79.48%)\n",
      "\n",
      "Validation accuracy increased (79.170000 --> 79.480000).  Saving model ...\n",
      "Learning rate = 0.02187  for epoch:  59\n",
      "EPOCH: 59\n"
     ]
    },
    {
     "name": "stderr",
     "output_type": "stream",
     "text": [
      "Loss=0.77049720287323 Batch_id=390 Accuracy=71.07: 100%|█████████████████████████████████████████████████████████████████████████████████████████████████████████████████████████████████████████| 391/391 [00:26<00:00, 14.52it/s]\n"
     ]
    },
    {
     "name": "stdout",
     "output_type": "stream",
     "text": [
      "\n",
      "Test set: Average loss: 0.0049, Accuracy: 7870/10000 (78.70%)\n",
      "\n",
      "Learning rate = 0.02187  for epoch:  60\n",
      "EPOCH: 60\n"
     ]
    },
    {
     "name": "stderr",
     "output_type": "stream",
     "text": [
      "Loss=0.6643542051315308 Batch_id=390 Accuracy=70.91: 100%|███████████████████████████████████████████████████████████████████████████████████████████████████████████████████████████████████████| 391/391 [00:26<00:00, 14.65it/s]\n"
     ]
    },
    {
     "name": "stdout",
     "output_type": "stream",
     "text": [
      "\n",
      "Test set: Average loss: 0.0048, Accuracy: 7902/10000 (79.02%)\n",
      "\n",
      "Learning rate = 0.02187  for epoch:  61\n",
      "EPOCH: 61\n"
     ]
    },
    {
     "name": "stderr",
     "output_type": "stream",
     "text": [
      "Loss=0.7636693716049194 Batch_id=390 Accuracy=71.25: 100%|███████████████████████████████████████████████████████████████████████████████████████████████████████████████████████████████████████| 391/391 [00:27<00:00, 14.39it/s]\n"
     ]
    },
    {
     "name": "stdout",
     "output_type": "stream",
     "text": [
      "\n",
      "Test set: Average loss: 0.0049, Accuracy: 7877/10000 (78.77%)\n",
      "\n",
      "Learning rate = 0.02187  for epoch:  62\n",
      "EPOCH: 62\n"
     ]
    },
    {
     "name": "stderr",
     "output_type": "stream",
     "text": [
      "Loss=0.808862566947937 Batch_id=390 Accuracy=70.91: 100%|████████████████████████████████████████████████████████████████████████████████████████████████████████████████████████████████████████| 391/391 [00:27<00:00, 14.39it/s]\n"
     ]
    },
    {
     "name": "stdout",
     "output_type": "stream",
     "text": [
      "\n",
      "Test set: Average loss: 0.0049, Accuracy: 7900/10000 (79.00%)\n",
      "\n",
      "Epoch 00062: reducing learning rate of group 0 to 1.9683e-02.\n",
      "Learning rate = 0.019683000000000003  for epoch:  63\n",
      "EPOCH: 63\n"
     ]
    },
    {
     "name": "stderr",
     "output_type": "stream",
     "text": [
      "Loss=0.7497944831848145 Batch_id=390 Accuracy=71.66: 100%|███████████████████████████████████████████████████████████████████████████████████████████████████████████████████████████████████████| 391/391 [00:26<00:00, 14.51it/s]\n"
     ]
    },
    {
     "name": "stdout",
     "output_type": "stream",
     "text": [
      "\n",
      "Test set: Average loss: 0.0047, Accuracy: 7947/10000 (79.47%)\n",
      "\n",
      "Learning rate = 0.019683000000000003  for epoch:  64\n",
      "EPOCH: 64\n"
     ]
    },
    {
     "name": "stderr",
     "output_type": "stream",
     "text": [
      "Loss=0.7394862174987793 Batch_id=390 Accuracy=71.34: 100%|███████████████████████████████████████████████████████████████████████████████████████████████████████████████████████████████████████| 391/391 [00:26<00:00, 14.53it/s]\n"
     ]
    },
    {
     "name": "stdout",
     "output_type": "stream",
     "text": [
      "\n",
      "Test set: Average loss: 0.0047, Accuracy: 7975/10000 (79.75%)\n",
      "\n",
      "Validation accuracy increased (79.480000 --> 79.750000).  Saving model ...\n",
      "Learning rate = 0.019683000000000003  for epoch:  65\n",
      "EPOCH: 65\n"
     ]
    },
    {
     "name": "stderr",
     "output_type": "stream",
     "text": [
      "Loss=0.742068886756897 Batch_id=390 Accuracy=71.48: 100%|████████████████████████████████████████████████████████████████████████████████████████████████████████████████████████████████████████| 391/391 [00:26<00:00, 14.65it/s]\n"
     ]
    },
    {
     "name": "stdout",
     "output_type": "stream",
     "text": [
      "\n",
      "Test set: Average loss: 0.0051, Accuracy: 7844/10000 (78.44%)\n",
      "\n",
      "Learning rate = 0.019683000000000003  for epoch:  66\n",
      "EPOCH: 66\n"
     ]
    },
    {
     "name": "stderr",
     "output_type": "stream",
     "text": [
      "Loss=0.942948043346405 Batch_id=390 Accuracy=71.63: 100%|████████████████████████████████████████████████████████████████████████████████████████████████████████████████████████████████████████| 391/391 [00:27<00:00, 14.39it/s]\n"
     ]
    },
    {
     "name": "stdout",
     "output_type": "stream",
     "text": [
      "\n",
      "Test set: Average loss: 0.0050, Accuracy: 7826/10000 (78.26%)\n",
      "\n",
      "Learning rate = 0.019683000000000003  for epoch:  67\n",
      "EPOCH: 67\n"
     ]
    },
    {
     "name": "stderr",
     "output_type": "stream",
     "text": [
      "Loss=0.7478473782539368 Batch_id=390 Accuracy=71.30: 100%|███████████████████████████████████████████████████████████████████████████████████████████████████████████████████████████████████████| 391/391 [00:16<00:00, 23.21it/s]\n"
     ]
    },
    {
     "name": "stdout",
     "output_type": "stream",
     "text": [
      "\n",
      "Test set: Average loss: 0.0045, Accuracy: 8044/10000 (80.44%)\n",
      "\n",
      "Validation accuracy increased (79.750000 --> 80.440000).  Saving model ...\n",
      "Learning rate = 0.019683000000000003  for epoch:  68\n",
      "EPOCH: 68\n"
     ]
    },
    {
     "name": "stderr",
     "output_type": "stream",
     "text": [
      "Loss=0.8629757165908813 Batch_id=390 Accuracy=71.52: 100%|███████████████████████████████████████████████████████████████████████████████████████████████████████████████████████████████████████| 391/391 [00:16<00:00, 24.06it/s]\n"
     ]
    },
    {
     "name": "stdout",
     "output_type": "stream",
     "text": [
      "\n",
      "Test set: Average loss: 0.0047, Accuracy: 7987/10000 (79.87%)\n",
      "\n",
      "Learning rate = 0.019683000000000003  for epoch:  69\n",
      "EPOCH: 69\n"
     ]
    },
    {
     "name": "stderr",
     "output_type": "stream",
     "text": [
      "Loss=0.8330672383308411 Batch_id=390 Accuracy=71.70: 100%|███████████████████████████████████████████████████████████████████████████████████████████████████████████████████████████████████████| 391/391 [00:16<00:00, 23.36it/s]\n"
     ]
    },
    {
     "name": "stdout",
     "output_type": "stream",
     "text": [
      "\n",
      "Test set: Average loss: 0.0047, Accuracy: 7934/10000 (79.34%)\n",
      "\n",
      "Learning rate = 0.019683000000000003  for epoch:  70\n",
      "EPOCH: 70\n"
     ]
    },
    {
     "name": "stderr",
     "output_type": "stream",
     "text": [
      "Loss=0.9330917596817017 Batch_id=390 Accuracy=71.75: 100%|███████████████████████████████████████████████████████████████████████████████████████████████████████████████████████████████████████| 391/391 [00:16<00:00, 23.99it/s]\n"
     ]
    },
    {
     "name": "stdout",
     "output_type": "stream",
     "text": [
      "\n",
      "Test set: Average loss: 0.0048, Accuracy: 7906/10000 (79.06%)\n",
      "\n",
      "Learning rate = 0.019683000000000003  for epoch:  71\n",
      "EPOCH: 71\n"
     ]
    },
    {
     "name": "stderr",
     "output_type": "stream",
     "text": [
      "Loss=0.840589165687561 Batch_id=390 Accuracy=71.89: 100%|████████████████████████████████████████████████████████████████████████████████████████████████████████████████████████████████████████| 391/391 [00:16<00:00, 24.39it/s]\n"
     ]
    },
    {
     "name": "stdout",
     "output_type": "stream",
     "text": [
      "\n",
      "Test set: Average loss: 0.0047, Accuracy: 7978/10000 (79.78%)\n",
      "\n",
      "Learning rate = 0.019683000000000003  for epoch:  72\n",
      "EPOCH: 72\n"
     ]
    },
    {
     "name": "stderr",
     "output_type": "stream",
     "text": [
      "Loss=0.8401018381118774 Batch_id=390 Accuracy=71.87: 100%|███████████████████████████████████████████████████████████████████████████████████████████████████████████████████████████████████████| 391/391 [00:15<00:00, 24.66it/s]\n"
     ]
    },
    {
     "name": "stdout",
     "output_type": "stream",
     "text": [
      "\n",
      "Test set: Average loss: 0.0046, Accuracy: 8026/10000 (80.26%)\n",
      "\n",
      "Learning rate = 0.019683000000000003  for epoch:  73\n",
      "EPOCH: 73\n"
     ]
    },
    {
     "name": "stderr",
     "output_type": "stream",
     "text": [
      "Loss=0.812460720539093 Batch_id=390 Accuracy=71.82: 100%|████████████████████████████████████████████████████████████████████████████████████████████████████████████████████████████████████████| 391/391 [00:16<00:00, 23.77it/s]\n"
     ]
    },
    {
     "name": "stdout",
     "output_type": "stream",
     "text": [
      "\n",
      "Test set: Average loss: 0.0048, Accuracy: 7952/10000 (79.52%)\n",
      "\n",
      "Epoch 00073: reducing learning rate of group 0 to 1.7715e-02.\n",
      "Learning rate = 0.017714700000000003  for epoch:  74\n",
      "EPOCH: 74\n"
     ]
    },
    {
     "name": "stderr",
     "output_type": "stream",
     "text": [
      "Loss=0.7826352715492249 Batch_id=390 Accuracy=71.71: 100%|███████████████████████████████████████████████████████████████████████████████████████████████████████████████████████████████████████| 391/391 [00:16<00:00, 24.40it/s]\n"
     ]
    },
    {
     "name": "stdout",
     "output_type": "stream",
     "text": [
      "\n",
      "Test set: Average loss: 0.0046, Accuracy: 8010/10000 (80.10%)\n",
      "\n",
      "Learning rate = 0.017714700000000003  for epoch:  75\n",
      "EPOCH: 75\n"
     ]
    },
    {
     "name": "stderr",
     "output_type": "stream",
     "text": [
      "Loss=0.7982891798019409 Batch_id=390 Accuracy=72.14: 100%|███████████████████████████████████████████████████████████████████████████████████████████████████████████████████████████████████████| 391/391 [00:16<00:00, 24.30it/s]\n"
     ]
    },
    {
     "name": "stdout",
     "output_type": "stream",
     "text": [
      "\n",
      "Test set: Average loss: 0.0045, Accuracy: 8032/10000 (80.32%)\n",
      "\n",
      "Learning rate = 0.017714700000000003  for epoch:  76\n",
      "EPOCH: 76\n"
     ]
    },
    {
     "name": "stderr",
     "output_type": "stream",
     "text": [
      "Loss=0.690601110458374 Batch_id=390 Accuracy=72.32: 100%|████████████████████████████████████████████████████████████████████████████████████████████████████████████████████████████████████████| 391/391 [00:15<00:00, 24.54it/s]\n"
     ]
    },
    {
     "name": "stdout",
     "output_type": "stream",
     "text": [
      "\n",
      "Test set: Average loss: 0.0045, Accuracy: 8050/10000 (80.50%)\n",
      "\n",
      "Validation accuracy increased (80.440000 --> 80.500000).  Saving model ...\n",
      "Learning rate = 0.017714700000000003  for epoch:  77\n",
      "EPOCH: 77\n"
     ]
    },
    {
     "name": "stderr",
     "output_type": "stream",
     "text": [
      "Loss=0.6660095453262329 Batch_id=390 Accuracy=72.22: 100%|███████████████████████████████████████████████████████████████████████████████████████████████████████████████████████████████████████| 391/391 [00:16<00:00, 24.02it/s]\n"
     ]
    },
    {
     "name": "stdout",
     "output_type": "stream",
     "text": [
      "\n",
      "Test set: Average loss: 0.0047, Accuracy: 8019/10000 (80.19%)\n",
      "\n",
      "Learning rate = 0.017714700000000003  for epoch:  78\n",
      "EPOCH: 78\n"
     ]
    },
    {
     "name": "stderr",
     "output_type": "stream",
     "text": [
      "Loss=0.9859517216682434 Batch_id=390 Accuracy=72.22: 100%|███████████████████████████████████████████████████████████████████████████████████████████████████████████████████████████████████████| 391/391 [00:16<00:00, 23.55it/s]\n"
     ]
    },
    {
     "name": "stdout",
     "output_type": "stream",
     "text": [
      "\n",
      "Test set: Average loss: 0.0046, Accuracy: 8018/10000 (80.18%)\n",
      "\n",
      "Learning rate = 0.017714700000000003  for epoch:  79\n",
      "EPOCH: 79\n"
     ]
    },
    {
     "name": "stderr",
     "output_type": "stream",
     "text": [
      "Loss=0.7447737455368042 Batch_id=390 Accuracy=72.21: 100%|███████████████████████████████████████████████████████████████████████████████████████████████████████████████████████████████████████| 391/391 [00:15<00:00, 24.47it/s]\n"
     ]
    },
    {
     "name": "stdout",
     "output_type": "stream",
     "text": [
      "\n",
      "Test set: Average loss: 0.0046, Accuracy: 7999/10000 (79.99%)\n",
      "\n",
      "Epoch 00079: reducing learning rate of group 0 to 1.5943e-02.\n",
      "Learning rate = 0.015943230000000003  for epoch:  80\n",
      "EPOCH: 80\n"
     ]
    },
    {
     "name": "stderr",
     "output_type": "stream",
     "text": [
      "Loss=0.7791840434074402 Batch_id=390 Accuracy=72.45: 100%|███████████████████████████████████████████████████████████████████████████████████████████████████████████████████████████████████████| 391/391 [00:16<00:00, 24.28it/s]\n"
     ]
    },
    {
     "name": "stdout",
     "output_type": "stream",
     "text": [
      "\n",
      "Test set: Average loss: 0.0044, Accuracy: 8119/10000 (81.19%)\n",
      "\n",
      "Validation accuracy increased (80.500000 --> 81.190000).  Saving model ...\n",
      "Learning rate = 0.015943230000000003  for epoch:  81\n",
      "EPOCH: 81\n"
     ]
    },
    {
     "name": "stderr",
     "output_type": "stream",
     "text": [
      "Loss=0.7393368482589722 Batch_id=390 Accuracy=72.68: 100%|███████████████████████████████████████████████████████████████████████████████████████████████████████████████████████████████████████| 391/391 [00:15<00:00, 24.60it/s]\n"
     ]
    },
    {
     "name": "stdout",
     "output_type": "stream",
     "text": [
      "\n",
      "Test set: Average loss: 0.0045, Accuracy: 8017/10000 (80.17%)\n",
      "\n",
      "Learning rate = 0.015943230000000003  for epoch:  82\n",
      "EPOCH: 82\n"
     ]
    },
    {
     "name": "stderr",
     "output_type": "stream",
     "text": [
      "Loss=0.7363690137863159 Batch_id=390 Accuracy=72.48: 100%|███████████████████████████████████████████████████████████████████████████████████████████████████████████████████████████████████████| 391/391 [00:16<00:00, 24.35it/s]\n"
     ]
    },
    {
     "name": "stdout",
     "output_type": "stream",
     "text": [
      "\n",
      "Test set: Average loss: 0.0045, Accuracy: 8067/10000 (80.67%)\n",
      "\n",
      "Learning rate = 0.015943230000000003  for epoch:  83\n",
      "EPOCH: 83\n"
     ]
    },
    {
     "name": "stderr",
     "output_type": "stream",
     "text": [
      "Loss=0.8781334757804871 Batch_id=390 Accuracy=72.81: 100%|███████████████████████████████████████████████████████████████████████████████████████████████████████████████████████████████████████| 391/391 [00:15<00:00, 24.52it/s]\n"
     ]
    },
    {
     "name": "stdout",
     "output_type": "stream",
     "text": [
      "\n",
      "Test set: Average loss: 0.0043, Accuracy: 8153/10000 (81.53%)\n",
      "\n",
      "Validation accuracy increased (81.190000 --> 81.530000).  Saving model ...\n",
      "Learning rate = 0.015943230000000003  for epoch:  84\n",
      "EPOCH: 84\n"
     ]
    },
    {
     "name": "stderr",
     "output_type": "stream",
     "text": [
      "Loss=0.7358173727989197 Batch_id=390 Accuracy=72.68: 100%|███████████████████████████████████████████████████████████████████████████████████████████████████████████████████████████████████████| 391/391 [00:15<00:00, 24.62it/s]\n"
     ]
    },
    {
     "name": "stdout",
     "output_type": "stream",
     "text": [
      "\n",
      "Test set: Average loss: 0.0047, Accuracy: 7994/10000 (79.94%)\n",
      "\n",
      "Learning rate = 0.015943230000000003  for epoch:  85\n",
      "EPOCH: 85\n"
     ]
    },
    {
     "name": "stderr",
     "output_type": "stream",
     "text": [
      "Loss=0.6976951360702515 Batch_id=390 Accuracy=72.57: 100%|███████████████████████████████████████████████████████████████████████████████████████████████████████████████████████████████████████| 391/391 [00:15<00:00, 24.97it/s]\n"
     ]
    },
    {
     "name": "stdout",
     "output_type": "stream",
     "text": [
      "\n",
      "Test set: Average loss: 0.0045, Accuracy: 8068/10000 (80.68%)\n",
      "\n",
      "Learning rate = 0.015943230000000003  for epoch:  86\n",
      "EPOCH: 86\n"
     ]
    },
    {
     "name": "stderr",
     "output_type": "stream",
     "text": [
      "Loss=0.9441315531730652 Batch_id=390 Accuracy=72.76: 100%|███████████████████████████████████████████████████████████████████████████████████████████████████████████████████████████████████████| 391/391 [00:16<00:00, 24.21it/s]\n"
     ]
    },
    {
     "name": "stdout",
     "output_type": "stream",
     "text": [
      "\n",
      "Test set: Average loss: 0.0045, Accuracy: 8079/10000 (80.79%)\n",
      "\n",
      "Learning rate = 0.015943230000000003  for epoch:  87\n",
      "EPOCH: 87\n"
     ]
    },
    {
     "name": "stderr",
     "output_type": "stream",
     "text": [
      "Loss=0.7920742630958557 Batch_id=390 Accuracy=72.66: 100%|███████████████████████████████████████████████████████████████████████████████████████████████████████████████████████████████████████| 391/391 [00:15<00:00, 24.62it/s]\n"
     ]
    },
    {
     "name": "stdout",
     "output_type": "stream",
     "text": [
      "\n",
      "Test set: Average loss: 0.0044, Accuracy: 8110/10000 (81.10%)\n",
      "\n",
      "Learning rate = 0.015943230000000003  for epoch:  88\n",
      "EPOCH: 88\n"
     ]
    },
    {
     "name": "stderr",
     "output_type": "stream",
     "text": [
      "Loss=0.7338604927062988 Batch_id=390 Accuracy=72.69: 100%|███████████████████████████████████████████████████████████████████████████████████████████████████████████████████████████████████████| 391/391 [00:15<00:00, 24.71it/s]\n"
     ]
    },
    {
     "name": "stdout",
     "output_type": "stream",
     "text": [
      "\n",
      "Test set: Average loss: 0.0044, Accuracy: 8071/10000 (80.71%)\n",
      "\n",
      "Learning rate = 0.015943230000000003  for epoch:  89\n",
      "EPOCH: 89\n"
     ]
    },
    {
     "name": "stderr",
     "output_type": "stream",
     "text": [
      "Loss=0.8502923250198364 Batch_id=390 Accuracy=72.91: 100%|███████████████████████████████████████████████████████████████████████████████████████████████████████████████████████████████████████| 391/391 [00:16<00:00, 23.87it/s]\n"
     ]
    },
    {
     "name": "stdout",
     "output_type": "stream",
     "text": [
      "\n",
      "Test set: Average loss: 0.0044, Accuracy: 8119/10000 (81.19%)\n",
      "\n",
      "Epoch 00089: reducing learning rate of group 0 to 1.4349e-02.\n",
      "Learning rate = 0.014348907000000003  for epoch:  90\n",
      "EPOCH: 90\n"
     ]
    },
    {
     "name": "stderr",
     "output_type": "stream",
     "text": [
      "Loss=0.7760211825370789 Batch_id=390 Accuracy=72.97: 100%|███████████████████████████████████████████████████████████████████████████████████████████████████████████████████████████████████████| 391/391 [00:16<00:00, 24.15it/s]\n"
     ]
    },
    {
     "name": "stdout",
     "output_type": "stream",
     "text": [
      "\n",
      "Test set: Average loss: 0.0044, Accuracy: 8124/10000 (81.24%)\n",
      "\n",
      "Learning rate = 0.014348907000000003  for epoch:  91\n",
      "EPOCH: 91\n"
     ]
    },
    {
     "name": "stderr",
     "output_type": "stream",
     "text": [
      "Loss=0.9992753863334656 Batch_id=390 Accuracy=73.15: 100%|███████████████████████████████████████████████████████████████████████████████████████████████████████████████████████████████████████| 391/391 [00:16<00:00, 23.74it/s]\n"
     ]
    },
    {
     "name": "stdout",
     "output_type": "stream",
     "text": [
      "\n",
      "Test set: Average loss: 0.0045, Accuracy: 8073/10000 (80.73%)\n",
      "\n",
      "Learning rate = 0.014348907000000003  for epoch:  92\n",
      "EPOCH: 92\n"
     ]
    },
    {
     "name": "stderr",
     "output_type": "stream",
     "text": [
      "Loss=0.9510389566421509 Batch_id=390 Accuracy=73.06: 100%|███████████████████████████████████████████████████████████████████████████████████████████████████████████████████████████████████████| 391/391 [00:15<00:00, 24.75it/s]\n"
     ]
    },
    {
     "name": "stdout",
     "output_type": "stream",
     "text": [
      "\n",
      "Test set: Average loss: 0.0045, Accuracy: 8070/10000 (80.70%)\n",
      "\n",
      "Learning rate = 0.014348907000000003  for epoch:  93\n",
      "EPOCH: 93\n"
     ]
    },
    {
     "name": "stderr",
     "output_type": "stream",
     "text": [
      "Loss=0.8330574035644531 Batch_id=390 Accuracy=73.11: 100%|███████████████████████████████████████████████████████████████████████████████████████████████████████████████████████████████████████| 391/391 [00:16<00:00, 23.94it/s]\n"
     ]
    },
    {
     "name": "stdout",
     "output_type": "stream",
     "text": [
      "\n",
      "Test set: Average loss: 0.0044, Accuracy: 8106/10000 (81.06%)\n",
      "\n",
      "Learning rate = 0.014348907000000003  for epoch:  94\n",
      "EPOCH: 94\n"
     ]
    },
    {
     "name": "stderr",
     "output_type": "stream",
     "text": [
      "Loss=0.884596049785614 Batch_id=390 Accuracy=73.20: 100%|████████████████████████████████████████████████████████████████████████████████████████████████████████████████████████████████████████| 391/391 [00:16<00:00, 23.87it/s]\n"
     ]
    },
    {
     "name": "stdout",
     "output_type": "stream",
     "text": [
      "\n",
      "Test set: Average loss: 0.0045, Accuracy: 8038/10000 (80.38%)\n",
      "\n",
      "Learning rate = 0.014348907000000003  for epoch:  95\n",
      "EPOCH: 95\n"
     ]
    },
    {
     "name": "stderr",
     "output_type": "stream",
     "text": [
      "Loss=0.9069610834121704 Batch_id=390 Accuracy=73.31: 100%|███████████████████████████████████████████████████████████████████████████████████████████████████████████████████████████████████████| 391/391 [00:15<00:00, 24.59it/s]\n"
     ]
    },
    {
     "name": "stdout",
     "output_type": "stream",
     "text": [
      "\n",
      "Test set: Average loss: 0.0046, Accuracy: 8050/10000 (80.50%)\n",
      "\n",
      "Epoch 00095: reducing learning rate of group 0 to 1.2914e-02.\n",
      "Learning rate = 0.012914016300000003  for epoch:  96\n",
      "EPOCH: 96\n"
     ]
    },
    {
     "name": "stderr",
     "output_type": "stream",
     "text": [
      "Loss=0.9477803111076355 Batch_id=390 Accuracy=73.22: 100%|███████████████████████████████████████████████████████████████████████████████████████████████████████████████████████████████████████| 391/391 [00:16<00:00, 24.19it/s]\n"
     ]
    },
    {
     "name": "stdout",
     "output_type": "stream",
     "text": [
      "\n",
      "Test set: Average loss: 0.0044, Accuracy: 8124/10000 (81.24%)\n",
      "\n",
      "Learning rate = 0.012914016300000003  for epoch:  97\n",
      "EPOCH: 97\n"
     ]
    },
    {
     "name": "stderr",
     "output_type": "stream",
     "text": [
      "Loss=0.5984323024749756 Batch_id=390 Accuracy=73.28: 100%|███████████████████████████████████████████████████████████████████████████████████████████████████████████████████████████████████████| 391/391 [00:16<00:00, 23.64it/s]\n"
     ]
    },
    {
     "name": "stdout",
     "output_type": "stream",
     "text": [
      "\n",
      "Test set: Average loss: 0.0046, Accuracy: 8033/10000 (80.33%)\n",
      "\n",
      "Learning rate = 0.012914016300000003  for epoch:  98\n",
      "EPOCH: 98\n"
     ]
    },
    {
     "name": "stderr",
     "output_type": "stream",
     "text": [
      "Loss=0.8049341440200806 Batch_id=390 Accuracy=73.21: 100%|███████████████████████████████████████████████████████████████████████████████████████████████████████████████████████████████████████| 391/391 [00:16<00:00, 24.32it/s]\n"
     ]
    },
    {
     "name": "stdout",
     "output_type": "stream",
     "text": [
      "\n",
      "Test set: Average loss: 0.0044, Accuracy: 8065/10000 (80.65%)\n",
      "\n",
      "Learning rate = 0.012914016300000003  for epoch:  99\n",
      "EPOCH: 99\n"
     ]
    },
    {
     "name": "stderr",
     "output_type": "stream",
     "text": [
      "Loss=0.7775920033454895 Batch_id=390 Accuracy=73.42: 100%|███████████████████████████████████████████████████████████████████████████████████████████████████████████████████████████████████████| 391/391 [00:16<00:00, 24.32it/s]\n"
     ]
    },
    {
     "name": "stdout",
     "output_type": "stream",
     "text": [
      "\n",
      "Test set: Average loss: 0.0045, Accuracy: 8122/10000 (81.22%)\n",
      "\n",
      "Learning rate = 0.012914016300000003  for epoch:  100\n",
      "EPOCH: 100\n"
     ]
    },
    {
     "name": "stderr",
     "output_type": "stream",
     "text": [
      "Loss=0.8235461115837097 Batch_id=390 Accuracy=73.43: 100%|███████████████████████████████████████████████████████████████████████████████████████████████████████████████████████████████████████| 391/391 [00:16<00:00, 24.29it/s]\n"
     ]
    },
    {
     "name": "stdout",
     "output_type": "stream",
     "text": [
      "\n",
      "Test set: Average loss: 0.0045, Accuracy: 8119/10000 (81.19%)\n",
      "\n",
      "Learning rate = 0.012914016300000003  for epoch:  101\n",
      "EPOCH: 101\n"
     ]
    },
    {
     "name": "stderr",
     "output_type": "stream",
     "text": [
      "Loss=0.6954368352890015 Batch_id=390 Accuracy=73.35: 100%|███████████████████████████████████████████████████████████████████████████████████████████████████████████████████████████████████████| 391/391 [00:16<00:00, 23.64it/s]\n"
     ]
    },
    {
     "name": "stdout",
     "output_type": "stream",
     "text": [
      "\n",
      "Test set: Average loss: 0.0045, Accuracy: 8115/10000 (81.15%)\n",
      "\n",
      "Epoch 00101: reducing learning rate of group 0 to 1.1623e-02.\n",
      "Learning rate = 0.011622614670000003  for epoch:  102\n",
      "EPOCH: 102\n"
     ]
    },
    {
     "name": "stderr",
     "output_type": "stream",
     "text": [
      "Loss=0.9295743107795715 Batch_id=390 Accuracy=73.56: 100%|███████████████████████████████████████████████████████████████████████████████████████████████████████████████████████████████████████| 391/391 [00:16<00:00, 23.64it/s]\n"
     ]
    },
    {
     "name": "stdout",
     "output_type": "stream",
     "text": [
      "\n",
      "Test set: Average loss: 0.0045, Accuracy: 8096/10000 (80.96%)\n",
      "\n",
      "Learning rate = 0.011622614670000003  for epoch:  103\n",
      "EPOCH: 103\n"
     ]
    },
    {
     "name": "stderr",
     "output_type": "stream",
     "text": [
      "Loss=0.9308210611343384 Batch_id=390 Accuracy=73.72: 100%|███████████████████████████████████████████████████████████████████████████████████████████████████████████████████████████████████████| 391/391 [00:16<00:00, 23.76it/s]\n"
     ]
    },
    {
     "name": "stdout",
     "output_type": "stream",
     "text": [
      "\n",
      "Test set: Average loss: 0.0044, Accuracy: 8075/10000 (80.75%)\n",
      "\n",
      "Learning rate = 0.011622614670000003  for epoch:  104\n",
      "EPOCH: 104\n"
     ]
    },
    {
     "name": "stderr",
     "output_type": "stream",
     "text": [
      "Loss=0.7673435807228088 Batch_id=390 Accuracy=73.63: 100%|███████████████████████████████████████████████████████████████████████████████████████████████████████████████████████████████████████| 391/391 [00:16<00:00, 24.19it/s]\n"
     ]
    },
    {
     "name": "stdout",
     "output_type": "stream",
     "text": [
      "\n",
      "Test set: Average loss: 0.0043, Accuracy: 8165/10000 (81.65%)\n",
      "\n",
      "Validation accuracy increased (81.530000 --> 81.650000).  Saving model ...\n",
      "Learning rate = 0.011622614670000003  for epoch:  105\n",
      "EPOCH: 105\n"
     ]
    },
    {
     "name": "stderr",
     "output_type": "stream",
     "text": [
      "Loss=0.685932457447052 Batch_id=390 Accuracy=73.62: 100%|████████████████████████████████████████████████████████████████████████████████████████████████████████████████████████████████████████| 391/391 [00:16<00:00, 24.40it/s]\n"
     ]
    },
    {
     "name": "stdout",
     "output_type": "stream",
     "text": [
      "\n",
      "Test set: Average loss: 0.0043, Accuracy: 8134/10000 (81.34%)\n",
      "\n",
      "Learning rate = 0.011622614670000003  for epoch:  106\n",
      "EPOCH: 106\n"
     ]
    },
    {
     "name": "stderr",
     "output_type": "stream",
     "text": [
      "Loss=1.0986008644104004 Batch_id=390 Accuracy=73.69: 100%|███████████████████████████████████████████████████████████████████████████████████████████████████████████████████████████████████████| 391/391 [00:16<00:00, 24.01it/s]\n"
     ]
    },
    {
     "name": "stdout",
     "output_type": "stream",
     "text": [
      "\n",
      "Test set: Average loss: 0.0047, Accuracy: 8015/10000 (80.15%)\n",
      "\n",
      "Learning rate = 0.011622614670000003  for epoch:  107\n",
      "EPOCH: 107\n"
     ]
    },
    {
     "name": "stderr",
     "output_type": "stream",
     "text": [
      "Loss=0.8124675750732422 Batch_id=390 Accuracy=73.63: 100%|███████████████████████████████████████████████████████████████████████████████████████████████████████████████████████████████████████| 391/391 [00:16<00:00, 24.40it/s]\n"
     ]
    },
    {
     "name": "stdout",
     "output_type": "stream",
     "text": [
      "\n",
      "Test set: Average loss: 0.0046, Accuracy: 8073/10000 (80.73%)\n",
      "\n",
      "Epoch 00107: reducing learning rate of group 0 to 1.0460e-02.\n",
      "Learning rate = 0.010460353203000003  for epoch:  108\n",
      "EPOCH: 108\n"
     ]
    },
    {
     "name": "stderr",
     "output_type": "stream",
     "text": [
      "Loss=0.6398577094078064 Batch_id=390 Accuracy=73.78: 100%|███████████████████████████████████████████████████████████████████████████████████████████████████████████████████████████████████████| 391/391 [00:16<00:00, 24.08it/s]\n"
     ]
    },
    {
     "name": "stdout",
     "output_type": "stream",
     "text": [
      "\n",
      "Test set: Average loss: 0.0043, Accuracy: 8132/10000 (81.32%)\n",
      "\n",
      "Learning rate = 0.010460353203000003  for epoch:  109\n",
      "EPOCH: 109\n"
     ]
    },
    {
     "name": "stderr",
     "output_type": "stream",
     "text": [
      "Loss=0.8778187036514282 Batch_id=390 Accuracy=73.70: 100%|███████████████████████████████████████████████████████████████████████████████████████████████████████████████████████████████████████| 391/391 [00:16<00:00, 23.94it/s]\n"
     ]
    },
    {
     "name": "stdout",
     "output_type": "stream",
     "text": [
      "\n",
      "Test set: Average loss: 0.0044, Accuracy: 8126/10000 (81.26%)\n",
      "\n",
      "Learning rate = 0.010460353203000003  for epoch:  110\n",
      "EPOCH: 110\n"
     ]
    },
    {
     "name": "stderr",
     "output_type": "stream",
     "text": [
      "Loss=0.7067722678184509 Batch_id=390 Accuracy=73.94: 100%|███████████████████████████████████████████████████████████████████████████████████████████████████████████████████████████████████████| 391/391 [00:16<00:00, 24.36it/s]\n"
     ]
    },
    {
     "name": "stdout",
     "output_type": "stream",
     "text": [
      "\n",
      "Test set: Average loss: 0.0043, Accuracy: 8127/10000 (81.27%)\n",
      "\n",
      "Learning rate = 0.010460353203000003  for epoch:  111\n",
      "EPOCH: 111\n"
     ]
    },
    {
     "name": "stderr",
     "output_type": "stream",
     "text": [
      "Loss=0.7894256114959717 Batch_id=390 Accuracy=74.01: 100%|███████████████████████████████████████████████████████████████████████████████████████████████████████████████████████████████████████| 391/391 [00:16<00:00, 23.96it/s]\n"
     ]
    },
    {
     "name": "stdout",
     "output_type": "stream",
     "text": [
      "\n",
      "Test set: Average loss: 0.0043, Accuracy: 8125/10000 (81.25%)\n",
      "\n",
      "Learning rate = 0.010460353203000003  for epoch:  112\n",
      "EPOCH: 112\n"
     ]
    },
    {
     "name": "stderr",
     "output_type": "stream",
     "text": [
      "Loss=0.6591295003890991 Batch_id=390 Accuracy=73.62: 100%|███████████████████████████████████████████████████████████████████████████████████████████████████████████████████████████████████████| 391/391 [00:16<00:00, 24.14it/s]\n"
     ]
    },
    {
     "name": "stdout",
     "output_type": "stream",
     "text": [
      "\n",
      "Test set: Average loss: 0.0046, Accuracy: 8072/10000 (80.72%)\n",
      "\n",
      "Learning rate = 0.010460353203000003  for epoch:  113\n",
      "EPOCH: 113\n"
     ]
    },
    {
     "name": "stderr",
     "output_type": "stream",
     "text": [
      "Loss=0.7174517512321472 Batch_id=390 Accuracy=74.03: 100%|███████████████████████████████████████████████████████████████████████████████████████████████████████████████████████████████████████| 391/391 [00:16<00:00, 23.89it/s]\n"
     ]
    },
    {
     "name": "stdout",
     "output_type": "stream",
     "text": [
      "\n",
      "Test set: Average loss: 0.0044, Accuracy: 8146/10000 (81.46%)\n",
      "\n",
      "Epoch 00113: reducing learning rate of group 0 to 9.4143e-03.\n",
      "Learning rate = 0.009414317882700002  for epoch:  114\n",
      "EPOCH: 114\n"
     ]
    },
    {
     "name": "stderr",
     "output_type": "stream",
     "text": [
      "Loss=0.8564367294311523 Batch_id=390 Accuracy=73.70: 100%|███████████████████████████████████████████████████████████████████████████████████████████████████████████████████████████████████████| 391/391 [00:16<00:00, 23.76it/s]\n"
     ]
    },
    {
     "name": "stdout",
     "output_type": "stream",
     "text": [
      "\n",
      "Test set: Average loss: 0.0043, Accuracy: 8164/10000 (81.64%)\n",
      "\n",
      "Learning rate = 0.009414317882700002  for epoch:  115\n",
      "EPOCH: 115\n"
     ]
    },
    {
     "name": "stderr",
     "output_type": "stream",
     "text": [
      "Loss=0.6053719520568848 Batch_id=390 Accuracy=74.24: 100%|███████████████████████████████████████████████████████████████████████████████████████████████████████████████████████████████████████| 391/391 [00:16<00:00, 23.50it/s]\n"
     ]
    },
    {
     "name": "stdout",
     "output_type": "stream",
     "text": [
      "\n",
      "Test set: Average loss: 0.0042, Accuracy: 8173/10000 (81.73%)\n",
      "\n",
      "Validation accuracy increased (81.650000 --> 81.730000).  Saving model ...\n",
      "Learning rate = 0.009414317882700002  for epoch:  116\n",
      "EPOCH: 116\n"
     ]
    },
    {
     "name": "stderr",
     "output_type": "stream",
     "text": [
      "Loss=0.7209240794181824 Batch_id=390 Accuracy=74.05: 100%|███████████████████████████████████████████████████████████████████████████████████████████████████████████████████████████████████████| 391/391 [00:23<00:00, 16.76it/s]\n"
     ]
    },
    {
     "name": "stdout",
     "output_type": "stream",
     "text": [
      "\n",
      "Test set: Average loss: 0.0042, Accuracy: 8217/10000 (82.17%)\n",
      "\n",
      "Validation accuracy increased (81.730000 --> 82.170000).  Saving model ...\n",
      "Learning rate = 0.009414317882700002  for epoch:  117\n",
      "EPOCH: 117\n"
     ]
    },
    {
     "name": "stderr",
     "output_type": "stream",
     "text": [
      "Loss=0.7217090725898743 Batch_id=390 Accuracy=74.02: 100%|███████████████████████████████████████████████████████████████████████████████████████████████████████████████████████████████████████| 391/391 [00:27<00:00, 14.25it/s]\n"
     ]
    },
    {
     "name": "stdout",
     "output_type": "stream",
     "text": [
      "\n",
      "Test set: Average loss: 0.0044, Accuracy: 8115/10000 (81.15%)\n",
      "\n",
      "Learning rate = 0.009414317882700002  for epoch:  118\n",
      "EPOCH: 118\n"
     ]
    },
    {
     "name": "stderr",
     "output_type": "stream",
     "text": [
      "Loss=0.7547982335090637 Batch_id=390 Accuracy=74.34: 100%|███████████████████████████████████████████████████████████████████████████████████████████████████████████████████████████████████████| 391/391 [00:26<00:00, 14.80it/s]\n"
     ]
    },
    {
     "name": "stdout",
     "output_type": "stream",
     "text": [
      "\n",
      "Test set: Average loss: 0.0042, Accuracy: 8189/10000 (81.89%)\n",
      "\n",
      "Learning rate = 0.009414317882700002  for epoch:  119\n",
      "EPOCH: 119\n"
     ]
    },
    {
     "name": "stderr",
     "output_type": "stream",
     "text": [
      "Loss=0.6267866492271423 Batch_id=390 Accuracy=73.99: 100%|███████████████████████████████████████████████████████████████████████████████████████████████████████████████████████████████████████| 391/391 [00:27<00:00, 14.13it/s]\n"
     ]
    },
    {
     "name": "stdout",
     "output_type": "stream",
     "text": [
      "\n",
      "Test set: Average loss: 0.0044, Accuracy: 8141/10000 (81.41%)\n",
      "\n",
      "Epoch 00119: reducing learning rate of group 0 to 8.4729e-03.\n",
      "Learning rate = 0.008472886094430003  for epoch:  120\n",
      "EPOCH: 120\n"
     ]
    },
    {
     "name": "stderr",
     "output_type": "stream",
     "text": [
      "Loss=0.6577097773551941 Batch_id=390 Accuracy=74.11: 100%|███████████████████████████████████████████████████████████████████████████████████████████████████████████████████████████████████████| 391/391 [00:26<00:00, 14.51it/s]\n"
     ]
    },
    {
     "name": "stdout",
     "output_type": "stream",
     "text": [
      "\n",
      "Test set: Average loss: 0.0042, Accuracy: 8165/10000 (81.65%)\n",
      "\n",
      "Learning rate = 0.008472886094430003  for epoch:  121\n",
      "EPOCH: 121\n"
     ]
    },
    {
     "name": "stderr",
     "output_type": "stream",
     "text": [
      "Loss=0.7873271107673645 Batch_id=390 Accuracy=74.32: 100%|███████████████████████████████████████████████████████████████████████████████████████████████████████████████████████████████████████| 391/391 [00:27<00:00, 14.33it/s]\n"
     ]
    },
    {
     "name": "stdout",
     "output_type": "stream",
     "text": [
      "\n",
      "Test set: Average loss: 0.0044, Accuracy: 8101/10000 (81.01%)\n",
      "\n",
      "Learning rate = 0.008472886094430003  for epoch:  122\n",
      "EPOCH: 122\n"
     ]
    },
    {
     "name": "stderr",
     "output_type": "stream",
     "text": [
      "Loss=0.6151744723320007 Batch_id=390 Accuracy=74.40: 100%|███████████████████████████████████████████████████████████████████████████████████████████████████████████████████████████████████████| 391/391 [00:25<00:00, 15.30it/s]\n"
     ]
    },
    {
     "name": "stdout",
     "output_type": "stream",
     "text": [
      "\n",
      "Test set: Average loss: 0.0044, Accuracy: 8119/10000 (81.19%)\n",
      "\n",
      "Learning rate = 0.008472886094430003  for epoch:  123\n",
      "EPOCH: 123\n"
     ]
    },
    {
     "name": "stderr",
     "output_type": "stream",
     "text": [
      "Loss=0.8989807367324829 Batch_id=390 Accuracy=74.38: 100%|███████████████████████████████████████████████████████████████████████████████████████████████████████████████████████████████████████| 391/391 [00:27<00:00, 14.37it/s]\n"
     ]
    },
    {
     "name": "stdout",
     "output_type": "stream",
     "text": [
      "\n",
      "Test set: Average loss: 0.0044, Accuracy: 8108/10000 (81.08%)\n",
      "\n",
      "Learning rate = 0.008472886094430003  for epoch:  124\n",
      "EPOCH: 124\n"
     ]
    },
    {
     "name": "stderr",
     "output_type": "stream",
     "text": [
      "Loss=0.9791463613510132 Batch_id=390 Accuracy=74.31: 100%|███████████████████████████████████████████████████████████████████████████████████████████████████████████████████████████████████████| 391/391 [00:27<00:00, 14.19it/s]\n"
     ]
    },
    {
     "name": "stdout",
     "output_type": "stream",
     "text": [
      "\n",
      "Test set: Average loss: 0.0043, Accuracy: 8171/10000 (81.71%)\n",
      "\n",
      "Learning rate = 0.008472886094430003  for epoch:  125\n",
      "EPOCH: 125\n"
     ]
    },
    {
     "name": "stderr",
     "output_type": "stream",
     "text": [
      "Loss=0.7083107233047485 Batch_id=390 Accuracy=74.50: 100%|███████████████████████████████████████████████████████████████████████████████████████████████████████████████████████████████████████| 391/391 [00:27<00:00, 14.43it/s]\n"
     ]
    },
    {
     "name": "stdout",
     "output_type": "stream",
     "text": [
      "\n",
      "Test set: Average loss: 0.0041, Accuracy: 8225/10000 (82.25%)\n",
      "\n",
      "Validation accuracy increased (82.170000 --> 82.250000).  Saving model ...\n",
      "Epoch 00125: reducing learning rate of group 0 to 7.6256e-03.\n",
      "Learning rate = 0.007625597484987002  for epoch:  126\n",
      "EPOCH: 126\n"
     ]
    },
    {
     "name": "stderr",
     "output_type": "stream",
     "text": [
      "Loss=0.7926701307296753 Batch_id=390 Accuracy=74.50: 100%|███████████████████████████████████████████████████████████████████████████████████████████████████████████████████████████████████████| 391/391 [00:27<00:00, 14.37it/s]\n"
     ]
    },
    {
     "name": "stdout",
     "output_type": "stream",
     "text": [
      "\n",
      "Test set: Average loss: 0.0042, Accuracy: 8212/10000 (82.12%)\n",
      "\n",
      "Learning rate = 0.007625597484987002  for epoch:  127\n",
      "EPOCH: 127\n"
     ]
    },
    {
     "name": "stderr",
     "output_type": "stream",
     "text": [
      "Loss=0.7277816534042358 Batch_id=390 Accuracy=74.40: 100%|███████████████████████████████████████████████████████████████████████████████████████████████████████████████████████████████████████| 391/391 [00:27<00:00, 14.38it/s]\n"
     ]
    },
    {
     "name": "stdout",
     "output_type": "stream",
     "text": [
      "\n",
      "Test set: Average loss: 0.0042, Accuracy: 8189/10000 (81.89%)\n",
      "\n",
      "Learning rate = 0.007625597484987002  for epoch:  128\n",
      "EPOCH: 128\n"
     ]
    },
    {
     "name": "stderr",
     "output_type": "stream",
     "text": [
      "Loss=0.6603254079818726 Batch_id=390 Accuracy=74.42: 100%|███████████████████████████████████████████████████████████████████████████████████████████████████████████████████████████████████████| 391/391 [00:27<00:00, 14.31it/s]\n"
     ]
    },
    {
     "name": "stdout",
     "output_type": "stream",
     "text": [
      "\n",
      "Test set: Average loss: 0.0042, Accuracy: 8168/10000 (81.68%)\n",
      "\n",
      "Learning rate = 0.007625597484987002  for epoch:  129\n",
      "EPOCH: 129\n"
     ]
    },
    {
     "name": "stderr",
     "output_type": "stream",
     "text": [
      "Loss=0.7188354730606079 Batch_id=390 Accuracy=74.54: 100%|███████████████████████████████████████████████████████████████████████████████████████████████████████████████████████████████████████| 391/391 [00:27<00:00, 14.42it/s]\n"
     ]
    },
    {
     "name": "stdout",
     "output_type": "stream",
     "text": [
      "\n",
      "Test set: Average loss: 0.0041, Accuracy: 8201/10000 (82.01%)\n",
      "\n",
      "Learning rate = 0.007625597484987002  for epoch:  130\n",
      "EPOCH: 130\n"
     ]
    },
    {
     "name": "stderr",
     "output_type": "stream",
     "text": [
      "Loss=0.6848064064979553 Batch_id=390 Accuracy=74.46: 100%|███████████████████████████████████████████████████████████████████████████████████████████████████████████████████████████████████████| 391/391 [00:26<00:00, 14.53it/s]\n"
     ]
    },
    {
     "name": "stdout",
     "output_type": "stream",
     "text": [
      "\n",
      "Test set: Average loss: 0.0042, Accuracy: 8212/10000 (82.12%)\n",
      "\n",
      "Learning rate = 0.007625597484987002  for epoch:  131\n",
      "EPOCH: 131\n"
     ]
    },
    {
     "name": "stderr",
     "output_type": "stream",
     "text": [
      "Loss=0.8699166178703308 Batch_id=390 Accuracy=74.37: 100%|███████████████████████████████████████████████████████████████████████████████████████████████████████████████████████████████████████| 391/391 [00:27<00:00, 14.24it/s]\n"
     ]
    },
    {
     "name": "stdout",
     "output_type": "stream",
     "text": [
      "\n",
      "Test set: Average loss: 0.0042, Accuracy: 8182/10000 (81.82%)\n",
      "\n",
      "Epoch 00131: reducing learning rate of group 0 to 6.8630e-03.\n",
      "Learning rate = 0.006863037736488302  for epoch:  132\n",
      "EPOCH: 132\n"
     ]
    },
    {
     "name": "stderr",
     "output_type": "stream",
     "text": [
      "Loss=0.8418170809745789 Batch_id=390 Accuracy=74.47: 100%|███████████████████████████████████████████████████████████████████████████████████████████████████████████████████████████████████████| 391/391 [00:28<00:00, 13.90it/s]\n"
     ]
    },
    {
     "name": "stdout",
     "output_type": "stream",
     "text": [
      "\n",
      "Test set: Average loss: 0.0042, Accuracy: 8162/10000 (81.62%)\n",
      "\n",
      "Learning rate = 0.006863037736488302  for epoch:  133\n",
      "EPOCH: 133\n"
     ]
    },
    {
     "name": "stderr",
     "output_type": "stream",
     "text": [
      "Loss=0.5941637754440308 Batch_id=390 Accuracy=74.76: 100%|███████████████████████████████████████████████████████████████████████████████████████████████████████████████████████████████████████| 391/391 [00:27<00:00, 14.32it/s]\n"
     ]
    },
    {
     "name": "stdout",
     "output_type": "stream",
     "text": [
      "\n",
      "Test set: Average loss: 0.0042, Accuracy: 8206/10000 (82.06%)\n",
      "\n",
      "Learning rate = 0.006863037736488302  for epoch:  134\n",
      "EPOCH: 134\n"
     ]
    },
    {
     "name": "stderr",
     "output_type": "stream",
     "text": [
      "Loss=0.7742806673049927 Batch_id=390 Accuracy=74.75: 100%|███████████████████████████████████████████████████████████████████████████████████████████████████████████████████████████████████████| 391/391 [00:27<00:00, 14.43it/s]\n"
     ]
    },
    {
     "name": "stdout",
     "output_type": "stream",
     "text": [
      "\n",
      "Test set: Average loss: 0.0042, Accuracy: 8184/10000 (81.84%)\n",
      "\n",
      "Learning rate = 0.006863037736488302  for epoch:  135\n",
      "EPOCH: 135\n"
     ]
    },
    {
     "name": "stderr",
     "output_type": "stream",
     "text": [
      "Loss=0.8188815116882324 Batch_id=390 Accuracy=74.54: 100%|███████████████████████████████████████████████████████████████████████████████████████████████████████████████████████████████████████| 391/391 [00:28<00:00, 13.96it/s]\n"
     ]
    },
    {
     "name": "stdout",
     "output_type": "stream",
     "text": [
      "\n",
      "Test set: Average loss: 0.0042, Accuracy: 8219/10000 (82.19%)\n",
      "\n",
      "Learning rate = 0.006863037736488302  for epoch:  136\n",
      "EPOCH: 136\n"
     ]
    },
    {
     "name": "stderr",
     "output_type": "stream",
     "text": [
      "Loss=0.6357175707817078 Batch_id=390 Accuracy=74.82: 100%|███████████████████████████████████████████████████████████████████████████████████████████████████████████████████████████████████████| 391/391 [00:27<00:00, 14.17it/s]\n"
     ]
    },
    {
     "name": "stdout",
     "output_type": "stream",
     "text": [
      "\n",
      "Test set: Average loss: 0.0042, Accuracy: 8194/10000 (81.94%)\n",
      "\n",
      "Learning rate = 0.006863037736488302  for epoch:  137\n",
      "EPOCH: 137\n"
     ]
    },
    {
     "name": "stderr",
     "output_type": "stream",
     "text": [
      "Loss=0.6208140850067139 Batch_id=390 Accuracy=74.72: 100%|███████████████████████████████████████████████████████████████████████████████████████████████████████████████████████████████████████| 391/391 [00:27<00:00, 14.35it/s]\n"
     ]
    },
    {
     "name": "stdout",
     "output_type": "stream",
     "text": [
      "\n",
      "Test set: Average loss: 0.0042, Accuracy: 8200/10000 (82.00%)\n",
      "\n",
      "Epoch 00137: reducing learning rate of group 0 to 6.1767e-03.\n",
      "Learning rate = 0.0061767339628394724  for epoch:  138\n",
      "EPOCH: 138\n"
     ]
    },
    {
     "name": "stderr",
     "output_type": "stream",
     "text": [
      "Loss=0.6022542715072632 Batch_id=390 Accuracy=74.41: 100%|███████████████████████████████████████████████████████████████████████████████████████████████████████████████████████████████████████| 391/391 [00:27<00:00, 14.17it/s]\n"
     ]
    },
    {
     "name": "stdout",
     "output_type": "stream",
     "text": [
      "\n",
      "Test set: Average loss: 0.0041, Accuracy: 8256/10000 (82.56%)\n",
      "\n",
      "Validation accuracy increased (82.250000 --> 82.560000).  Saving model ...\n",
      "Learning rate = 0.0061767339628394724  for epoch:  139\n",
      "EPOCH: 139\n"
     ]
    },
    {
     "name": "stderr",
     "output_type": "stream",
     "text": [
      "Loss=0.9472706913948059 Batch_id=390 Accuracy=74.83: 100%|███████████████████████████████████████████████████████████████████████████████████████████████████████████████████████████████████████| 391/391 [00:27<00:00, 14.33it/s]\n"
     ]
    },
    {
     "name": "stdout",
     "output_type": "stream",
     "text": [
      "\n",
      "Test set: Average loss: 0.0042, Accuracy: 8217/10000 (82.17%)\n",
      "\n",
      "Learning rate = 0.0061767339628394724  for epoch:  140\n",
      "EPOCH: 140\n"
     ]
    },
    {
     "name": "stderr",
     "output_type": "stream",
     "text": [
      "Loss=0.788360059261322 Batch_id=390 Accuracy=74.88: 100%|████████████████████████████████████████████████████████████████████████████████████████████████████████████████████████████████████████| 391/391 [00:27<00:00, 14.15it/s]\n"
     ]
    },
    {
     "name": "stdout",
     "output_type": "stream",
     "text": [
      "\n",
      "Test set: Average loss: 0.0041, Accuracy: 8243/10000 (82.43%)\n",
      "\n",
      "Learning rate = 0.0061767339628394724  for epoch:  141\n",
      "EPOCH: 141\n"
     ]
    },
    {
     "name": "stderr",
     "output_type": "stream",
     "text": [
      "Loss=0.7933165431022644 Batch_id=390 Accuracy=74.69: 100%|███████████████████████████████████████████████████████████████████████████████████████████████████████████████████████████████████████| 391/391 [00:26<00:00, 14.61it/s]\n"
     ]
    },
    {
     "name": "stdout",
     "output_type": "stream",
     "text": [
      "\n",
      "Test set: Average loss: 0.0041, Accuracy: 8198/10000 (81.98%)\n",
      "\n",
      "Learning rate = 0.0061767339628394724  for epoch:  142\n",
      "EPOCH: 142\n"
     ]
    },
    {
     "name": "stderr",
     "output_type": "stream",
     "text": [
      "Loss=0.9265214800834656 Batch_id=390 Accuracy=74.79: 100%|███████████████████████████████████████████████████████████████████████████████████████████████████████████████████████████████████████| 391/391 [00:26<00:00, 14.73it/s]\n"
     ]
    },
    {
     "name": "stdout",
     "output_type": "stream",
     "text": [
      "\n",
      "Test set: Average loss: 0.0042, Accuracy: 8205/10000 (82.05%)\n",
      "\n",
      "Learning rate = 0.0061767339628394724  for epoch:  143\n",
      "EPOCH: 143\n"
     ]
    },
    {
     "name": "stderr",
     "output_type": "stream",
     "text": [
      "Loss=0.6608954071998596 Batch_id=390 Accuracy=74.63: 100%|███████████████████████████████████████████████████████████████████████████████████████████████████████████████████████████████████████| 391/391 [00:27<00:00, 14.17it/s]\n"
     ]
    },
    {
     "name": "stdout",
     "output_type": "stream",
     "text": [
      "\n",
      "Test set: Average loss: 0.0041, Accuracy: 8235/10000 (82.35%)\n",
      "\n",
      "Learning rate = 0.0061767339628394724  for epoch:  144\n",
      "EPOCH: 144\n"
     ]
    },
    {
     "name": "stderr",
     "output_type": "stream",
     "text": [
      "Loss=0.636177122592926 Batch_id=390 Accuracy=74.79: 100%|████████████████████████████████████████████████████████████████████████████████████████████████████████████████████████████████████████| 391/391 [00:28<00:00, 13.95it/s]\n"
     ]
    },
    {
     "name": "stdout",
     "output_type": "stream",
     "text": [
      "\n",
      "Test set: Average loss: 0.0042, Accuracy: 8172/10000 (81.72%)\n",
      "\n",
      "Epoch 00144: reducing learning rate of group 0 to 5.5591e-03.\n",
      "Learning rate = 0.005559060566555525  for epoch:  145\n",
      "EPOCH: 145\n"
     ]
    },
    {
     "name": "stderr",
     "output_type": "stream",
     "text": [
      "Loss=0.7200624942779541 Batch_id=390 Accuracy=74.84: 100%|███████████████████████████████████████████████████████████████████████████████████████████████████████████████████████████████████████| 391/391 [00:27<00:00, 13.98it/s]\n"
     ]
    },
    {
     "name": "stdout",
     "output_type": "stream",
     "text": [
      "\n",
      "Test set: Average loss: 0.0042, Accuracy: 8223/10000 (82.23%)\n",
      "\n",
      "Learning rate = 0.005559060566555525  for epoch:  146\n",
      "EPOCH: 146\n"
     ]
    },
    {
     "name": "stderr",
     "output_type": "stream",
     "text": [
      "Loss=0.7648161053657532 Batch_id=390 Accuracy=74.76: 100%|███████████████████████████████████████████████████████████████████████████████████████████████████████████████████████████████████████| 391/391 [00:27<00:00, 14.32it/s]\n"
     ]
    },
    {
     "name": "stdout",
     "output_type": "stream",
     "text": [
      "\n",
      "Test set: Average loss: 0.0040, Accuracy: 8244/10000 (82.44%)\n",
      "\n",
      "Learning rate = 0.005559060566555525  for epoch:  147\n",
      "EPOCH: 147\n"
     ]
    },
    {
     "name": "stderr",
     "output_type": "stream",
     "text": [
      "Loss=0.7296947240829468 Batch_id=390 Accuracy=75.10: 100%|███████████████████████████████████████████████████████████████████████████████████████████████████████████████████████████████████████| 391/391 [00:27<00:00, 14.20it/s]\n"
     ]
    },
    {
     "name": "stdout",
     "output_type": "stream",
     "text": [
      "\n",
      "Test set: Average loss: 0.0041, Accuracy: 8277/10000 (82.77%)\n",
      "\n",
      "Validation accuracy increased (82.560000 --> 82.770000).  Saving model ...\n",
      "Learning rate = 0.005559060566555525  for epoch:  148\n",
      "EPOCH: 148\n"
     ]
    },
    {
     "name": "stderr",
     "output_type": "stream",
     "text": [
      "Loss=0.7337604761123657 Batch_id=390 Accuracy=74.85: 100%|███████████████████████████████████████████████████████████████████████████████████████████████████████████████████████████████████████| 391/391 [00:27<00:00, 14.36it/s]\n"
     ]
    },
    {
     "name": "stdout",
     "output_type": "stream",
     "text": [
      "\n",
      "Test set: Average loss: 0.0041, Accuracy: 8255/10000 (82.55%)\n",
      "\n",
      "Learning rate = 0.005559060566555525  for epoch:  149\n",
      "EPOCH: 149\n"
     ]
    },
    {
     "name": "stderr",
     "output_type": "stream",
     "text": [
      "Loss=0.7317488789558411 Batch_id=390 Accuracy=74.94: 100%|███████████████████████████████████████████████████████████████████████████████████████████████████████████████████████████████████████| 391/391 [00:27<00:00, 14.38it/s]\n"
     ]
    },
    {
     "name": "stdout",
     "output_type": "stream",
     "text": [
      "\n",
      "Test set: Average loss: 0.0041, Accuracy: 8275/10000 (82.75%)\n",
      "\n",
      "Learning rate = 0.005559060566555525  for epoch:  150\n",
      "EPOCH: 150\n"
     ]
    },
    {
     "name": "stderr",
     "output_type": "stream",
     "text": [
      "Loss=0.7232749462127686 Batch_id=390 Accuracy=74.81: 100%|███████████████████████████████████████████████████████████████████████████████████████████████████████████████████████████████████████| 391/391 [00:27<00:00, 14.35it/s]\n"
     ]
    },
    {
     "name": "stdout",
     "output_type": "stream",
     "text": [
      "\n",
      "Test set: Average loss: 0.0041, Accuracy: 8241/10000 (82.41%)\n",
      "\n",
      "Epoch 00150: reducing learning rate of group 0 to 5.0032e-03.\n",
      "Learning rate = 0.005003154509899972  for epoch:  151\n",
      "EPOCH: 151\n"
     ]
    },
    {
     "name": "stderr",
     "output_type": "stream",
     "text": [
      "Loss=0.6739251613616943 Batch_id=390 Accuracy=74.82: 100%|███████████████████████████████████████████████████████████████████████████████████████████████████████████████████████████████████████| 391/391 [00:27<00:00, 14.39it/s]\n"
     ]
    },
    {
     "name": "stdout",
     "output_type": "stream",
     "text": [
      "\n",
      "Test set: Average loss: 0.0041, Accuracy: 8234/10000 (82.34%)\n",
      "\n",
      "Learning rate = 0.005003154509899972  for epoch:  152\n",
      "EPOCH: 152\n"
     ]
    },
    {
     "name": "stderr",
     "output_type": "stream",
     "text": [
      "Loss=0.7310374975204468 Batch_id=390 Accuracy=74.95: 100%|███████████████████████████████████████████████████████████████████████████████████████████████████████████████████████████████████████| 391/391 [00:27<00:00, 14.25it/s]\n"
     ]
    },
    {
     "name": "stdout",
     "output_type": "stream",
     "text": [
      "\n",
      "Test set: Average loss: 0.0042, Accuracy: 8190/10000 (81.90%)\n",
      "\n",
      "Learning rate = 0.005003154509899972  for epoch:  153\n",
      "EPOCH: 153\n"
     ]
    },
    {
     "name": "stderr",
     "output_type": "stream",
     "text": [
      "Loss=0.9192808866500854 Batch_id=390 Accuracy=75.04: 100%|███████████████████████████████████████████████████████████████████████████████████████████████████████████████████████████████████████| 391/391 [00:27<00:00, 14.47it/s]\n"
     ]
    },
    {
     "name": "stdout",
     "output_type": "stream",
     "text": [
      "\n",
      "Test set: Average loss: 0.0042, Accuracy: 8216/10000 (82.16%)\n",
      "\n",
      "Learning rate = 0.005003154509899972  for epoch:  154\n",
      "EPOCH: 154\n"
     ]
    },
    {
     "name": "stderr",
     "output_type": "stream",
     "text": [
      "Loss=0.7403759956359863 Batch_id=390 Accuracy=75.16: 100%|███████████████████████████████████████████████████████████████████████████████████████████████████████████████████████████████████████| 391/391 [00:27<00:00, 14.39it/s]\n"
     ]
    },
    {
     "name": "stdout",
     "output_type": "stream",
     "text": [
      "\n",
      "Test set: Average loss: 0.0043, Accuracy: 8183/10000 (81.83%)\n",
      "\n",
      "Learning rate = 0.005003154509899972  for epoch:  155\n",
      "EPOCH: 155\n"
     ]
    },
    {
     "name": "stderr",
     "output_type": "stream",
     "text": [
      "Loss=0.7025471925735474 Batch_id=390 Accuracy=75.25: 100%|███████████████████████████████████████████████████████████████████████████████████████████████████████████████████████████████████████| 391/391 [00:27<00:00, 14.44it/s]\n"
     ]
    },
    {
     "name": "stdout",
     "output_type": "stream",
     "text": [
      "\n",
      "Test set: Average loss: 0.0042, Accuracy: 8234/10000 (82.34%)\n",
      "\n",
      "Learning rate = 0.005003154509899972  for epoch:  156\n",
      "EPOCH: 156\n"
     ]
    },
    {
     "name": "stderr",
     "output_type": "stream",
     "text": [
      "Loss=0.5402306318283081 Batch_id=390 Accuracy=75.06: 100%|███████████████████████████████████████████████████████████████████████████████████████████████████████████████████████████████████████| 391/391 [00:27<00:00, 14.14it/s]\n"
     ]
    },
    {
     "name": "stdout",
     "output_type": "stream",
     "text": [
      "\n",
      "Test set: Average loss: 0.0040, Accuracy: 8254/10000 (82.54%)\n",
      "\n",
      "Epoch 00156: reducing learning rate of group 0 to 4.5028e-03.\n",
      "Learning rate = 0.004502839058909975  for epoch:  157\n",
      "EPOCH: 157\n"
     ]
    },
    {
     "name": "stderr",
     "output_type": "stream",
     "text": [
      "Loss=0.7967749238014221 Batch_id=390 Accuracy=75.24: 100%|███████████████████████████████████████████████████████████████████████████████████████████████████████████████████████████████████████| 391/391 [00:27<00:00, 14.10it/s]\n"
     ]
    },
    {
     "name": "stdout",
     "output_type": "stream",
     "text": [
      "\n",
      "Test set: Average loss: 0.0042, Accuracy: 8218/10000 (82.18%)\n",
      "\n",
      "Learning rate = 0.004502839058909975  for epoch:  158\n",
      "EPOCH: 158\n"
     ]
    },
    {
     "name": "stderr",
     "output_type": "stream",
     "text": [
      "Loss=0.7295593619346619 Batch_id=390 Accuracy=74.94: 100%|███████████████████████████████████████████████████████████████████████████████████████████████████████████████████████████████████████| 391/391 [00:27<00:00, 14.06it/s]\n"
     ]
    },
    {
     "name": "stdout",
     "output_type": "stream",
     "text": [
      "\n",
      "Test set: Average loss: 0.0041, Accuracy: 8234/10000 (82.34%)\n",
      "\n",
      "Learning rate = 0.004502839058909975  for epoch:  159\n",
      "EPOCH: 159\n"
     ]
    },
    {
     "name": "stderr",
     "output_type": "stream",
     "text": [
      "Loss=0.6389944553375244 Batch_id=390 Accuracy=75.27: 100%|███████████████████████████████████████████████████████████████████████████████████████████████████████████████████████████████████████| 391/391 [00:27<00:00, 14.00it/s]\n"
     ]
    },
    {
     "name": "stdout",
     "output_type": "stream",
     "text": [
      "\n",
      "Test set: Average loss: 0.0041, Accuracy: 8236/10000 (82.36%)\n",
      "\n",
      "Learning rate = 0.004502839058909975  for epoch:  160\n",
      "EPOCH: 160\n"
     ]
    },
    {
     "name": "stderr",
     "output_type": "stream",
     "text": [
      "Loss=0.7554314732551575 Batch_id=390 Accuracy=75.38: 100%|███████████████████████████████████████████████████████████████████████████████████████████████████████████████████████████████████████| 391/391 [00:27<00:00, 14.33it/s]\n"
     ]
    },
    {
     "name": "stdout",
     "output_type": "stream",
     "text": [
      "\n",
      "Test set: Average loss: 0.0042, Accuracy: 8213/10000 (82.13%)\n",
      "\n",
      "Learning rate = 0.004502839058909975  for epoch:  161\n",
      "EPOCH: 161\n"
     ]
    },
    {
     "name": "stderr",
     "output_type": "stream",
     "text": [
      "Loss=0.6329212188720703 Batch_id=390 Accuracy=75.29: 100%|███████████████████████████████████████████████████████████████████████████████████████████████████████████████████████████████████████| 391/391 [00:26<00:00, 14.53it/s]\n"
     ]
    },
    {
     "name": "stdout",
     "output_type": "stream",
     "text": [
      "\n",
      "Test set: Average loss: 0.0041, Accuracy: 8249/10000 (82.49%)\n",
      "\n",
      "Learning rate = 0.004502839058909975  for epoch:  162\n",
      "EPOCH: 162\n"
     ]
    },
    {
     "name": "stderr",
     "output_type": "stream",
     "text": [
      "Loss=0.9132344126701355 Batch_id=390 Accuracy=75.11: 100%|███████████████████████████████████████████████████████████████████████████████████████████████████████████████████████████████████████| 391/391 [00:27<00:00, 14.35it/s]\n"
     ]
    },
    {
     "name": "stdout",
     "output_type": "stream",
     "text": [
      "\n",
      "Test set: Average loss: 0.0041, Accuracy: 8257/10000 (82.57%)\n",
      "\n",
      "Epoch 00162: reducing learning rate of group 0 to 4.0526e-03.\n",
      "Learning rate = 0.004052555153018977  for epoch:  163\n",
      "EPOCH: 163\n"
     ]
    },
    {
     "name": "stderr",
     "output_type": "stream",
     "text": [
      "Loss=0.5561728477478027 Batch_id=390 Accuracy=75.34: 100%|███████████████████████████████████████████████████████████████████████████████████████████████████████████████████████████████████████| 391/391 [00:27<00:00, 14.36it/s]\n"
     ]
    },
    {
     "name": "stdout",
     "output_type": "stream",
     "text": [
      "\n",
      "Test set: Average loss: 0.0042, Accuracy: 8219/10000 (82.19%)\n",
      "\n",
      "Learning rate = 0.004052555153018977  for epoch:  164\n",
      "EPOCH: 164\n"
     ]
    },
    {
     "name": "stderr",
     "output_type": "stream",
     "text": [
      "Loss=0.8135251998901367 Batch_id=390 Accuracy=75.49: 100%|███████████████████████████████████████████████████████████████████████████████████████████████████████████████████████████████████████| 391/391 [00:27<00:00, 14.36it/s]\n"
     ]
    },
    {
     "name": "stdout",
     "output_type": "stream",
     "text": [
      "\n",
      "Test set: Average loss: 0.0041, Accuracy: 8252/10000 (82.52%)\n",
      "\n",
      "Learning rate = 0.004052555153018977  for epoch:  165\n",
      "EPOCH: 165\n"
     ]
    },
    {
     "name": "stderr",
     "output_type": "stream",
     "text": [
      "Loss=0.4880647659301758 Batch_id=390 Accuracy=75.19: 100%|███████████████████████████████████████████████████████████████████████████████████████████████████████████████████████████████████████| 391/391 [00:27<00:00, 14.39it/s]\n"
     ]
    },
    {
     "name": "stdout",
     "output_type": "stream",
     "text": [
      "\n",
      "Test set: Average loss: 0.0041, Accuracy: 8252/10000 (82.52%)\n",
      "\n",
      "Learning rate = 0.004052555153018977  for epoch:  166\n",
      "EPOCH: 166\n"
     ]
    },
    {
     "name": "stderr",
     "output_type": "stream",
     "text": [
      "Loss=0.6447237133979797 Batch_id=390 Accuracy=75.24: 100%|███████████████████████████████████████████████████████████████████████████████████████████████████████████████████████████████████████| 391/391 [00:27<00:00, 14.22it/s]\n"
     ]
    },
    {
     "name": "stdout",
     "output_type": "stream",
     "text": [
      "\n",
      "Test set: Average loss: 0.0041, Accuracy: 8226/10000 (82.26%)\n",
      "\n",
      "Learning rate = 0.004052555153018977  for epoch:  167\n",
      "EPOCH: 167\n"
     ]
    },
    {
     "name": "stderr",
     "output_type": "stream",
     "text": [
      "Loss=0.6971637010574341 Batch_id=390 Accuracy=75.37: 100%|███████████████████████████████████████████████████████████████████████████████████████████████████████████████████████████████████████| 391/391 [00:27<00:00, 14.33it/s]\n"
     ]
    },
    {
     "name": "stdout",
     "output_type": "stream",
     "text": [
      "\n",
      "Test set: Average loss: 0.0042, Accuracy: 8210/10000 (82.10%)\n",
      "\n",
      "Learning rate = 0.004052555153018977  for epoch:  168\n",
      "EPOCH: 168\n"
     ]
    },
    {
     "name": "stderr",
     "output_type": "stream",
     "text": [
      "Loss=0.79445481300354 Batch_id=390 Accuracy=75.36: 100%|█████████████████████████████████████████████████████████████████████████████████████████████████████████████████████████████████████████| 391/391 [00:27<00:00, 14.32it/s]\n"
     ]
    },
    {
     "name": "stdout",
     "output_type": "stream",
     "text": [
      "\n",
      "Test set: Average loss: 0.0042, Accuracy: 8221/10000 (82.21%)\n",
      "\n",
      "Epoch 00168: reducing learning rate of group 0 to 3.6473e-03.\n",
      "Learning rate = 0.0036472996377170793  for epoch:  169\n",
      "EPOCH: 169\n"
     ]
    },
    {
     "name": "stderr",
     "output_type": "stream",
     "text": [
      "Loss=0.6220387816429138 Batch_id=390 Accuracy=75.07: 100%|███████████████████████████████████████████████████████████████████████████████████████████████████████████████████████████████████████| 391/391 [00:27<00:00, 14.46it/s]\n"
     ]
    },
    {
     "name": "stdout",
     "output_type": "stream",
     "text": [
      "\n",
      "Test set: Average loss: 0.0040, Accuracy: 8277/10000 (82.77%)\n",
      "\n",
      "Validation accuracy increased (82.770000 --> 82.770000).  Saving model ...\n",
      "Learning rate = 0.0036472996377170793  for epoch:  170\n",
      "EPOCH: 170\n"
     ]
    },
    {
     "name": "stderr",
     "output_type": "stream",
     "text": [
      "Loss=0.5454081296920776 Batch_id=390 Accuracy=75.56: 100%|███████████████████████████████████████████████████████████████████████████████████████████████████████████████████████████████████████| 391/391 [00:27<00:00, 14.28it/s]\n"
     ]
    },
    {
     "name": "stdout",
     "output_type": "stream",
     "text": [
      "\n",
      "Test set: Average loss: 0.0041, Accuracy: 8241/10000 (82.41%)\n",
      "\n",
      "Learning rate = 0.0036472996377170793  for epoch:  171\n",
      "EPOCH: 171\n"
     ]
    },
    {
     "name": "stderr",
     "output_type": "stream",
     "text": [
      "Loss=0.7891591787338257 Batch_id=390 Accuracy=75.38: 100%|███████████████████████████████████████████████████████████████████████████████████████████████████████████████████████████████████████| 391/391 [00:27<00:00, 14.22it/s]\n"
     ]
    },
    {
     "name": "stdout",
     "output_type": "stream",
     "text": [
      "\n",
      "Test set: Average loss: 0.0041, Accuracy: 8258/10000 (82.58%)\n",
      "\n",
      "Learning rate = 0.0036472996377170793  for epoch:  172\n",
      "EPOCH: 172\n"
     ]
    },
    {
     "name": "stderr",
     "output_type": "stream",
     "text": [
      "Loss=1.0558568239212036 Batch_id=390 Accuracy=75.42: 100%|███████████████████████████████████████████████████████████████████████████████████████████████████████████████████████████████████████| 391/391 [00:27<00:00, 14.36it/s]\n"
     ]
    },
    {
     "name": "stdout",
     "output_type": "stream",
     "text": [
      "\n",
      "Test set: Average loss: 0.0044, Accuracy: 8171/10000 (81.71%)\n",
      "\n",
      "Learning rate = 0.0036472996377170793  for epoch:  173\n",
      "EPOCH: 173\n"
     ]
    },
    {
     "name": "stderr",
     "output_type": "stream",
     "text": [
      "Loss=0.784899115562439 Batch_id=390 Accuracy=75.28: 100%|████████████████████████████████████████████████████████████████████████████████████████████████████████████████████████████████████████| 391/391 [00:27<00:00, 14.36it/s]\n"
     ]
    },
    {
     "name": "stdout",
     "output_type": "stream",
     "text": [
      "\n",
      "Test set: Average loss: 0.0041, Accuracy: 8239/10000 (82.39%)\n",
      "\n",
      "Learning rate = 0.0036472996377170793  for epoch:  174\n",
      "EPOCH: 174\n"
     ]
    },
    {
     "name": "stderr",
     "output_type": "stream",
     "text": [
      "Loss=0.762627124786377 Batch_id=390 Accuracy=75.21: 100%|████████████████████████████████████████████████████████████████████████████████████████████████████████████████████████████████████████| 391/391 [00:27<00:00, 14.34it/s]\n"
     ]
    },
    {
     "name": "stdout",
     "output_type": "stream",
     "text": [
      "\n",
      "Test set: Average loss: 0.0041, Accuracy: 8267/10000 (82.67%)\n",
      "\n",
      "Epoch 00174: reducing learning rate of group 0 to 3.2826e-03.\n",
      "Learning rate = 0.0032825696739453717  for epoch:  175\n",
      "EPOCH: 175\n"
     ]
    },
    {
     "name": "stderr",
     "output_type": "stream",
     "text": [
      "Loss=0.9017875790596008 Batch_id=390 Accuracy=75.41: 100%|███████████████████████████████████████████████████████████████████████████████████████████████████████████████████████████████████████| 391/391 [00:27<00:00, 14.15it/s]\n"
     ]
    },
    {
     "name": "stdout",
     "output_type": "stream",
     "text": [
      "\n",
      "Test set: Average loss: 0.0043, Accuracy: 8199/10000 (81.99%)\n",
      "\n",
      "Learning rate = 0.0032825696739453717  for epoch:  176\n",
      "EPOCH: 176\n"
     ]
    },
    {
     "name": "stderr",
     "output_type": "stream",
     "text": [
      "Loss=0.6069811582565308 Batch_id=390 Accuracy=75.40: 100%|███████████████████████████████████████████████████████████████████████████████████████████████████████████████████████████████████████| 391/391 [00:28<00:00, 13.85it/s]\n"
     ]
    },
    {
     "name": "stdout",
     "output_type": "stream",
     "text": [
      "\n",
      "Test set: Average loss: 0.0042, Accuracy: 8226/10000 (82.26%)\n",
      "\n",
      "Learning rate = 0.0032825696739453717  for epoch:  177\n",
      "EPOCH: 177\n"
     ]
    },
    {
     "name": "stderr",
     "output_type": "stream",
     "text": [
      "Loss=0.8399609327316284 Batch_id=390 Accuracy=75.19: 100%|███████████████████████████████████████████████████████████████████████████████████████████████████████████████████████████████████████| 391/391 [00:27<00:00, 14.02it/s]\n"
     ]
    },
    {
     "name": "stdout",
     "output_type": "stream",
     "text": [
      "\n",
      "Test set: Average loss: 0.0041, Accuracy: 8223/10000 (82.23%)\n",
      "\n",
      "Learning rate = 0.0032825696739453717  for epoch:  178\n",
      "EPOCH: 178\n"
     ]
    },
    {
     "name": "stderr",
     "output_type": "stream",
     "text": [
      "Loss=0.6523216366767883 Batch_id=390 Accuracy=75.20: 100%|███████████████████████████████████████████████████████████████████████████████████████████████████████████████████████████████████████| 391/391 [00:27<00:00, 14.03it/s]\n"
     ]
    },
    {
     "name": "stdout",
     "output_type": "stream",
     "text": [
      "\n",
      "Test set: Average loss: 0.0041, Accuracy: 8266/10000 (82.66%)\n",
      "\n",
      "Learning rate = 0.0032825696739453717  for epoch:  179\n",
      "EPOCH: 179\n"
     ]
    },
    {
     "name": "stderr",
     "output_type": "stream",
     "text": [
      "Loss=0.5652504563331604 Batch_id=390 Accuracy=75.56: 100%|███████████████████████████████████████████████████████████████████████████████████████████████████████████████████████████████████████| 391/391 [00:28<00:00, 13.66it/s]\n"
     ]
    },
    {
     "name": "stdout",
     "output_type": "stream",
     "text": [
      "\n",
      "Test set: Average loss: 0.0041, Accuracy: 8241/10000 (82.41%)\n",
      "\n",
      "Learning rate = 0.0032825696739453717  for epoch:  180\n",
      "EPOCH: 180\n"
     ]
    },
    {
     "name": "stderr",
     "output_type": "stream",
     "text": [
      "Loss=0.7489526867866516 Batch_id=390 Accuracy=75.67: 100%|███████████████████████████████████████████████████████████████████████████████████████████████████████████████████████████████████████| 391/391 [00:28<00:00, 13.75it/s]\n"
     ]
    },
    {
     "name": "stdout",
     "output_type": "stream",
     "text": [
      "\n",
      "Test set: Average loss: 0.0041, Accuracy: 8242/10000 (82.42%)\n",
      "\n",
      "Epoch 00180: reducing learning rate of group 0 to 2.9543e-03.\n",
      "Learning rate = 0.0029543127065508345  for epoch:  181\n",
      "EPOCH: 181\n"
     ]
    },
    {
     "name": "stderr",
     "output_type": "stream",
     "text": [
      "Loss=0.6736444234848022 Batch_id=390 Accuracy=75.81: 100%|███████████████████████████████████████████████████████████████████████████████████████████████████████████████████████████████████████| 391/391 [00:27<00:00, 14.40it/s]\n"
     ]
    },
    {
     "name": "stdout",
     "output_type": "stream",
     "text": [
      "\n",
      "Test set: Average loss: 0.0040, Accuracy: 8263/10000 (82.63%)\n",
      "\n",
      "Learning rate = 0.0029543127065508345  for epoch:  182\n",
      "EPOCH: 182\n"
     ]
    },
    {
     "name": "stderr",
     "output_type": "stream",
     "text": [
      "Loss=0.6479900479316711 Batch_id=390 Accuracy=75.54: 100%|███████████████████████████████████████████████████████████████████████████████████████████████████████████████████████████████████████| 391/391 [00:27<00:00, 14.14it/s]\n"
     ]
    },
    {
     "name": "stdout",
     "output_type": "stream",
     "text": [
      "\n",
      "Test set: Average loss: 0.0040, Accuracy: 8286/10000 (82.86%)\n",
      "\n",
      "Validation accuracy increased (82.770000 --> 82.860000).  Saving model ...\n",
      "Learning rate = 0.0029543127065508345  for epoch:  183\n",
      "EPOCH: 183\n"
     ]
    },
    {
     "name": "stderr",
     "output_type": "stream",
     "text": [
      "Loss=0.9113090634346008 Batch_id=390 Accuracy=75.48: 100%|███████████████████████████████████████████████████████████████████████████████████████████████████████████████████████████████████████| 391/391 [00:26<00:00, 14.78it/s]\n"
     ]
    },
    {
     "name": "stdout",
     "output_type": "stream",
     "text": [
      "\n",
      "Test set: Average loss: 0.0041, Accuracy: 8256/10000 (82.56%)\n",
      "\n",
      "Learning rate = 0.0029543127065508345  for epoch:  184\n",
      "EPOCH: 184\n"
     ]
    },
    {
     "name": "stderr",
     "output_type": "stream",
     "text": [
      "Loss=0.8605688214302063 Batch_id=390 Accuracy=75.39: 100%|███████████████████████████████████████████████████████████████████████████████████████████████████████████████████████████████████████| 391/391 [00:27<00:00, 14.18it/s]\n"
     ]
    },
    {
     "name": "stdout",
     "output_type": "stream",
     "text": [
      "\n",
      "Test set: Average loss: 0.0040, Accuracy: 8292/10000 (82.92%)\n",
      "\n",
      "Validation accuracy increased (82.860000 --> 82.920000).  Saving model ...\n",
      "Learning rate = 0.0029543127065508345  for epoch:  185\n",
      "EPOCH: 185\n"
     ]
    },
    {
     "name": "stderr",
     "output_type": "stream",
     "text": [
      "Loss=0.6552225351333618 Batch_id=390 Accuracy=75.29: 100%|███████████████████████████████████████████████████████████████████████████████████████████████████████████████████████████████████████| 391/391 [00:29<00:00, 13.46it/s]\n"
     ]
    },
    {
     "name": "stdout",
     "output_type": "stream",
     "text": [
      "\n",
      "Test set: Average loss: 0.0041, Accuracy: 8238/10000 (82.38%)\n",
      "\n",
      "Learning rate = 0.0029543127065508345  for epoch:  186\n",
      "EPOCH: 186\n"
     ]
    },
    {
     "name": "stderr",
     "output_type": "stream",
     "text": [
      "Loss=0.7932536005973816 Batch_id=390 Accuracy=75.74: 100%|███████████████████████████████████████████████████████████████████████████████████████████████████████████████████████████████████████| 391/391 [00:28<00:00, 13.62it/s]\n"
     ]
    },
    {
     "name": "stdout",
     "output_type": "stream",
     "text": [
      "\n",
      "Test set: Average loss: 0.0041, Accuracy: 8245/10000 (82.45%)\n",
      "\n",
      "Epoch 00186: reducing learning rate of group 0 to 2.6589e-03.\n",
      "Learning rate = 0.002658881435895751  for epoch:  187\n",
      "EPOCH: 187\n"
     ]
    },
    {
     "name": "stderr",
     "output_type": "stream",
     "text": [
      "Loss=0.7381945848464966 Batch_id=390 Accuracy=75.65: 100%|███████████████████████████████████████████████████████████████████████████████████████████████████████████████████████████████████████| 391/391 [00:29<00:00, 13.35it/s]\n"
     ]
    },
    {
     "name": "stdout",
     "output_type": "stream",
     "text": [
      "\n",
      "Test set: Average loss: 0.0042, Accuracy: 8252/10000 (82.52%)\n",
      "\n",
      "Learning rate = 0.002658881435895751  for epoch:  188\n",
      "EPOCH: 188\n"
     ]
    },
    {
     "name": "stderr",
     "output_type": "stream",
     "text": [
      "Loss=0.5536023378372192 Batch_id=390 Accuracy=75.61: 100%|███████████████████████████████████████████████████████████████████████████████████████████████████████████████████████████████████████| 391/391 [00:27<00:00, 13.99it/s]\n"
     ]
    },
    {
     "name": "stdout",
     "output_type": "stream",
     "text": [
      "\n",
      "Test set: Average loss: 0.0040, Accuracy: 8299/10000 (82.99%)\n",
      "\n",
      "Validation accuracy increased (82.920000 --> 82.990000).  Saving model ...\n",
      "Learning rate = 0.002658881435895751  for epoch:  189\n",
      "EPOCH: 189\n"
     ]
    },
    {
     "name": "stderr",
     "output_type": "stream",
     "text": [
      "Loss=0.6961430311203003 Batch_id=390 Accuracy=75.57: 100%|███████████████████████████████████████████████████████████████████████████████████████████████████████████████████████████████████████| 391/391 [00:30<00:00, 12.89it/s]\n"
     ]
    },
    {
     "name": "stdout",
     "output_type": "stream",
     "text": [
      "\n",
      "Test set: Average loss: 0.0040, Accuracy: 8271/10000 (82.71%)\n",
      "\n",
      "Learning rate = 0.002658881435895751  for epoch:  190\n",
      "EPOCH: 190\n"
     ]
    },
    {
     "name": "stderr",
     "output_type": "stream",
     "text": [
      "Loss=0.6171402931213379 Batch_id=390 Accuracy=75.61: 100%|███████████████████████████████████████████████████████████████████████████████████████████████████████████████████████████████████████| 391/391 [00:30<00:00, 12.97it/s]\n"
     ]
    },
    {
     "name": "stdout",
     "output_type": "stream",
     "text": [
      "\n",
      "Test set: Average loss: 0.0041, Accuracy: 8253/10000 (82.53%)\n",
      "\n",
      "Learning rate = 0.002658881435895751  for epoch:  191\n",
      "EPOCH: 191\n"
     ]
    },
    {
     "name": "stderr",
     "output_type": "stream",
     "text": [
      "Loss=0.6451244354248047 Batch_id=390 Accuracy=75.68: 100%|███████████████████████████████████████████████████████████████████████████████████████████████████████████████████████████████████████| 391/391 [00:28<00:00, 13.72it/s]\n"
     ]
    },
    {
     "name": "stdout",
     "output_type": "stream",
     "text": [
      "\n",
      "Test set: Average loss: 0.0041, Accuracy: 8254/10000 (82.54%)\n",
      "\n",
      "Learning rate = 0.002658881435895751  for epoch:  192\n",
      "EPOCH: 192\n"
     ]
    },
    {
     "name": "stderr",
     "output_type": "stream",
     "text": [
      "Loss=0.6074718236923218 Batch_id=390 Accuracy=75.67: 100%|███████████████████████████████████████████████████████████████████████████████████████████████████████████████████████████████████████| 391/391 [00:28<00:00, 13.93it/s]\n"
     ]
    },
    {
     "name": "stdout",
     "output_type": "stream",
     "text": [
      "\n",
      "Test set: Average loss: 0.0040, Accuracy: 8281/10000 (82.81%)\n",
      "\n",
      "Epoch 00192: reducing learning rate of group 0 to 2.3930e-03.\n",
      "Learning rate = 0.002392993292306176  for epoch:  193\n",
      "EPOCH: 193\n"
     ]
    },
    {
     "name": "stderr",
     "output_type": "stream",
     "text": [
      "Loss=0.6421353220939636 Batch_id=390 Accuracy=75.64: 100%|███████████████████████████████████████████████████████████████████████████████████████████████████████████████████████████████████████| 391/391 [00:27<00:00, 13.97it/s]\n"
     ]
    },
    {
     "name": "stdout",
     "output_type": "stream",
     "text": [
      "\n",
      "Test set: Average loss: 0.0041, Accuracy: 8276/10000 (82.76%)\n",
      "\n",
      "Learning rate = 0.002392993292306176  for epoch:  194\n",
      "EPOCH: 194\n"
     ]
    },
    {
     "name": "stderr",
     "output_type": "stream",
     "text": [
      "Loss=0.6868264675140381 Batch_id=390 Accuracy=75.52: 100%|███████████████████████████████████████████████████████████████████████████████████████████████████████████████████████████████████████| 391/391 [00:28<00:00, 13.83it/s]\n"
     ]
    },
    {
     "name": "stdout",
     "output_type": "stream",
     "text": [
      "\n",
      "Test set: Average loss: 0.0040, Accuracy: 8289/10000 (82.89%)\n",
      "\n",
      "Learning rate = 0.002392993292306176  for epoch:  195\n",
      "EPOCH: 195\n"
     ]
    },
    {
     "name": "stderr",
     "output_type": "stream",
     "text": [
      "Loss=0.7626842856407166 Batch_id=390 Accuracy=75.88: 100%|███████████████████████████████████████████████████████████████████████████████████████████████████████████████████████████████████████| 391/391 [00:28<00:00, 13.83it/s]\n"
     ]
    },
    {
     "name": "stdout",
     "output_type": "stream",
     "text": [
      "\n",
      "Test set: Average loss: 0.0041, Accuracy: 8272/10000 (82.72%)\n",
      "\n",
      "Learning rate = 0.002392993292306176  for epoch:  196\n",
      "EPOCH: 196\n"
     ]
    },
    {
     "name": "stderr",
     "output_type": "stream",
     "text": [
      "Loss=0.6857674717903137 Batch_id=40 Accuracy=76.31:  10%|██████████████                                                                                                                           | 40/391 [00:14<00:17, 20.18it/s]"
     ]
    }
   ],
   "source": [
    "lr_data = []\n",
    "class_correct = list(0. for i in range(10))\n",
    "class_total = list(0. for i in range(10))\n",
    "epochs = 201\n",
    "for epoch in range(1, epochs):\n",
    "    print(\"EPOCH:\", epoch)\n",
    "    train_model.train(cnn_model, device, train_loader, optimizer, 1)\n",
    "    t_acc_epoch = train_model.test(cnn_model, device, test_loader, class_correct=class_correct,\n",
    "                                   class_total=class_total, epoch=epoch)\n",
    "    scheduler.step(t_acc_epoch)\n",
    "    for param_groups in optimizer.param_groups:\n",
    "        print(\"Learning rate =\", param_groups['lr'], \" for epoch: \", epoch + 1)  # print LR for different epochs\n",
    "        lr_data.append(param_groups['lr'])"
   ]
  },
  {
   "cell_type": "code",
   "execution_count": null,
   "metadata": {
    "colab": {},
    "colab_type": "code",
    "id": "8U-Tpdq3naQv",
    "pycharm": {
     "is_executing": false
    }
   },
   "outputs": [],
   "source": [
    "import numpy as np\n",
    "for i in range(10):\n",
    "    if class_total[i] > 0:\n",
    "        print('Test Accuracy of %5s: %2d%% (%2d/%2d)' % (\n",
    "            classes[i], 100 * class_correct[i] / class_total[i],\n",
    "            np.sum(class_correct[i]), np.sum(class_total[i])))\n",
    "    else:\n",
    "        print('Test Accuracy of %5s: N/A (no training examples)' % (classes[i]))\n",
    "\n",
    "print('\\nTest Accuracy (Overall): %2d%% (%2d/%2d)' % (\n",
    "    100. * np.sum(class_correct) / np.sum(class_total),\n",
    "    np.sum(class_correct), np.sum(class_total)))"
   ]
  },
  {
   "cell_type": "code",
   "execution_count": null,
   "metadata": {
    "pycharm": {
     "is_executing": false
    }
   },
   "outputs": [],
   "source": [
    "# obtain one batch of test images\n",
    "dataiterator = iter(test_loader)\n",
    "plotdata.PlotData.plotmisclassifiedimages(dataiterator=dataiterator,model=cnn_model,classes=classes)"
   ]
  },
  {
   "cell_type": "code",
   "execution_count": null,
   "metadata": {},
   "outputs": [],
   "source": [
    "train_losses, train_acc = train_model.gettraindata()\n",
    "test_losses, test_acc = train_model.gettestdata()\n",
    "plotdata.PlotData.plottesttraingraph(train_losses=train_losses,train_acc=train_acc,test_losses=test_losses,\n",
    "                                     test_acc=test_acc,lr_data=lr_data)"
   ]
  },
  {
   "cell_type": "code",
   "execution_count": null,
   "metadata": {},
   "outputs": [],
   "source": [
    "utils.Utils.savemodel(model=cnn_model,epoch=epochs,path=\"savedmodels/finalmodelwithdata.pt\",optimizer_state_dict=optimizer.state_dict\n",
    "                      ,train_losses=train_losses, train_acc=train_acc, test_acc=test_acc,\n",
    "                      test_losses=test_losses)"
   ]
  },
  {
   "cell_type": "code",
   "execution_count": null,
   "metadata": {},
   "outputs": [],
   "source": []
  },
  {
   "cell_type": "code",
   "execution_count": null,
   "metadata": {},
   "outputs": [],
   "source": []
  },
  {
   "cell_type": "code",
   "execution_count": null,
   "metadata": {},
   "outputs": [],
   "source": []
  }
 ],
 "metadata": {
  "accelerator": "GPU",
  "colab": {
   "collapsed_sections": [],
   "include_colab_link": true,
   "name": "A6-L1L2Regularisation.ipynb",
   "provenance": []
  },
  "kernelspec": {
   "display_name": "Python 3 (ipykernel)",
   "language": "python",
   "name": "python3"
  },
  "language_info": {
   "codemirror_mode": {
    "name": "ipython",
    "version": 3
   },
   "file_extension": ".py",
   "mimetype": "text/x-python",
   "name": "python",
   "nbconvert_exporter": "python",
   "pygments_lexer": "ipython3",
   "version": "3.10.11"
  },
  "pycharm": {
   "stem_cell": {
    "cell_type": "raw",
    "metadata": {
     "collapsed": false
    },
    "source": []
   }
  }
 },
 "nbformat": 4,
 "nbformat_minor": 4
}
